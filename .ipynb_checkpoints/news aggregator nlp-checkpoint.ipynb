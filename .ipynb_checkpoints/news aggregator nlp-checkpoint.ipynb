{
 "cells": [
  {
   "cell_type": "code",
   "execution_count": 2,
   "id": "730a803c",
   "metadata": {},
   "outputs": [
    {
     "name": "stderr",
     "output_type": "stream",
     "text": [
      "C:\\Users\\Vaibhav\\anaconda3\\lib\\site-packages\\ipykernel\\ipkernel.py:287: DeprecationWarning: `should_run_async` will not call `transform_cell` automatically in the future. Please pass the result to `transformed_cell` argument and any exception that happen during thetransform in `preprocessing_exc_tuple` in IPython 7.17 and above.\n",
      "  and should_run_async(code)\n"
     ]
    }
   ],
   "source": [
    "import re\n",
    "import numpy as np\n",
    "import pandas as pd\n",
    "from pprint import pprint\n",
    "\n",
    "# Gensim\n",
    "import gensim\n",
    "import gensim.corpora as corpora\n",
    "from gensim.utils import simple_preprocess\n",
    "from gensim.models import CoherenceModel, LdaModel, LsiModel, HdpModel\n",
    "\n",
    "# spacy for lemmatization\n",
    "import spacy\n",
    "\n",
    "# Plotting tools\n",
    "import pyLDAvis\n",
    "import pyLDAvis.gensim_models as gensimvis \n",
    "import matplotlib.pyplot as plt\n",
    "%matplotlib inline\n",
    "\n",
    "# Enable logging for gensim - optional\n",
    "import logging\n",
    "logging.basicConfig(format='%(asctime)s : %(levelname)s : %(message)s', level=logging.ERROR)\n",
    "\n",
    "import warnings"
   ]
  },
  {
   "cell_type": "code",
   "execution_count": 5,
   "id": "dbe7427c",
   "metadata": {},
   "outputs": [
    {
     "name": "stderr",
     "output_type": "stream",
     "text": [
      "C:\\Users\\Vaibhav\\anaconda3\\lib\\site-packages\\ipykernel\\ipkernel.py:287: DeprecationWarning: `should_run_async` will not call `transform_cell` automatically in the future. Please pass the result to `transformed_cell` argument and any exception that happen during thetransform in `preprocessing_exc_tuple` in IPython 7.17 and above.\n",
      "  and should_run_async(code)\n",
      "[nltk_data] Downloading package stopwords to\n",
      "[nltk_data]     C:\\Users\\Vaibhav\\AppData\\Roaming\\nltk_data...\n",
      "[nltk_data]   Unzipping corpora\\stopwords.zip.\n"
     ]
    }
   ],
   "source": [
    "# NLTK Stop words\n",
    "import nltk\n",
    "nltk.download('stopwords')\n",
    "stop_words = stopwords.words('english')\n",
    "stop_words.extend(['from', 'subject', 're', 'edu', 'use','a','about', 'above', 'across'])"
   ]
  },
  {
   "cell_type": "code",
   "execution_count": 6,
   "id": "dce01a3e",
   "metadata": {},
   "outputs": [
    {
     "name": "stderr",
     "output_type": "stream",
     "text": [
      "C:\\Users\\Vaibhav\\anaconda3\\lib\\site-packages\\ipykernel\\ipkernel.py:287: DeprecationWarning: `should_run_async` will not call `transform_cell` automatically in the future. Please pass the result to `transformed_cell` argument and any exception that happen during thetransform in `preprocessing_exc_tuple` in IPython 7.17 and above.\n",
      "  and should_run_async(code)\n"
     ]
    }
   ],
   "source": [
    "st1= ['after', 'afterwards','again','against', 'all', 'almost','alone','along',\n",
    "           'already',\n",
    "           'also',\n",
    "           'although',\n",
    "           'always',\n",
    "           'am',\n",
    "           'among',\n",
    "           'amongst',\n",
    "           'amoungst',\n",
    "           'amount',\n",
    "           'an',\n",
    "           'and',\n",
    "           'another',\n",
    "           'any',\n",
    "           'anyhow',\n",
    "           'anyone',\n",
    "           'anything',\n",
    "           'anyway',\n",
    "           'anywhere',\n",
    "           'are',\n",
    "           'around',\n",
    "           'as',\n",
    "           'at',\n",
    "           'back',\n",
    "           'be',\n",
    "           'became',\n",
    "           'because',\n",
    "           'become',\n",
    "           'becomes',\n",
    "           'becoming',\n",
    "           'been',\n",
    "           'before',\n",
    "           'beforehand',\n",
    "           'behind',\n",
    "           'being',\n",
    "           'below',\n",
    "           'beside',\n",
    "           'besides',\n",
    "           'between',\n",
    "           'beyond',\n",
    "           'bill',\n",
    "           'both',\n",
    "           'bottom',\n",
    "           'but',\n",
    "           'by',\n",
    "           'call',\n",
    "           'can',\n",
    "           'cannot',\n",
    "           'cant',\n",
    "           'co',\n",
    "           'con',\n",
    "           'could',\n",
    "           'couldnt',\n",
    "           'cry',\n",
    "           'de',\n",
    "           'describe',\n",
    "           'detail',\n",
    "           'do',\n",
    "           'done',\n",
    "           'down',\n",
    "           'due',\n",
    "           'during',\n",
    "           'each',\n",
    "           'eg',\n",
    "           'eight',\n",
    "           'either',\n",
    "           'eleven',\n",
    "           'else',\n",
    "           'elsewhere',\n",
    "           'empty',\n",
    "           'enough',\n",
    "           'etc',\n",
    "           'even',\n",
    "           'ever',\n",
    "           'every',\n",
    "           'everyone',\n",
    "           'everything',\n",
    "           'everywhere',\n",
    "           'except',\n",
    "           'few',\n",
    "           'fifteen',\n",
    "           'fifty',\n",
    "           'fill',\n",
    "           'find',\n",
    "           'fire',\n",
    "           'first',\n",
    "           'five',\n",
    "           'for',\n",
    "           'former',\n",
    "           'formerly',\n",
    "           'forty',\n",
    "           'found',\n",
    "           'four',\n",
    "           'from',\n",
    "           'front',\n",
    "           'full',\n",
    "           'further',\n",
    "           'get',\n",
    "           'give',\n",
    "           'go',\n",
    "           'had',\n",
    "           'has',\n",
    "           'hasnt',\n",
    "           'have',\n",
    "           'he',\n",
    "           'hence',\n",
    "           'her',\n",
    "           'here',\n",
    "           'hereafter',\n",
    "           'hereby',\n",
    "           'herein',\n",
    "           'hereupon',\n",
    "           'hers',\n",
    "           'herself',\n",
    "           'him',\n",
    "           'himself',\n",
    "           'his',\n",
    "           'how',\n",
    "           'however',\n",
    "           'hundred',\n",
    "           'i',\n",
    "           'ie',\n",
    "           'if',\n",
    "           'in',\n",
    "           'inc',\n",
    "           'indeed',\n",
    "           'interest',\n",
    "           'into',\n",
    "           'is',\n",
    "           'it',\n",
    "           'its',\n",
    "           'itself',\n",
    "           'keep',\n",
    "           'last',\n",
    "           'latter',\n",
    "           'latterly',\n",
    "           'least',\n",
    "           'less',\n",
    "           'ltd',\n",
    "           'made',\n",
    "           'many',\n",
    "           'may',\n",
    "           'me',\n",
    "           'meanwhile',\n",
    "           'might',\n",
    "           'mill',\n",
    "           'mine',\n",
    "           'more',\n",
    "           'moreover',\n",
    "           'most',\n",
    "           'mostly',\n",
    "           'move',\n",
    "           'much',\n",
    "           'must',\n",
    "           'my',\n",
    "           'myself',\n",
    "           'name',\n",
    "           'namely',\n",
    "           'neither',\n",
    "           'never',\n",
    "           'nevertheless',\n",
    "           'next',\n",
    "           'nine',\n",
    "           'no',\n",
    "           'nobody',\n",
    "           'none',\n",
    "           'noone',\n",
    "           'nor',\n",
    "           'not',\n",
    "           'nothing',\n",
    "           'now',\n",
    "           'nowhere',\n",
    "           'of',\n",
    "           'off',\n",
    "           'often',\n",
    "           'on',\n",
    "           'once',\n",
    "           'one',\n",
    "           'only',\n",
    "           'onto',\n",
    "           'or',\n",
    "           'other',\n",
    "           'others',\n",
    "           'otherwise',\n",
    "           'our',\n",
    "           'ours',\n",
    "           'ourselves',\n",
    "           'out',\n",
    "           'over',\n",
    "           'own',\n",
    "           'part',\n",
    "           'per',\n",
    "           'perhaps',\n",
    "           'please',\n",
    "           'put',\n",
    "           'rather',\n",
    "           're',\n",
    "           'same',\n",
    "           'see',\n",
    "           'seem',\n",
    "           'seemed',\n",
    "           'seeming',\n",
    "           'seems',\n",
    "           'serious',\n",
    "           'several',\n",
    "           'she',\n",
    "           'should',\n",
    "           'show',\n",
    "           'side',\n",
    "           'since',\n",
    "           'sincere',\n",
    "           'six',\n",
    "           'sixty',\n",
    "           'so',\n",
    "           'some',\n",
    "           'somehow',\n",
    "           'someone',\n",
    "           'something',\n",
    "           'sometime',\n",
    "           'sometimes',\n",
    "           'somewhere',\n",
    "           'still',\n",
    "           'such',\n",
    "           'system',\n",
    "           'take',\n",
    "           'ten',\n",
    "           'than',\n",
    "           'that',\n",
    "           'the',\n",
    "           'their',\n",
    "           'them',\n",
    "           'themselves',\n",
    "           'then',\n",
    "           'thence',\n",
    "           'there',\n",
    "           'thereafter',\n",
    "           'thereby',\n",
    "           'therefore',\n",
    "           'therein',\n",
    "           'thereupon',\n",
    "           'these',\n",
    "           'they',\n",
    "           'thick',\n",
    "           'thin',\n",
    "           'third',\n",
    "           'this',\n",
    "           'those',\n",
    "           'though',\n",
    "           'three',\n",
    "           'through',\n",
    "           'throughout',\n",
    "           'thru',\n",
    "           'thus',\n",
    "           'to',\n",
    "           'together',\n",
    "           'too',\n",
    "           'top',\n",
    "           'toward',\n",
    "           'towards',\n",
    "           'twelve',\n",
    "           'twenty',\n",
    "           'two',\n",
    "           'un',\n",
    "           'under',\n",
    "           'until',\n",
    "           'up',\n",
    "           'upon',\n",
    "           'us',\n",
    "           'very',\n",
    "           'via',\n",
    "           'was',\n",
    "           'we',\n",
    "           'well',\n",
    "           'were',\n",
    "           'what',\n",
    "           'whatever',\n",
    "           'when',\n",
    "           'whence',\n",
    "           'whenever',\n",
    "           'where',\n",
    "           'whereafter',\n",
    "           'whereas',\n",
    "           'whereby',\n",
    "           'wherein',\n",
    "           'whereupon',\n",
    "           'wherever',\n",
    "           'whether',\n",
    "           'which',\n",
    "           'while',\n",
    "           'whither',\n",
    "           'who',\n",
    "           'whoever',\n",
    "           'whole',\n",
    "           'whom',\n",
    "           'whose',\n",
    "           'why',\n",
    "           'will',\n",
    "           'with',\n",
    "           'within',\n",
    "           'without',\n",
    "           'would',\n",
    "           'yet',\n",
    "           'you',\n",
    "           'your',\n",
    "           'yours',\n",
    "           'yourself',\n",
    "           'yourselves']"
   ]
  },
  {
   "cell_type": "code",
   "execution_count": 7,
   "id": "fe11b2db",
   "metadata": {},
   "outputs": [
    {
     "name": "stderr",
     "output_type": "stream",
     "text": [
      "C:\\Users\\Vaibhav\\anaconda3\\lib\\site-packages\\ipykernel\\ipkernel.py:287: DeprecationWarning: `should_run_async` will not call `transform_cell` automatically in the future. Please pass the result to `transformed_cell` argument and any exception that happen during thetransform in `preprocessing_exc_tuple` in IPython 7.17 and above.\n",
      "  and should_run_async(code)\n"
     ]
    }
   ],
   "source": [
    "stop_words.extend(st1)"
   ]
  },
  {
   "cell_type": "code",
   "execution_count": 8,
   "id": "5801951f",
   "metadata": {},
   "outputs": [
    {
     "name": "stderr",
     "output_type": "stream",
     "text": [
      "C:\\Users\\Vaibhav\\anaconda3\\lib\\site-packages\\ipykernel\\ipkernel.py:287: DeprecationWarning: `should_run_async` will not call `transform_cell` automatically in the future. Please pass the result to `transformed_cell` argument and any exception that happen during thetransform in `preprocessing_exc_tuple` in IPython 7.17 and above.\n",
      "  and should_run_async(code)\n"
     ]
    }
   ],
   "source": [
    "data = pd.read_csv(\"uci-news-aggregator.csv\")"
   ]
  },
  {
   "cell_type": "code",
   "execution_count": 9,
   "id": "c7e5b32c",
   "metadata": {},
   "outputs": [
    {
     "name": "stderr",
     "output_type": "stream",
     "text": [
      "C:\\Users\\Vaibhav\\anaconda3\\lib\\site-packages\\ipykernel\\ipkernel.py:287: DeprecationWarning: `should_run_async` will not call `transform_cell` automatically in the future. Please pass the result to `transformed_cell` argument and any exception that happen during thetransform in `preprocessing_exc_tuple` in IPython 7.17 and above.\n",
      "  and should_run_async(code)\n"
     ]
    },
    {
     "data": {
      "text/html": [
       "<div>\n",
       "<style scoped>\n",
       "    .dataframe tbody tr th:only-of-type {\n",
       "        vertical-align: middle;\n",
       "    }\n",
       "\n",
       "    .dataframe tbody tr th {\n",
       "        vertical-align: top;\n",
       "    }\n",
       "\n",
       "    .dataframe thead th {\n",
       "        text-align: right;\n",
       "    }\n",
       "</style>\n",
       "<table border=\"1\" class=\"dataframe\">\n",
       "  <thead>\n",
       "    <tr style=\"text-align: right;\">\n",
       "      <th></th>\n",
       "      <th>ID</th>\n",
       "      <th>TITLE</th>\n",
       "      <th>URL</th>\n",
       "      <th>PUBLISHER</th>\n",
       "      <th>CATEGORY</th>\n",
       "      <th>STORY</th>\n",
       "      <th>HOSTNAME</th>\n",
       "      <th>TIMESTAMP</th>\n",
       "    </tr>\n",
       "  </thead>\n",
       "  <tbody>\n",
       "    <tr>\n",
       "      <th>0</th>\n",
       "      <td>1</td>\n",
       "      <td>Fed official says weak data caused by weather,...</td>\n",
       "      <td>http://www.latimes.com/business/money/la-fi-mo...</td>\n",
       "      <td>Los Angeles Times</td>\n",
       "      <td>b</td>\n",
       "      <td>ddUyU0VZz0BRneMioxUPQVP6sIxvM</td>\n",
       "      <td>www.latimes.com</td>\n",
       "      <td>1394470370698</td>\n",
       "    </tr>\n",
       "    <tr>\n",
       "      <th>1</th>\n",
       "      <td>2</td>\n",
       "      <td>Fed's Charles Plosser sees high bar for change...</td>\n",
       "      <td>http://www.livemint.com/Politics/H2EvwJSK2VE6O...</td>\n",
       "      <td>Livemint</td>\n",
       "      <td>b</td>\n",
       "      <td>ddUyU0VZz0BRneMioxUPQVP6sIxvM</td>\n",
       "      <td>www.livemint.com</td>\n",
       "      <td>1394470371207</td>\n",
       "    </tr>\n",
       "    <tr>\n",
       "      <th>2</th>\n",
       "      <td>3</td>\n",
       "      <td>US open: Stocks fall after Fed official hints ...</td>\n",
       "      <td>http://www.ifamagazine.com/news/us-open-stocks...</td>\n",
       "      <td>IFA Magazine</td>\n",
       "      <td>b</td>\n",
       "      <td>ddUyU0VZz0BRneMioxUPQVP6sIxvM</td>\n",
       "      <td>www.ifamagazine.com</td>\n",
       "      <td>1394470371550</td>\n",
       "    </tr>\n",
       "    <tr>\n",
       "      <th>3</th>\n",
       "      <td>4</td>\n",
       "      <td>Fed risks falling 'behind the curve', Charles ...</td>\n",
       "      <td>http://www.ifamagazine.com/news/fed-risks-fall...</td>\n",
       "      <td>IFA Magazine</td>\n",
       "      <td>b</td>\n",
       "      <td>ddUyU0VZz0BRneMioxUPQVP6sIxvM</td>\n",
       "      <td>www.ifamagazine.com</td>\n",
       "      <td>1394470371793</td>\n",
       "    </tr>\n",
       "    <tr>\n",
       "      <th>4</th>\n",
       "      <td>5</td>\n",
       "      <td>Fed's Plosser: Nasty Weather Has Curbed Job Gr...</td>\n",
       "      <td>http://www.moneynews.com/Economy/federal-reser...</td>\n",
       "      <td>Moneynews</td>\n",
       "      <td>b</td>\n",
       "      <td>ddUyU0VZz0BRneMioxUPQVP6sIxvM</td>\n",
       "      <td>www.moneynews.com</td>\n",
       "      <td>1394470372027</td>\n",
       "    </tr>\n",
       "  </tbody>\n",
       "</table>\n",
       "</div>"
      ],
      "text/plain": [
       "   ID                                              TITLE  \\\n",
       "0   1  Fed official says weak data caused by weather,...   \n",
       "1   2  Fed's Charles Plosser sees high bar for change...   \n",
       "2   3  US open: Stocks fall after Fed official hints ...   \n",
       "3   4  Fed risks falling 'behind the curve', Charles ...   \n",
       "4   5  Fed's Plosser: Nasty Weather Has Curbed Job Gr...   \n",
       "\n",
       "                                                 URL          PUBLISHER  \\\n",
       "0  http://www.latimes.com/business/money/la-fi-mo...  Los Angeles Times   \n",
       "1  http://www.livemint.com/Politics/H2EvwJSK2VE6O...           Livemint   \n",
       "2  http://www.ifamagazine.com/news/us-open-stocks...       IFA Magazine   \n",
       "3  http://www.ifamagazine.com/news/fed-risks-fall...       IFA Magazine   \n",
       "4  http://www.moneynews.com/Economy/federal-reser...          Moneynews   \n",
       "\n",
       "  CATEGORY                          STORY             HOSTNAME      TIMESTAMP  \n",
       "0        b  ddUyU0VZz0BRneMioxUPQVP6sIxvM      www.latimes.com  1394470370698  \n",
       "1        b  ddUyU0VZz0BRneMioxUPQVP6sIxvM     www.livemint.com  1394470371207  \n",
       "2        b  ddUyU0VZz0BRneMioxUPQVP6sIxvM  www.ifamagazine.com  1394470371550  \n",
       "3        b  ddUyU0VZz0BRneMioxUPQVP6sIxvM  www.ifamagazine.com  1394470371793  \n",
       "4        b  ddUyU0VZz0BRneMioxUPQVP6sIxvM    www.moneynews.com  1394470372027  "
      ]
     },
     "execution_count": 9,
     "metadata": {},
     "output_type": "execute_result"
    }
   ],
   "source": [
    "data.head(5)"
   ]
  },
  {
   "cell_type": "code",
   "execution_count": 10,
   "id": "fea20518",
   "metadata": {},
   "outputs": [
    {
     "name": "stderr",
     "output_type": "stream",
     "text": [
      "C:\\Users\\Vaibhav\\anaconda3\\lib\\site-packages\\ipykernel\\ipkernel.py:287: DeprecationWarning: `should_run_async` will not call `transform_cell` automatically in the future. Please pass the result to `transformed_cell` argument and any exception that happen during thetransform in `preprocessing_exc_tuple` in IPython 7.17 and above.\n",
      "  and should_run_async(code)\n"
     ]
    }
   ],
   "source": [
    "\n",
    "bg = data[data.CATEGORY == 'b']\n",
    "tg = data[data.CATEGORY == 't']\n",
    "eg = data[data.CATEGORY == 'e']\n",
    "mg = data[data.CATEGORY == 'm']\n"
   ]
  },
  {
   "cell_type": "code",
   "execution_count": 12,
   "id": "24ad0e59",
   "metadata": {},
   "outputs": [
    {
     "name": "stderr",
     "output_type": "stream",
     "text": [
      "C:\\Users\\Vaibhav\\anaconda3\\lib\\site-packages\\ipykernel\\ipkernel.py:287: DeprecationWarning: `should_run_async` will not call `transform_cell` automatically in the future. Please pass the result to `transformed_cell` argument and any exception that happen during thetransform in `preprocessing_exc_tuple` in IPython 7.17 and above.\n",
      "  and should_run_async(code)\n"
     ]
    }
   ],
   "source": [
    "\n",
    "bg_rows = np.random.choice(bg.index.values, 750)\n",
    "bg_data = bg.loc[bg_rows]\n",
    "\n",
    "tg_rows = np.random.choice(tg.index.values, 750)\n",
    "tg_data = tg.loc[tg_rows]\n",
    "\n",
    "eg_rows = np.random.choice(eg.index.values, 750)\n",
    "eg_data = eg.loc[eg_rows]\n",
    "\n",
    "mg_rows = np.random.choice(mg.index.values, 750)\n",
    "mg_data = mg.loc[mg_rows]"
   ]
  },
  {
   "cell_type": "code",
   "execution_count": 13,
   "id": "e2357aa0",
   "metadata": {},
   "outputs": [
    {
     "name": "stderr",
     "output_type": "stream",
     "text": [
      "C:\\Users\\Vaibhav\\anaconda3\\lib\\site-packages\\ipykernel\\ipkernel.py:287: DeprecationWarning: `should_run_async` will not call `transform_cell` automatically in the future. Please pass the result to `transformed_cell` argument and any exception that happen during thetransform in `preprocessing_exc_tuple` in IPython 7.17 and above.\n",
      "  and should_run_async(code)\n"
     ]
    }
   ],
   "source": [
    "data = bg_data.append([tg_data, eg_data, mg_data])"
   ]
  },
  {
   "cell_type": "code",
   "execution_count": 14,
   "id": "b562ef2f",
   "metadata": {},
   "outputs": [
    {
     "name": "stderr",
     "output_type": "stream",
     "text": [
      "C:\\Users\\Vaibhav\\anaconda3\\lib\\site-packages\\ipykernel\\ipkernel.py:287: DeprecationWarning: `should_run_async` will not call `transform_cell` automatically in the future. Please pass the result to `transformed_cell` argument and any exception that happen during thetransform in `preprocessing_exc_tuple` in IPython 7.17 and above.\n",
      "  and should_run_async(code)\n"
     ]
    }
   ],
   "source": [
    "title = data['TITLE']\n",
    "category = data['CATEGORY']"
   ]
  },
  {
   "cell_type": "code",
   "execution_count": 15,
   "id": "a2f40b68",
   "metadata": {},
   "outputs": [
    {
     "name": "stderr",
     "output_type": "stream",
     "text": [
      "C:\\Users\\Vaibhav\\anaconda3\\lib\\site-packages\\ipykernel\\ipkernel.py:287: DeprecationWarning: `should_run_async` will not call `transform_cell` automatically in the future. Please pass the result to `transformed_cell` argument and any exception that happen during thetransform in `preprocessing_exc_tuple` in IPython 7.17 and above.\n",
      "  and should_run_async(code)\n",
      "<>:10: DeprecationWarning: invalid escape sequence \\-\n",
      "<>:10: DeprecationWarning: invalid escape sequence \\-\n",
      "<ipython-input-15-33f805dadbee>:10: DeprecationWarning: invalid escape sequence \\-\n",
      "  token_pattern='[a-zA-Z\\-][a-zA-Z\\-]{2,}')\n",
      "C:\\Users\\Vaibhav\\anaconda3\\lib\\site-packages\\scipy\\linalg\\decomp_qr.py:20: DeprecationWarning: `np.int` is a deprecated alias for the builtin `int`. To silence this warning, use `int` by itself. Doing this will not modify any behavior and is safe. When replacing `np.int`, you may wish to use e.g. `np.int64` or `np.int32` to specify the precision. If you wish to review your current use, check the release note link for additional information.\n",
      "Deprecated in NumPy 1.20; for more details and guidance: https://numpy.org/devdocs/release/1.20.0-notes.html#deprecations\n",
      "  kwargs['lwork'] = ret[-2][0].real.astype(numpy.int)\n",
      "C:\\Users\\Vaibhav\\anaconda3\\lib\\site-packages\\scipy\\linalg\\decomp_qr.py:20: DeprecationWarning: `np.int` is a deprecated alias for the builtin `int`. To silence this warning, use `int` by itself. Doing this will not modify any behavior and is safe. When replacing `np.int`, you may wish to use e.g. `np.int64` or `np.int32` to specify the precision. If you wish to review your current use, check the release note link for additional information.\n",
      "Deprecated in NumPy 1.20; for more details and guidance: https://numpy.org/devdocs/release/1.20.0-notes.html#deprecations\n",
      "  kwargs['lwork'] = ret[-2][0].real.astype(numpy.int)\n"
     ]
    },
    {
     "name": "stdout",
     "output_type": "stream",
     "text": [
      "(3000, 4)\n"
     ]
    }
   ],
   "source": [
    "from sklearn.decomposition import NMF, LatentDirichletAllocation, TruncatedSVD\n",
    "from sklearn.feature_extraction.text import CountVectorizer\n",
    " \n",
    "NUM_TOPICS = 4\n",
    "\n",
    "# Converting the document to a matrix of token counts\n",
    "\n",
    "vectorizer = CountVectorizer(min_df=5, max_df=0.9, \n",
    "                             stop_words='english', lowercase=True, \n",
    "                             token_pattern='[a-zA-Z\\-][a-zA-Z\\-]{2,}')\n",
    "data_vectorized = vectorizer.fit_transform(title)\n",
    " \n",
    "# Build a Latent Semantic Indexing Model using SVD\n",
    "\n",
    "lsi_model = TruncatedSVD(n_components=NUM_TOPICS)\n",
    "lsi_Z = lsi_model.fit_transform(data_vectorized)\n",
    "print(lsi_Z.shape)"
   ]
  },
  {
   "cell_type": "code",
   "execution_count": 16,
   "id": "8056a11a",
   "metadata": {},
   "outputs": [
    {
     "name": "stdout",
     "output_type": "stream",
     "text": [
      "LSI Model:\n",
      "Topic 0:\n",
      "[('new', 0.9498374402441614), ('google', 0.10618411116997398), ('samsung', 0.09744248921711665), ('apple', 0.06914848382889548), ('galaxy', 0.0649382166032587), ('video', 0.06161514285398347), ('report', 0.0514881578522748), ('facebook', 0.045331475125925016), ('york', 0.044625704941403395), ('world', 0.03888709840888342)]\n",
      "Topic 1:\n",
      "[('google', 0.6126526065728645), ('samsung', 0.4286533176438637), ('apple', 0.37212988536308145), ('galaxy', 0.29621834931162333), ('glass', 0.13148296012807462), ('price', 0.09654114608678656), ('android', 0.0799883879686184), ('beats', 0.06882883560116769), ('note', 0.06834657692661325), ('review', 0.06581882546145149)]\n",
      "Topic 2:\n",
      "[('samsung', 0.5791613951691097), ('galaxy', 0.4507792199530652), ('note', 0.10107045249876773), ('price', 0.07635377157542174), ('tab', 0.07259445683325076), ('specs', 0.06512081157743842), ('gear', 0.06406374046113732), ('release', 0.05760399014857052), ('features', 0.04578107498350227), ('design', 0.04032308843123068)]\n",
      "Topic 3:\n",
      "[('ebola', 0.5009288194400008), ('west', 0.3729762623042698), ('virus', 0.30522896421930024), ('outbreak', 0.19665549438547913), ('kardashian', 0.18822812286868076), ('cancer', 0.18466130936840497), ('says', 0.18392501285952706), ('kim', 0.1759319475185895), ('mers', 0.16009324279603446), ('health', 0.13274711250772317)]\n",
      "====================\n"
     ]
    },
    {
     "name": "stderr",
     "output_type": "stream",
     "text": [
      "C:\\Users\\Vaibhav\\anaconda3\\lib\\site-packages\\ipykernel\\ipkernel.py:287: DeprecationWarning: `should_run_async` will not call `transform_cell` automatically in the future. Please pass the result to `transformed_cell` argument and any exception that happen during thetransform in `preprocessing_exc_tuple` in IPython 7.17 and above.\n",
      "  and should_run_async(code)\n"
     ]
    }
   ],
   "source": [
    "def print_topics(model, vectorizer, top_n=10):\n",
    "    for idx, topic in enumerate(model.components_):\n",
    "        print(\"Topic %d:\" % (idx))\n",
    "        print([(vectorizer.get_feature_names()[i], topic[i])\n",
    "                        for i in topic.argsort()[:-top_n - 1:-1]])\n",
    " \n",
    "print(\"LSI Model:\")\n",
    "print_topics(lsi_model, vectorizer)\n",
    "print(\"=\" * 20)"
   ]
  },
  {
   "cell_type": "code",
   "execution_count": 17,
   "id": "6e8a01b1",
   "metadata": {},
   "outputs": [
    {
     "name": "stderr",
     "output_type": "stream",
     "text": [
      "C:\\Users\\Vaibhav\\anaconda3\\lib\\site-packages\\ipykernel\\ipkernel.py:287: DeprecationWarning: `should_run_async` will not call `transform_cell` automatically in the future. Please pass the result to `transformed_cell` argument and any exception that happen during thetransform in `preprocessing_exc_tuple` in IPython 7.17 and above.\n",
      "  and should_run_async(code)\n"
     ]
    },
    {
     "data": {
      "text/html": [
       "\n",
       "    <div class=\"bk-root\">\n",
       "        <a href=\"https://bokeh.org\" target=\"_blank\" class=\"bk-logo bk-logo-small bk-logo-notebook\"></a>\n",
       "        <span id=\"1002\">Loading BokehJS ...</span>\n",
       "    </div>"
      ]
     },
     "metadata": {},
     "output_type": "display_data"
    },
    {
     "data": {
      "application/javascript": [
       "\n",
       "(function(root) {\n",
       "  function now() {\n",
       "    return new Date();\n",
       "  }\n",
       "\n",
       "  var force = true;\n",
       "\n",
       "  if (typeof root._bokeh_onload_callbacks === \"undefined\" || force === true) {\n",
       "    root._bokeh_onload_callbacks = [];\n",
       "    root._bokeh_is_loading = undefined;\n",
       "  }\n",
       "\n",
       "  var JS_MIME_TYPE = 'application/javascript';\n",
       "  var HTML_MIME_TYPE = 'text/html';\n",
       "  var EXEC_MIME_TYPE = 'application/vnd.bokehjs_exec.v0+json';\n",
       "  var CLASS_NAME = 'output_bokeh rendered_html';\n",
       "\n",
       "  /**\n",
       "   * Render data to the DOM node\n",
       "   */\n",
       "  function render(props, node) {\n",
       "    var script = document.createElement(\"script\");\n",
       "    node.appendChild(script);\n",
       "  }\n",
       "\n",
       "  /**\n",
       "   * Handle when an output is cleared or removed\n",
       "   */\n",
       "  function handleClearOutput(event, handle) {\n",
       "    var cell = handle.cell;\n",
       "\n",
       "    var id = cell.output_area._bokeh_element_id;\n",
       "    var server_id = cell.output_area._bokeh_server_id;\n",
       "    // Clean up Bokeh references\n",
       "    if (id != null && id in Bokeh.index) {\n",
       "      Bokeh.index[id].model.document.clear();\n",
       "      delete Bokeh.index[id];\n",
       "    }\n",
       "\n",
       "    if (server_id !== undefined) {\n",
       "      // Clean up Bokeh references\n",
       "      var cmd = \"from bokeh.io.state import curstate; print(curstate().uuid_to_server['\" + server_id + \"'].get_sessions()[0].document.roots[0]._id)\";\n",
       "      cell.notebook.kernel.execute(cmd, {\n",
       "        iopub: {\n",
       "          output: function(msg) {\n",
       "            var id = msg.content.text.trim();\n",
       "            if (id in Bokeh.index) {\n",
       "              Bokeh.index[id].model.document.clear();\n",
       "              delete Bokeh.index[id];\n",
       "            }\n",
       "          }\n",
       "        }\n",
       "      });\n",
       "      // Destroy server and session\n",
       "      var cmd = \"import bokeh.io.notebook as ion; ion.destroy_server('\" + server_id + \"')\";\n",
       "      cell.notebook.kernel.execute(cmd);\n",
       "    }\n",
       "  }\n",
       "\n",
       "  /**\n",
       "   * Handle when a new output is added\n",
       "   */\n",
       "  function handleAddOutput(event, handle) {\n",
       "    var output_area = handle.output_area;\n",
       "    var output = handle.output;\n",
       "\n",
       "    // limit handleAddOutput to display_data with EXEC_MIME_TYPE content only\n",
       "    if ((output.output_type != \"display_data\") || (!Object.prototype.hasOwnProperty.call(output.data, EXEC_MIME_TYPE))) {\n",
       "      return\n",
       "    }\n",
       "\n",
       "    var toinsert = output_area.element.find(\".\" + CLASS_NAME.split(' ')[0]);\n",
       "\n",
       "    if (output.metadata[EXEC_MIME_TYPE][\"id\"] !== undefined) {\n",
       "      toinsert[toinsert.length - 1].firstChild.textContent = output.data[JS_MIME_TYPE];\n",
       "      // store reference to embed id on output_area\n",
       "      output_area._bokeh_element_id = output.metadata[EXEC_MIME_TYPE][\"id\"];\n",
       "    }\n",
       "    if (output.metadata[EXEC_MIME_TYPE][\"server_id\"] !== undefined) {\n",
       "      var bk_div = document.createElement(\"div\");\n",
       "      bk_div.innerHTML = output.data[HTML_MIME_TYPE];\n",
       "      var script_attrs = bk_div.children[0].attributes;\n",
       "      for (var i = 0; i < script_attrs.length; i++) {\n",
       "        toinsert[toinsert.length - 1].firstChild.setAttribute(script_attrs[i].name, script_attrs[i].value);\n",
       "        toinsert[toinsert.length - 1].firstChild.textContent = bk_div.children[0].textContent\n",
       "      }\n",
       "      // store reference to server id on output_area\n",
       "      output_area._bokeh_server_id = output.metadata[EXEC_MIME_TYPE][\"server_id\"];\n",
       "    }\n",
       "  }\n",
       "\n",
       "  function register_renderer(events, OutputArea) {\n",
       "\n",
       "    function append_mime(data, metadata, element) {\n",
       "      // create a DOM node to render to\n",
       "      var toinsert = this.create_output_subarea(\n",
       "        metadata,\n",
       "        CLASS_NAME,\n",
       "        EXEC_MIME_TYPE\n",
       "      );\n",
       "      this.keyboard_manager.register_events(toinsert);\n",
       "      // Render to node\n",
       "      var props = {data: data, metadata: metadata[EXEC_MIME_TYPE]};\n",
       "      render(props, toinsert[toinsert.length - 1]);\n",
       "      element.append(toinsert);\n",
       "      return toinsert\n",
       "    }\n",
       "\n",
       "    /* Handle when an output is cleared or removed */\n",
       "    events.on('clear_output.CodeCell', handleClearOutput);\n",
       "    events.on('delete.Cell', handleClearOutput);\n",
       "\n",
       "    /* Handle when a new output is added */\n",
       "    events.on('output_added.OutputArea', handleAddOutput);\n",
       "\n",
       "    /**\n",
       "     * Register the mime type and append_mime function with output_area\n",
       "     */\n",
       "    OutputArea.prototype.register_mime_type(EXEC_MIME_TYPE, append_mime, {\n",
       "      /* Is output safe? */\n",
       "      safe: true,\n",
       "      /* Index of renderer in `output_area.display_order` */\n",
       "      index: 0\n",
       "    });\n",
       "  }\n",
       "\n",
       "  // register the mime type if in Jupyter Notebook environment and previously unregistered\n",
       "  if (root.Jupyter !== undefined) {\n",
       "    var events = require('base/js/events');\n",
       "    var OutputArea = require('notebook/js/outputarea').OutputArea;\n",
       "\n",
       "    if (OutputArea.prototype.mime_types().indexOf(EXEC_MIME_TYPE) == -1) {\n",
       "      register_renderer(events, OutputArea);\n",
       "    }\n",
       "  }\n",
       "\n",
       "  \n",
       "  if (typeof (root._bokeh_timeout) === \"undefined\" || force === true) {\n",
       "    root._bokeh_timeout = Date.now() + 5000;\n",
       "    root._bokeh_failed_load = false;\n",
       "  }\n",
       "\n",
       "  var NB_LOAD_WARNING = {'data': {'text/html':\n",
       "     \"<div style='background-color: #fdd'>\\n\"+\n",
       "     \"<p>\\n\"+\n",
       "     \"BokehJS does not appear to have successfully loaded. If loading BokehJS from CDN, this \\n\"+\n",
       "     \"may be due to a slow or bad network connection. Possible fixes:\\n\"+\n",
       "     \"</p>\\n\"+\n",
       "     \"<ul>\\n\"+\n",
       "     \"<li>re-rerun `output_notebook()` to attempt to load from CDN again, or</li>\\n\"+\n",
       "     \"<li>use INLINE resources instead, as so:</li>\\n\"+\n",
       "     \"</ul>\\n\"+\n",
       "     \"<code>\\n\"+\n",
       "     \"from bokeh.resources import INLINE\\n\"+\n",
       "     \"output_notebook(resources=INLINE)\\n\"+\n",
       "     \"</code>\\n\"+\n",
       "     \"</div>\"}};\n",
       "\n",
       "  function display_loaded() {\n",
       "    var el = document.getElementById(\"1002\");\n",
       "    if (el != null) {\n",
       "      el.textContent = \"BokehJS is loading...\";\n",
       "    }\n",
       "    if (root.Bokeh !== undefined) {\n",
       "      if (el != null) {\n",
       "        el.textContent = \"BokehJS \" + root.Bokeh.version + \" successfully loaded.\";\n",
       "      }\n",
       "    } else if (Date.now() < root._bokeh_timeout) {\n",
       "      setTimeout(display_loaded, 100)\n",
       "    }\n",
       "  }\n",
       "\n",
       "\n",
       "  function run_callbacks() {\n",
       "    try {\n",
       "      root._bokeh_onload_callbacks.forEach(function(callback) {\n",
       "        if (callback != null)\n",
       "          callback();\n",
       "      });\n",
       "    } finally {\n",
       "      delete root._bokeh_onload_callbacks\n",
       "    }\n",
       "    console.debug(\"Bokeh: all callbacks have finished\");\n",
       "  }\n",
       "\n",
       "  function load_libs(css_urls, js_urls, callback) {\n",
       "    if (css_urls == null) css_urls = [];\n",
       "    if (js_urls == null) js_urls = [];\n",
       "\n",
       "    root._bokeh_onload_callbacks.push(callback);\n",
       "    if (root._bokeh_is_loading > 0) {\n",
       "      console.debug(\"Bokeh: BokehJS is being loaded, scheduling callback at\", now());\n",
       "      return null;\n",
       "    }\n",
       "    if (js_urls == null || js_urls.length === 0) {\n",
       "      run_callbacks();\n",
       "      return null;\n",
       "    }\n",
       "    console.debug(\"Bokeh: BokehJS not loaded, scheduling load and callback at\", now());\n",
       "    root._bokeh_is_loading = css_urls.length + js_urls.length;\n",
       "\n",
       "    function on_load() {\n",
       "      root._bokeh_is_loading--;\n",
       "      if (root._bokeh_is_loading === 0) {\n",
       "        console.debug(\"Bokeh: all BokehJS libraries/stylesheets loaded\");\n",
       "        run_callbacks()\n",
       "      }\n",
       "    }\n",
       "\n",
       "    function on_error(url) {\n",
       "      console.error(\"failed to load \" + url);\n",
       "    }\n",
       "\n",
       "    for (let i = 0; i < css_urls.length; i++) {\n",
       "      const url = css_urls[i];\n",
       "      const element = document.createElement(\"link\");\n",
       "      element.onload = on_load;\n",
       "      element.onerror = on_error.bind(null, url);\n",
       "      element.rel = \"stylesheet\";\n",
       "      element.type = \"text/css\";\n",
       "      element.href = url;\n",
       "      console.debug(\"Bokeh: injecting link tag for BokehJS stylesheet: \", url);\n",
       "      document.body.appendChild(element);\n",
       "    }\n",
       "\n",
       "    const hashes = {\"https://cdn.bokeh.org/bokeh/release/bokeh-2.3.2.min.js\": \"XypntL49z55iwGVUW4qsEu83zKL3XEcz0MjuGOQ9SlaaQ68X/g+k1FcioZi7oQAc\", \"https://cdn.bokeh.org/bokeh/release/bokeh-tables-2.3.2.min.js\": \"bEsM86IHGDTLCS0Zod8a8WM6Y4+lafAL/eSiyQcuPzinmWNgNO2/olUF0Z2Dkn5i\", \"https://cdn.bokeh.org/bokeh/release/bokeh-widgets-2.3.2.min.js\": \"TX0gSQTdXTTeScqxj6PVQxTiRW8DOoGVwinyi1D3kxv7wuxQ02XkOxv0xwiypcAH\"};\n",
       "\n",
       "    for (let i = 0; i < js_urls.length; i++) {\n",
       "      const url = js_urls[i];\n",
       "      const element = document.createElement('script');\n",
       "      element.onload = on_load;\n",
       "      element.onerror = on_error.bind(null, url);\n",
       "      element.async = false;\n",
       "      element.src = url;\n",
       "      if (url in hashes) {\n",
       "        element.crossOrigin = \"anonymous\";\n",
       "        element.integrity = \"sha384-\" + hashes[url];\n",
       "      }\n",
       "      console.debug(\"Bokeh: injecting script tag for BokehJS library: \", url);\n",
       "      document.head.appendChild(element);\n",
       "    }\n",
       "  };\n",
       "\n",
       "  function inject_raw_css(css) {\n",
       "    const element = document.createElement(\"style\");\n",
       "    element.appendChild(document.createTextNode(css));\n",
       "    document.body.appendChild(element);\n",
       "  }\n",
       "\n",
       "  \n",
       "  var js_urls = [\"https://cdn.bokeh.org/bokeh/release/bokeh-2.3.2.min.js\", \"https://cdn.bokeh.org/bokeh/release/bokeh-widgets-2.3.2.min.js\", \"https://cdn.bokeh.org/bokeh/release/bokeh-tables-2.3.2.min.js\"];\n",
       "  var css_urls = [];\n",
       "  \n",
       "\n",
       "  var inline_js = [\n",
       "    function(Bokeh) {\n",
       "      Bokeh.set_log_level(\"info\");\n",
       "    },\n",
       "    function(Bokeh) {\n",
       "    \n",
       "    \n",
       "    }\n",
       "  ];\n",
       "\n",
       "  function run_inline_js() {\n",
       "    \n",
       "    if (root.Bokeh !== undefined || force === true) {\n",
       "      \n",
       "    for (var i = 0; i < inline_js.length; i++) {\n",
       "      inline_js[i].call(root, root.Bokeh);\n",
       "    }\n",
       "    if (force === true) {\n",
       "        display_loaded();\n",
       "      }} else if (Date.now() < root._bokeh_timeout) {\n",
       "      setTimeout(run_inline_js, 100);\n",
       "    } else if (!root._bokeh_failed_load) {\n",
       "      console.log(\"Bokeh: BokehJS failed to load within specified timeout.\");\n",
       "      root._bokeh_failed_load = true;\n",
       "    } else if (force !== true) {\n",
       "      var cell = $(document.getElementById(\"1002\")).parents('.cell').data().cell;\n",
       "      cell.output_area.append_execute_result(NB_LOAD_WARNING)\n",
       "    }\n",
       "\n",
       "  }\n",
       "\n",
       "  if (root._bokeh_is_loading === 0) {\n",
       "    console.debug(\"Bokeh: BokehJS loaded, going straight to plotting\");\n",
       "    run_inline_js();\n",
       "  } else {\n",
       "    load_libs(css_urls, js_urls, function() {\n",
       "      console.debug(\"Bokeh: BokehJS plotting callback run at\", now());\n",
       "      run_inline_js();\n",
       "    });\n",
       "  }\n",
       "}(window));"
      ],
      "application/vnd.bokehjs_load.v0+json": "\n(function(root) {\n  function now() {\n    return new Date();\n  }\n\n  var force = true;\n\n  if (typeof root._bokeh_onload_callbacks === \"undefined\" || force === true) {\n    root._bokeh_onload_callbacks = [];\n    root._bokeh_is_loading = undefined;\n  }\n\n  \n\n  \n  if (typeof (root._bokeh_timeout) === \"undefined\" || force === true) {\n    root._bokeh_timeout = Date.now() + 5000;\n    root._bokeh_failed_load = false;\n  }\n\n  var NB_LOAD_WARNING = {'data': {'text/html':\n     \"<div style='background-color: #fdd'>\\n\"+\n     \"<p>\\n\"+\n     \"BokehJS does not appear to have successfully loaded. If loading BokehJS from CDN, this \\n\"+\n     \"may be due to a slow or bad network connection. Possible fixes:\\n\"+\n     \"</p>\\n\"+\n     \"<ul>\\n\"+\n     \"<li>re-rerun `output_notebook()` to attempt to load from CDN again, or</li>\\n\"+\n     \"<li>use INLINE resources instead, as so:</li>\\n\"+\n     \"</ul>\\n\"+\n     \"<code>\\n\"+\n     \"from bokeh.resources import INLINE\\n\"+\n     \"output_notebook(resources=INLINE)\\n\"+\n     \"</code>\\n\"+\n     \"</div>\"}};\n\n  function display_loaded() {\n    var el = document.getElementById(\"1002\");\n    if (el != null) {\n      el.textContent = \"BokehJS is loading...\";\n    }\n    if (root.Bokeh !== undefined) {\n      if (el != null) {\n        el.textContent = \"BokehJS \" + root.Bokeh.version + \" successfully loaded.\";\n      }\n    } else if (Date.now() < root._bokeh_timeout) {\n      setTimeout(display_loaded, 100)\n    }\n  }\n\n\n  function run_callbacks() {\n    try {\n      root._bokeh_onload_callbacks.forEach(function(callback) {\n        if (callback != null)\n          callback();\n      });\n    } finally {\n      delete root._bokeh_onload_callbacks\n    }\n    console.debug(\"Bokeh: all callbacks have finished\");\n  }\n\n  function load_libs(css_urls, js_urls, callback) {\n    if (css_urls == null) css_urls = [];\n    if (js_urls == null) js_urls = [];\n\n    root._bokeh_onload_callbacks.push(callback);\n    if (root._bokeh_is_loading > 0) {\n      console.debug(\"Bokeh: BokehJS is being loaded, scheduling callback at\", now());\n      return null;\n    }\n    if (js_urls == null || js_urls.length === 0) {\n      run_callbacks();\n      return null;\n    }\n    console.debug(\"Bokeh: BokehJS not loaded, scheduling load and callback at\", now());\n    root._bokeh_is_loading = css_urls.length + js_urls.length;\n\n    function on_load() {\n      root._bokeh_is_loading--;\n      if (root._bokeh_is_loading === 0) {\n        console.debug(\"Bokeh: all BokehJS libraries/stylesheets loaded\");\n        run_callbacks()\n      }\n    }\n\n    function on_error(url) {\n      console.error(\"failed to load \" + url);\n    }\n\n    for (let i = 0; i < css_urls.length; i++) {\n      const url = css_urls[i];\n      const element = document.createElement(\"link\");\n      element.onload = on_load;\n      element.onerror = on_error.bind(null, url);\n      element.rel = \"stylesheet\";\n      element.type = \"text/css\";\n      element.href = url;\n      console.debug(\"Bokeh: injecting link tag for BokehJS stylesheet: \", url);\n      document.body.appendChild(element);\n    }\n\n    const hashes = {\"https://cdn.bokeh.org/bokeh/release/bokeh-2.3.2.min.js\": \"XypntL49z55iwGVUW4qsEu83zKL3XEcz0MjuGOQ9SlaaQ68X/g+k1FcioZi7oQAc\", \"https://cdn.bokeh.org/bokeh/release/bokeh-tables-2.3.2.min.js\": \"bEsM86IHGDTLCS0Zod8a8WM6Y4+lafAL/eSiyQcuPzinmWNgNO2/olUF0Z2Dkn5i\", \"https://cdn.bokeh.org/bokeh/release/bokeh-widgets-2.3.2.min.js\": \"TX0gSQTdXTTeScqxj6PVQxTiRW8DOoGVwinyi1D3kxv7wuxQ02XkOxv0xwiypcAH\"};\n\n    for (let i = 0; i < js_urls.length; i++) {\n      const url = js_urls[i];\n      const element = document.createElement('script');\n      element.onload = on_load;\n      element.onerror = on_error.bind(null, url);\n      element.async = false;\n      element.src = url;\n      if (url in hashes) {\n        element.crossOrigin = \"anonymous\";\n        element.integrity = \"sha384-\" + hashes[url];\n      }\n      console.debug(\"Bokeh: injecting script tag for BokehJS library: \", url);\n      document.head.appendChild(element);\n    }\n  };\n\n  function inject_raw_css(css) {\n    const element = document.createElement(\"style\");\n    element.appendChild(document.createTextNode(css));\n    document.body.appendChild(element);\n  }\n\n  \n  var js_urls = [\"https://cdn.bokeh.org/bokeh/release/bokeh-2.3.2.min.js\", \"https://cdn.bokeh.org/bokeh/release/bokeh-widgets-2.3.2.min.js\", \"https://cdn.bokeh.org/bokeh/release/bokeh-tables-2.3.2.min.js\"];\n  var css_urls = [];\n  \n\n  var inline_js = [\n    function(Bokeh) {\n      Bokeh.set_log_level(\"info\");\n    },\n    function(Bokeh) {\n    \n    \n    }\n  ];\n\n  function run_inline_js() {\n    \n    if (root.Bokeh !== undefined || force === true) {\n      \n    for (var i = 0; i < inline_js.length; i++) {\n      inline_js[i].call(root, root.Bokeh);\n    }\n    if (force === true) {\n        display_loaded();\n      }} else if (Date.now() < root._bokeh_timeout) {\n      setTimeout(run_inline_js, 100);\n    } else if (!root._bokeh_failed_load) {\n      console.log(\"Bokeh: BokehJS failed to load within specified timeout.\");\n      root._bokeh_failed_load = true;\n    } else if (force !== true) {\n      var cell = $(document.getElementById(\"1002\")).parents('.cell').data().cell;\n      cell.output_area.append_execute_result(NB_LOAD_WARNING)\n    }\n\n  }\n\n  if (root._bokeh_is_loading === 0) {\n    console.debug(\"Bokeh: BokehJS loaded, going straight to plotting\");\n    run_inline_js();\n  } else {\n    load_libs(css_urls, js_urls, function() {\n      console.debug(\"Bokeh: BokehJS plotting callback run at\", now());\n      run_inline_js();\n    });\n  }\n}(window));"
     },
     "metadata": {},
     "output_type": "display_data"
    }
   ],
   "source": [
    "\n",
    "from sklearn.manifold import TSNE\n",
    "# NLTK\n",
    "from nltk.tokenize import RegexpTokenizer\n",
    "from nltk.stem.snowball import SnowballStemmer\n",
    "from nltk.corpus import stopwords\n",
    "import re\n",
    "\n",
    "# Visualization\n",
    "import matplotlib.pyplot as plt\n",
    "import matplotlib.patches as mpatches\n",
    "import matplotlib\n",
    "%matplotlib inline\n",
    "import seaborn as sns\n",
    "\n",
    "# Bokeh\n",
    "from bokeh.io import output_notebook\n",
    "from bokeh.plotting import figure, show\n",
    "from bokeh.models import HoverTool, CustomJS, ColumnDataSource, Slider\n",
    "from bokeh.layouts import column\n",
    "from bokeh.palettes import all_palettes\n",
    "output_notebook()"
   ]
  },
  {
   "cell_type": "code",
   "execution_count": 18,
   "id": "a1eaf782",
   "metadata": {},
   "outputs": [
    {
     "name": "stderr",
     "output_type": "stream",
     "text": [
      "C:\\Users\\Vaibhav\\anaconda3\\lib\\site-packages\\ipykernel\\ipkernel.py:287: DeprecationWarning: `should_run_async` will not call `transform_cell` automatically in the future. Please pass the result to `transformed_cell` argument and any exception that happen during thetransform in `preprocessing_exc_tuple` in IPython 7.17 and above.\n",
      "  and should_run_async(code)\n"
     ]
    },
    {
     "data": {
      "text/html": [
       "\n",
       "    <div class=\"bk-root\">\n",
       "        <a href=\"https://bokeh.org\" target=\"_blank\" class=\"bk-logo bk-logo-small bk-logo-notebook\"></a>\n",
       "        <span id=\"1003\">Loading BokehJS ...</span>\n",
       "    </div>"
      ]
     },
     "metadata": {},
     "output_type": "display_data"
    },
    {
     "data": {
      "application/javascript": [
       "\n",
       "(function(root) {\n",
       "  function now() {\n",
       "    return new Date();\n",
       "  }\n",
       "\n",
       "  var force = true;\n",
       "\n",
       "  if (typeof root._bokeh_onload_callbacks === \"undefined\" || force === true) {\n",
       "    root._bokeh_onload_callbacks = [];\n",
       "    root._bokeh_is_loading = undefined;\n",
       "  }\n",
       "\n",
       "  var JS_MIME_TYPE = 'application/javascript';\n",
       "  var HTML_MIME_TYPE = 'text/html';\n",
       "  var EXEC_MIME_TYPE = 'application/vnd.bokehjs_exec.v0+json';\n",
       "  var CLASS_NAME = 'output_bokeh rendered_html';\n",
       "\n",
       "  /**\n",
       "   * Render data to the DOM node\n",
       "   */\n",
       "  function render(props, node) {\n",
       "    var script = document.createElement(\"script\");\n",
       "    node.appendChild(script);\n",
       "  }\n",
       "\n",
       "  /**\n",
       "   * Handle when an output is cleared or removed\n",
       "   */\n",
       "  function handleClearOutput(event, handle) {\n",
       "    var cell = handle.cell;\n",
       "\n",
       "    var id = cell.output_area._bokeh_element_id;\n",
       "    var server_id = cell.output_area._bokeh_server_id;\n",
       "    // Clean up Bokeh references\n",
       "    if (id != null && id in Bokeh.index) {\n",
       "      Bokeh.index[id].model.document.clear();\n",
       "      delete Bokeh.index[id];\n",
       "    }\n",
       "\n",
       "    if (server_id !== undefined) {\n",
       "      // Clean up Bokeh references\n",
       "      var cmd = \"from bokeh.io.state import curstate; print(curstate().uuid_to_server['\" + server_id + \"'].get_sessions()[0].document.roots[0]._id)\";\n",
       "      cell.notebook.kernel.execute(cmd, {\n",
       "        iopub: {\n",
       "          output: function(msg) {\n",
       "            var id = msg.content.text.trim();\n",
       "            if (id in Bokeh.index) {\n",
       "              Bokeh.index[id].model.document.clear();\n",
       "              delete Bokeh.index[id];\n",
       "            }\n",
       "          }\n",
       "        }\n",
       "      });\n",
       "      // Destroy server and session\n",
       "      var cmd = \"import bokeh.io.notebook as ion; ion.destroy_server('\" + server_id + \"')\";\n",
       "      cell.notebook.kernel.execute(cmd);\n",
       "    }\n",
       "  }\n",
       "\n",
       "  /**\n",
       "   * Handle when a new output is added\n",
       "   */\n",
       "  function handleAddOutput(event, handle) {\n",
       "    var output_area = handle.output_area;\n",
       "    var output = handle.output;\n",
       "\n",
       "    // limit handleAddOutput to display_data with EXEC_MIME_TYPE content only\n",
       "    if ((output.output_type != \"display_data\") || (!Object.prototype.hasOwnProperty.call(output.data, EXEC_MIME_TYPE))) {\n",
       "      return\n",
       "    }\n",
       "\n",
       "    var toinsert = output_area.element.find(\".\" + CLASS_NAME.split(' ')[0]);\n",
       "\n",
       "    if (output.metadata[EXEC_MIME_TYPE][\"id\"] !== undefined) {\n",
       "      toinsert[toinsert.length - 1].firstChild.textContent = output.data[JS_MIME_TYPE];\n",
       "      // store reference to embed id on output_area\n",
       "      output_area._bokeh_element_id = output.metadata[EXEC_MIME_TYPE][\"id\"];\n",
       "    }\n",
       "    if (output.metadata[EXEC_MIME_TYPE][\"server_id\"] !== undefined) {\n",
       "      var bk_div = document.createElement(\"div\");\n",
       "      bk_div.innerHTML = output.data[HTML_MIME_TYPE];\n",
       "      var script_attrs = bk_div.children[0].attributes;\n",
       "      for (var i = 0; i < script_attrs.length; i++) {\n",
       "        toinsert[toinsert.length - 1].firstChild.setAttribute(script_attrs[i].name, script_attrs[i].value);\n",
       "        toinsert[toinsert.length - 1].firstChild.textContent = bk_div.children[0].textContent\n",
       "      }\n",
       "      // store reference to server id on output_area\n",
       "      output_area._bokeh_server_id = output.metadata[EXEC_MIME_TYPE][\"server_id\"];\n",
       "    }\n",
       "  }\n",
       "\n",
       "  function register_renderer(events, OutputArea) {\n",
       "\n",
       "    function append_mime(data, metadata, element) {\n",
       "      // create a DOM node to render to\n",
       "      var toinsert = this.create_output_subarea(\n",
       "        metadata,\n",
       "        CLASS_NAME,\n",
       "        EXEC_MIME_TYPE\n",
       "      );\n",
       "      this.keyboard_manager.register_events(toinsert);\n",
       "      // Render to node\n",
       "      var props = {data: data, metadata: metadata[EXEC_MIME_TYPE]};\n",
       "      render(props, toinsert[toinsert.length - 1]);\n",
       "      element.append(toinsert);\n",
       "      return toinsert\n",
       "    }\n",
       "\n",
       "    /* Handle when an output is cleared or removed */\n",
       "    events.on('clear_output.CodeCell', handleClearOutput);\n",
       "    events.on('delete.Cell', handleClearOutput);\n",
       "\n",
       "    /* Handle when a new output is added */\n",
       "    events.on('output_added.OutputArea', handleAddOutput);\n",
       "\n",
       "    /**\n",
       "     * Register the mime type and append_mime function with output_area\n",
       "     */\n",
       "    OutputArea.prototype.register_mime_type(EXEC_MIME_TYPE, append_mime, {\n",
       "      /* Is output safe? */\n",
       "      safe: true,\n",
       "      /* Index of renderer in `output_area.display_order` */\n",
       "      index: 0\n",
       "    });\n",
       "  }\n",
       "\n",
       "  // register the mime type if in Jupyter Notebook environment and previously unregistered\n",
       "  if (root.Jupyter !== undefined) {\n",
       "    var events = require('base/js/events');\n",
       "    var OutputArea = require('notebook/js/outputarea').OutputArea;\n",
       "\n",
       "    if (OutputArea.prototype.mime_types().indexOf(EXEC_MIME_TYPE) == -1) {\n",
       "      register_renderer(events, OutputArea);\n",
       "    }\n",
       "  }\n",
       "\n",
       "  \n",
       "  if (typeof (root._bokeh_timeout) === \"undefined\" || force === true) {\n",
       "    root._bokeh_timeout = Date.now() + 5000;\n",
       "    root._bokeh_failed_load = false;\n",
       "  }\n",
       "\n",
       "  var NB_LOAD_WARNING = {'data': {'text/html':\n",
       "     \"<div style='background-color: #fdd'>\\n\"+\n",
       "     \"<p>\\n\"+\n",
       "     \"BokehJS does not appear to have successfully loaded. If loading BokehJS from CDN, this \\n\"+\n",
       "     \"may be due to a slow or bad network connection. Possible fixes:\\n\"+\n",
       "     \"</p>\\n\"+\n",
       "     \"<ul>\\n\"+\n",
       "     \"<li>re-rerun `output_notebook()` to attempt to load from CDN again, or</li>\\n\"+\n",
       "     \"<li>use INLINE resources instead, as so:</li>\\n\"+\n",
       "     \"</ul>\\n\"+\n",
       "     \"<code>\\n\"+\n",
       "     \"from bokeh.resources import INLINE\\n\"+\n",
       "     \"output_notebook(resources=INLINE)\\n\"+\n",
       "     \"</code>\\n\"+\n",
       "     \"</div>\"}};\n",
       "\n",
       "  function display_loaded() {\n",
       "    var el = document.getElementById(\"1003\");\n",
       "    if (el != null) {\n",
       "      el.textContent = \"BokehJS is loading...\";\n",
       "    }\n",
       "    if (root.Bokeh !== undefined) {\n",
       "      if (el != null) {\n",
       "        el.textContent = \"BokehJS \" + root.Bokeh.version + \" successfully loaded.\";\n",
       "      }\n",
       "    } else if (Date.now() < root._bokeh_timeout) {\n",
       "      setTimeout(display_loaded, 100)\n",
       "    }\n",
       "  }\n",
       "\n",
       "\n",
       "  function run_callbacks() {\n",
       "    try {\n",
       "      root._bokeh_onload_callbacks.forEach(function(callback) {\n",
       "        if (callback != null)\n",
       "          callback();\n",
       "      });\n",
       "    } finally {\n",
       "      delete root._bokeh_onload_callbacks\n",
       "    }\n",
       "    console.debug(\"Bokeh: all callbacks have finished\");\n",
       "  }\n",
       "\n",
       "  function load_libs(css_urls, js_urls, callback) {\n",
       "    if (css_urls == null) css_urls = [];\n",
       "    if (js_urls == null) js_urls = [];\n",
       "\n",
       "    root._bokeh_onload_callbacks.push(callback);\n",
       "    if (root._bokeh_is_loading > 0) {\n",
       "      console.debug(\"Bokeh: BokehJS is being loaded, scheduling callback at\", now());\n",
       "      return null;\n",
       "    }\n",
       "    if (js_urls == null || js_urls.length === 0) {\n",
       "      run_callbacks();\n",
       "      return null;\n",
       "    }\n",
       "    console.debug(\"Bokeh: BokehJS not loaded, scheduling load and callback at\", now());\n",
       "    root._bokeh_is_loading = css_urls.length + js_urls.length;\n",
       "\n",
       "    function on_load() {\n",
       "      root._bokeh_is_loading--;\n",
       "      if (root._bokeh_is_loading === 0) {\n",
       "        console.debug(\"Bokeh: all BokehJS libraries/stylesheets loaded\");\n",
       "        run_callbacks()\n",
       "      }\n",
       "    }\n",
       "\n",
       "    function on_error(url) {\n",
       "      console.error(\"failed to load \" + url);\n",
       "    }\n",
       "\n",
       "    for (let i = 0; i < css_urls.length; i++) {\n",
       "      const url = css_urls[i];\n",
       "      const element = document.createElement(\"link\");\n",
       "      element.onload = on_load;\n",
       "      element.onerror = on_error.bind(null, url);\n",
       "      element.rel = \"stylesheet\";\n",
       "      element.type = \"text/css\";\n",
       "      element.href = url;\n",
       "      console.debug(\"Bokeh: injecting link tag for BokehJS stylesheet: \", url);\n",
       "      document.body.appendChild(element);\n",
       "    }\n",
       "\n",
       "    const hashes = {\"https://cdn.bokeh.org/bokeh/release/bokeh-2.3.2.min.js\": \"XypntL49z55iwGVUW4qsEu83zKL3XEcz0MjuGOQ9SlaaQ68X/g+k1FcioZi7oQAc\", \"https://cdn.bokeh.org/bokeh/release/bokeh-tables-2.3.2.min.js\": \"bEsM86IHGDTLCS0Zod8a8WM6Y4+lafAL/eSiyQcuPzinmWNgNO2/olUF0Z2Dkn5i\", \"https://cdn.bokeh.org/bokeh/release/bokeh-widgets-2.3.2.min.js\": \"TX0gSQTdXTTeScqxj6PVQxTiRW8DOoGVwinyi1D3kxv7wuxQ02XkOxv0xwiypcAH\"};\n",
       "\n",
       "    for (let i = 0; i < js_urls.length; i++) {\n",
       "      const url = js_urls[i];\n",
       "      const element = document.createElement('script');\n",
       "      element.onload = on_load;\n",
       "      element.onerror = on_error.bind(null, url);\n",
       "      element.async = false;\n",
       "      element.src = url;\n",
       "      if (url in hashes) {\n",
       "        element.crossOrigin = \"anonymous\";\n",
       "        element.integrity = \"sha384-\" + hashes[url];\n",
       "      }\n",
       "      console.debug(\"Bokeh: injecting script tag for BokehJS library: \", url);\n",
       "      document.head.appendChild(element);\n",
       "    }\n",
       "  };\n",
       "\n",
       "  function inject_raw_css(css) {\n",
       "    const element = document.createElement(\"style\");\n",
       "    element.appendChild(document.createTextNode(css));\n",
       "    document.body.appendChild(element);\n",
       "  }\n",
       "\n",
       "  \n",
       "  var js_urls = [\"https://cdn.bokeh.org/bokeh/release/bokeh-2.3.2.min.js\", \"https://cdn.bokeh.org/bokeh/release/bokeh-widgets-2.3.2.min.js\", \"https://cdn.bokeh.org/bokeh/release/bokeh-tables-2.3.2.min.js\"];\n",
       "  var css_urls = [];\n",
       "  \n",
       "\n",
       "  var inline_js = [\n",
       "    function(Bokeh) {\n",
       "      Bokeh.set_log_level(\"info\");\n",
       "    },\n",
       "    function(Bokeh) {\n",
       "    \n",
       "    \n",
       "    }\n",
       "  ];\n",
       "\n",
       "  function run_inline_js() {\n",
       "    \n",
       "    if (root.Bokeh !== undefined || force === true) {\n",
       "      \n",
       "    for (var i = 0; i < inline_js.length; i++) {\n",
       "      inline_js[i].call(root, root.Bokeh);\n",
       "    }\n",
       "    if (force === true) {\n",
       "        display_loaded();\n",
       "      }} else if (Date.now() < root._bokeh_timeout) {\n",
       "      setTimeout(run_inline_js, 100);\n",
       "    } else if (!root._bokeh_failed_load) {\n",
       "      console.log(\"Bokeh: BokehJS failed to load within specified timeout.\");\n",
       "      root._bokeh_failed_load = true;\n",
       "    } else if (force !== true) {\n",
       "      var cell = $(document.getElementById(\"1003\")).parents('.cell').data().cell;\n",
       "      cell.output_area.append_execute_result(NB_LOAD_WARNING)\n",
       "    }\n",
       "\n",
       "  }\n",
       "\n",
       "  if (root._bokeh_is_loading === 0) {\n",
       "    console.debug(\"Bokeh: BokehJS loaded, going straight to plotting\");\n",
       "    run_inline_js();\n",
       "  } else {\n",
       "    load_libs(css_urls, js_urls, function() {\n",
       "      console.debug(\"Bokeh: BokehJS plotting callback run at\", now());\n",
       "      run_inline_js();\n",
       "    });\n",
       "  }\n",
       "}(window));"
      ],
      "application/vnd.bokehjs_load.v0+json": "\n(function(root) {\n  function now() {\n    return new Date();\n  }\n\n  var force = true;\n\n  if (typeof root._bokeh_onload_callbacks === \"undefined\" || force === true) {\n    root._bokeh_onload_callbacks = [];\n    root._bokeh_is_loading = undefined;\n  }\n\n  \n\n  \n  if (typeof (root._bokeh_timeout) === \"undefined\" || force === true) {\n    root._bokeh_timeout = Date.now() + 5000;\n    root._bokeh_failed_load = false;\n  }\n\n  var NB_LOAD_WARNING = {'data': {'text/html':\n     \"<div style='background-color: #fdd'>\\n\"+\n     \"<p>\\n\"+\n     \"BokehJS does not appear to have successfully loaded. If loading BokehJS from CDN, this \\n\"+\n     \"may be due to a slow or bad network connection. Possible fixes:\\n\"+\n     \"</p>\\n\"+\n     \"<ul>\\n\"+\n     \"<li>re-rerun `output_notebook()` to attempt to load from CDN again, or</li>\\n\"+\n     \"<li>use INLINE resources instead, as so:</li>\\n\"+\n     \"</ul>\\n\"+\n     \"<code>\\n\"+\n     \"from bokeh.resources import INLINE\\n\"+\n     \"output_notebook(resources=INLINE)\\n\"+\n     \"</code>\\n\"+\n     \"</div>\"}};\n\n  function display_loaded() {\n    var el = document.getElementById(\"1003\");\n    if (el != null) {\n      el.textContent = \"BokehJS is loading...\";\n    }\n    if (root.Bokeh !== undefined) {\n      if (el != null) {\n        el.textContent = \"BokehJS \" + root.Bokeh.version + \" successfully loaded.\";\n      }\n    } else if (Date.now() < root._bokeh_timeout) {\n      setTimeout(display_loaded, 100)\n    }\n  }\n\n\n  function run_callbacks() {\n    try {\n      root._bokeh_onload_callbacks.forEach(function(callback) {\n        if (callback != null)\n          callback();\n      });\n    } finally {\n      delete root._bokeh_onload_callbacks\n    }\n    console.debug(\"Bokeh: all callbacks have finished\");\n  }\n\n  function load_libs(css_urls, js_urls, callback) {\n    if (css_urls == null) css_urls = [];\n    if (js_urls == null) js_urls = [];\n\n    root._bokeh_onload_callbacks.push(callback);\n    if (root._bokeh_is_loading > 0) {\n      console.debug(\"Bokeh: BokehJS is being loaded, scheduling callback at\", now());\n      return null;\n    }\n    if (js_urls == null || js_urls.length === 0) {\n      run_callbacks();\n      return null;\n    }\n    console.debug(\"Bokeh: BokehJS not loaded, scheduling load and callback at\", now());\n    root._bokeh_is_loading = css_urls.length + js_urls.length;\n\n    function on_load() {\n      root._bokeh_is_loading--;\n      if (root._bokeh_is_loading === 0) {\n        console.debug(\"Bokeh: all BokehJS libraries/stylesheets loaded\");\n        run_callbacks()\n      }\n    }\n\n    function on_error(url) {\n      console.error(\"failed to load \" + url);\n    }\n\n    for (let i = 0; i < css_urls.length; i++) {\n      const url = css_urls[i];\n      const element = document.createElement(\"link\");\n      element.onload = on_load;\n      element.onerror = on_error.bind(null, url);\n      element.rel = \"stylesheet\";\n      element.type = \"text/css\";\n      element.href = url;\n      console.debug(\"Bokeh: injecting link tag for BokehJS stylesheet: \", url);\n      document.body.appendChild(element);\n    }\n\n    const hashes = {\"https://cdn.bokeh.org/bokeh/release/bokeh-2.3.2.min.js\": \"XypntL49z55iwGVUW4qsEu83zKL3XEcz0MjuGOQ9SlaaQ68X/g+k1FcioZi7oQAc\", \"https://cdn.bokeh.org/bokeh/release/bokeh-tables-2.3.2.min.js\": \"bEsM86IHGDTLCS0Zod8a8WM6Y4+lafAL/eSiyQcuPzinmWNgNO2/olUF0Z2Dkn5i\", \"https://cdn.bokeh.org/bokeh/release/bokeh-widgets-2.3.2.min.js\": \"TX0gSQTdXTTeScqxj6PVQxTiRW8DOoGVwinyi1D3kxv7wuxQ02XkOxv0xwiypcAH\"};\n\n    for (let i = 0; i < js_urls.length; i++) {\n      const url = js_urls[i];\n      const element = document.createElement('script');\n      element.onload = on_load;\n      element.onerror = on_error.bind(null, url);\n      element.async = false;\n      element.src = url;\n      if (url in hashes) {\n        element.crossOrigin = \"anonymous\";\n        element.integrity = \"sha384-\" + hashes[url];\n      }\n      console.debug(\"Bokeh: injecting script tag for BokehJS library: \", url);\n      document.head.appendChild(element);\n    }\n  };\n\n  function inject_raw_css(css) {\n    const element = document.createElement(\"style\");\n    element.appendChild(document.createTextNode(css));\n    document.body.appendChild(element);\n  }\n\n  \n  var js_urls = [\"https://cdn.bokeh.org/bokeh/release/bokeh-2.3.2.min.js\", \"https://cdn.bokeh.org/bokeh/release/bokeh-widgets-2.3.2.min.js\", \"https://cdn.bokeh.org/bokeh/release/bokeh-tables-2.3.2.min.js\"];\n  var css_urls = [];\n  \n\n  var inline_js = [\n    function(Bokeh) {\n      Bokeh.set_log_level(\"info\");\n    },\n    function(Bokeh) {\n    \n    \n    }\n  ];\n\n  function run_inline_js() {\n    \n    if (root.Bokeh !== undefined || force === true) {\n      \n    for (var i = 0; i < inline_js.length; i++) {\n      inline_js[i].call(root, root.Bokeh);\n    }\n    if (force === true) {\n        display_loaded();\n      }} else if (Date.now() < root._bokeh_timeout) {\n      setTimeout(run_inline_js, 100);\n    } else if (!root._bokeh_failed_load) {\n      console.log(\"Bokeh: BokehJS failed to load within specified timeout.\");\n      root._bokeh_failed_load = true;\n    } else if (force !== true) {\n      var cell = $(document.getElementById(\"1003\")).parents('.cell').data().cell;\n      cell.output_area.append_execute_result(NB_LOAD_WARNING)\n    }\n\n  }\n\n  if (root._bokeh_is_loading === 0) {\n    console.debug(\"Bokeh: BokehJS loaded, going straight to plotting\");\n    run_inline_js();\n  } else {\n    load_libs(css_urls, js_urls, function() {\n      console.debug(\"Bokeh: BokehJS plotting callback run at\", now());\n      run_inline_js();\n    });\n  }\n}(window));"
     },
     "metadata": {},
     "output_type": "display_data"
    },
    {
     "name": "stderr",
     "output_type": "stream",
     "text": [
      "C:\\Users\\Vaibhav\\anaconda3\\lib\\site-packages\\scipy\\linalg\\decomp_qr.py:20: DeprecationWarning: `np.int` is a deprecated alias for the builtin `int`. To silence this warning, use `int` by itself. Doing this will not modify any behavior and is safe. When replacing `np.int`, you may wish to use e.g. `np.int64` or `np.int32` to specify the precision. If you wish to review your current use, check the release note link for additional information.\n",
      "Deprecated in NumPy 1.20; for more details and guidance: https://numpy.org/devdocs/release/1.20.0-notes.html#deprecations\n",
      "  kwargs['lwork'] = ret[-2][0].real.astype(numpy.int)\n",
      "C:\\Users\\Vaibhav\\anaconda3\\lib\\site-packages\\scipy\\linalg\\decomp_qr.py:20: DeprecationWarning: `np.int` is a deprecated alias for the builtin `int`. To silence this warning, use `int` by itself. Doing this will not modify any behavior and is safe. When replacing `np.int`, you may wish to use e.g. `np.int64` or `np.int32` to specify the precision. If you wish to review your current use, check the release note link for additional information.\n",
      "Deprecated in NumPy 1.20; for more details and guidance: https://numpy.org/devdocs/release/1.20.0-notes.html#deprecations\n",
      "  kwargs['lwork'] = ret[-2][0].real.astype(numpy.int)\n"
     ]
    },
    {
     "data": {
      "text/html": [
       "\n",
       "\n",
       "\n",
       "\n",
       "\n",
       "\n",
       "  <div class=\"bk-root\" id=\"bb6eaaff-0bac-4581-81f5-6a80faeda2f6\" data-root-id=\"1007\"></div>\n"
      ]
     },
     "metadata": {},
     "output_type": "display_data"
    },
    {
     "data": {
      "application/javascript": [
       "(function(root) {\n",
       "  function embed_document(root) {\n",
       "    \n",
       "  var docs_json = {\"1772983b-b254-4b65-bf7c-9ce00f6f75ce\":{\"defs\":[],\"roots\":{\"references\":[{\"attributes\":{\"below\":[{\"id\":\"1016\"}],\"center\":[{\"id\":\"1019\"},{\"id\":\"1023\"},{\"id\":\"1005\"}],\"left\":[{\"id\":\"1020\"}],\"renderers\":[{\"id\":\"1041\"}],\"title\":{\"id\":\"1043\"},\"toolbar\":{\"id\":\"1031\"},\"x_range\":{\"id\":\"1008\"},\"x_scale\":{\"id\":\"1012\"},\"y_range\":{\"id\":\"1010\"},\"y_scale\":{\"id\":\"1014\"}},\"id\":\"1007\",\"subtype\":\"Figure\",\"type\":\"Plot\"},{\"attributes\":{\"fill_alpha\":{\"value\":0.8},\"fill_color\":{\"value\":\"#1f77b4\"},\"size\":{\"value\":12},\"x\":{\"field\":\"x\"},\"y\":{\"field\":\"y\"}},\"id\":\"1039\",\"type\":\"Circle\"},{\"attributes\":{},\"id\":\"1043\",\"type\":\"Title\"},{\"attributes\":{},\"id\":\"1014\",\"type\":\"LinearScale\"},{\"attributes\":{\"bottom_units\":\"screen\",\"fill_alpha\":0.5,\"fill_color\":\"lightgrey\",\"left_units\":\"screen\",\"level\":\"overlay\",\"line_alpha\":1.0,\"line_color\":\"black\",\"line_dash\":[4,4],\"line_width\":2,\"right_units\":\"screen\",\"syncable\":false,\"top_units\":\"screen\"},\"id\":\"1030\",\"type\":\"BoxAnnotation\"},{\"attributes\":{},\"id\":\"1010\",\"type\":\"DataRange1d\"},{\"attributes\":{},\"id\":\"1012\",\"type\":\"LinearScale\"},{\"attributes\":{},\"id\":\"1045\",\"type\":\"BasicTickFormatter\"},{\"attributes\":{\"axis\":{\"id\":\"1020\"},\"dimension\":1,\"ticker\":null},\"id\":\"1023\",\"type\":\"Grid\"},{\"attributes\":{},\"id\":\"1046\",\"type\":\"AllLabels\"},{\"attributes\":{},\"id\":\"1021\",\"type\":\"BasicTicker\"},{\"attributes\":{\"source\":{\"id\":\"1004\"}},\"id\":\"1042\",\"type\":\"CDSView\"},{\"attributes\":{\"data\":{\"document\":{\"__ndarray__\":\"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\",\"dtype\":\"int32\",\"order\":\"little\",\"shape\":[3000]},\"index\":[0,1,2,3,4,5,6,7,8,9,10,11,12,13,14,15,16,17,18,19,20,21,22,23,24,25,26,27,28,29,30,31,32,33,34,35,36,37,38,39,40,41,42,43,44,45,46,47,48,49,50,51,52,53,54,55,56,57,58,59,60,61,62,63,64,65,66,67,68,69,70,71,72,73,74,75,76,77,78,79,80,81,82,83,84,85,86,87,88,89,90,91,92,93,94,95,96,97,98,99,100,101,102,103,104,105,106,107,108,109,110,111,112,113,114,115,116,117,118,119,120,121,122,123,124,125,126,127,128,129,130,131,132,133,134,135,136,137,138,139,140,141,142,143,144,145,146,147,148,149,150,151,152,153,154,155,156,157,158,159,160,161,162,163,164,165,166,167,168,169,170,171,172,173,174,175,176,177,178,179,180,181,182,183,184,185,186,187,188,189,190,191,192,193,194,195,196,197,198,199,200,201,202,203,204,205,206,207,208,209,210,211,212,213,214,215,216,217,218,219,220,221,222,223,224,225,226,227,228,229,230,231,232,233,234,235,236,237,238,239,240,241,242,243,244,245,246,247,248,249,250,251,252,253,254,255,256,257,258,259,260,261,262,263,264,265,266,267,268,269,270,271,272,273,274,275,276,277,278,279,280,281,282,283,284,285,286,287,288,289,290,291,292,293,294,295,296,297,298,299,300,301,302,303,304,305,306,307,308,309,310,311,312,313,314,315,316,317,318,319,320,321,322,323,324,325,326,327,328,329,330,331,332,333,334,335,336,337,338,339,340,341,342,343,344,345,346,347,348,349,350,351,352,353,354,355,356,357,358,359,360,361,362,363,364,365,366,367,368,369,370,371,372,373,374,375,376,377,378,379,380,381,382,383,384,385,386,387,388,389,390,391,392,393,394,395,396,397,398,399,400,401,402,403,404,405,406,407,408,409,410,411,412,413,414,415,416,417,418,419,420,421,422,423,424,425,426,427,428,429,430,431,432,433,434,435,436,437,438,439,440,441,442,443,444,445,446,447,448,449,450,451,452,453,454,455,456,457,458,459,460,461,462,463,464,465,466,467,468,469,470,471,472,473,474,475,476,477,478,479,480,481,482,483,484,485,486,487,488,489,490,491,492,493,494,495,496,497,498,499,500,501,502,503,504,505,506,507,508,509,510,511,512,513,514,515,516,517,518,519,520,521,522,523,524,525,526,527,528,529,530,531,532,533,534,535,536,537,538,539,540,541,542,543,544,545,546,547,548,549,550,551,552,553,554,555,556,557,558,559,560,561,562,563,564,565,566,567,568,569,570,571,572,573,574,575,576,577,578,579,580,581,582,583,584,585,586,587,588,589,590,591,592,593,594,595,596,597,598,599,600,601,602,603,604,605,606,607,608,609,610,611,612,613,614,615,616,617,618,619,620,621,622,623,624,625,626,627,628,629,630,631,632,633,634,635,636,637,638,639,640,641,642,643,644,645,646,647,648,649,650,651,652,653,654,655,656,657,658,659,660,661,662,663,664,665,666,667,668,669,670,671,672,673,674,675,676,677,678,679,680,681,682,683,684,685,686,687,688,689,690,691,692,693,694,695,696,697,698,699,700,701,702,703,704,705,706,707,708,709,710,711,712,713,714,715,716,717,718,719,720,721,722,723,724,725,726,727,728,729,730,731,732,733,734,735,736,737,738,739,740,741,742,743,744,745,746,747,748,749,750,751,752,753,754,755,756,757,758,759,760,761,762,763,764,765,766,767,768,769,770,771,772,773,774,775,776,777,778,779,780,781,782,783,784,785,786,787,788,789,790,791,792,793,794,795,796,797,798,799,800,801,802,803,804,805,806,807,808,809,810,811,812,813,814,815,816,817,818,819,820,821,822,823,824,825,826,827,828,829,830,831,832,833,834,835,836,837,838,839,840,841,842,843,844,845,846,847,848,849,850,851,852,853,854,855,856,857,858,859,860,861,862,863,864,865,866,867,868,869,870,871,872,873,874,875,876,877,878,879,880,881,882,883,884,885,886,887,888,889,890,891,892,893,894,895,896,897,898,899,900,901,902,903,904,905,906,907,908,909,910,911,912,913,914,915,916,917,918,919,920,921,922,923,924,925,926,927,928,929,930,931,932,933,934,935,936,937,938,939,940,941,942,943,944,945,946,947,948,949,950,951,952,953,954,955,956,957,958,959,960,961,962,963,964,965,966,967,968,969,970,971,972,973,974,975,976,977,978,979,980,981,982,983,984,985,986,987,988,989,990,991,992,993,994,995,996,997,998,999,1000,1001,1002,1003,1004,1005,1006,1007,1008,1009,1010,1011,1012,1013,1014,1015,1016,1017,1018,1019,1020,1021,1022,1023,1024,1025,1026,1027,1028,1029,1030,1031,1032,1033,1034,1035,1036,1037,1038,1039,1040,1041,1042,1043,1044,1045,1046,1047,1048,1049,1050,1051,1052,1053,1054,1055,1056,1057,1058,1059,1060,1061,1062,1063,1064,1065,1066,1067,1068,1069,1070,1071,1072,1073,1074,1075,1076,1077,1078,1079,1080,1081,1082,1083,1084,1085,1086,1087,1088,1089,1090,1091,1092,1093,1094,1095,1096,1097,1098,1099,1100,1101,1102,1103,1104,1105,1106,1107,1108,1109,1110,1111,1112,1113,1114,1115,1116,1117,1118,1119,1120,1121,1122,1123,1124,1125,1126,1127,1128,1129,1130,1131,1132,1133,1134,1135,1136,1137,1138,1139,1140,1141,1142,1143,1144,1145,1146,1147,1148,1149,1150,1151,1152,1153,1154,1155,1156,1157,1158,1159,1160,1161,1162,1163,1164,1165,1166,1167,1168,1169,1170,1171,1172,1173,1174,1175,1176,1177,1178,1179,1180,1181,1182,1183,1184,1185,1186,1187,1188,1189,1190,1191,1192,1193,1194,1195,1196,1197,1198,1199,1200,1201,1202,1203,1204,1205,1206,1207,1208,1209,1210,1211,1212,1213,1214,1215,1216,1217,1218,1219,1220,1221,1222,1223,1224,1225,1226,1227,1228,1229,1230,1231,1232,1233,1234,1235,1236,1237,1238,1239,1240,1241,1242,1243,1244,1245,1246,1247,1248,1249,1250,1251,1252,1253,1254,1255,1256,1257,1258,1259,1260,1261,1262,1263,1264,1265,1266,1267,1268,1269,1270,1271,1272,1273,1274,1275,1276,1277,1278,1279,1280,1281,1282,1283,1284,1285,1286,1287,1288,1289,1290,1291,1292,1293,1294,1295,1296,1297,1298,1299,1300,1301,1302,1303,1304,1305,1306,1307,1308,1309,1310,1311,1312,1313,1314,1315,1316,1317,1318,1319,1320,1321,1322,1323,1324,1325,1326,1327,1328,1329,1330,1331,1332,1333,1334,1335,1336,1337,1338,1339,1340,1341,1342,1343,1344,1345,1346,1347,1348,1349,1350,1351,1352,1353,1354,1355,1356,1357,1358,1359,1360,1361,1362,1363,1364,1365,1366,1367,1368,1369,1370,1371,1372,1373,1374,1375,1376,1377,1378,1379,1380,1381,1382,1383,1384,1385,1386,1387,1388,1389,1390,1391,1392,1393,1394,1395,1396,1397,1398,1399,1400,1401,1402,1403,1404,1405,1406,1407,1408,1409,1410,1411,1412,1413,1414,1415,1416,1417,1418,1419,1420,1421,1422,1423,1424,1425,1426,1427,1428,1429,1430,1431,1432,1433,1434,1435,1436,1437,1438,1439,1440,1441,1442,1443,1444,1445,1446,1447,1448,1449,1450,1451,1452,1453,1454,1455,1456,1457,1458,1459,1460,1461,1462,1463,1464,1465,1466,1467,1468,1469,1470,1471,1472,1473,1474,1475,1476,1477,1478,1479,1480,1481,1482,1483,1484,1485,1486,1487,1488,1489,1490,1491,1492,1493,1494,1495,1496,1497,1498,1499,1500,1501,1502,1503,1504,1505,1506,1507,1508,1509,1510,1511,1512,1513,1514,1515,1516,1517,1518,1519,1520,1521,1522,1523,1524,1525,1526,1527,1528,1529,1530,1531,1532,1533,1534,1535,1536,1537,1538,1539,1540,1541,1542,1543,1544,1545,1546,1547,1548,1549,1550,1551,1552,1553,1554,1555,1556,1557,1558,1559,1560,1561,1562,1563,1564,1565,1566,1567,1568,1569,1570,1571,1572,1573,1574,1575,1576,1577,1578,1579,1580,1581,1582,1583,1584,1585,1586,1587,1588,1589,1590,1591,1592,1593,1594,1595,1596,1597,1598,1599,1600,1601,1602,1603,1604,1605,1606,1607,1608,1609,1610,1611,1612,1613,1614,1615,1616,1617,1618,1619,1620,1621,1622,1623,1624,1625,1626,1627,1628,1629,1630,1631,1632,1633,1634,1635,1636,1637,1638,1639,1640,1641,1642,1643,1644,1645,1646,1647,1648,1649,1650,1651,1652,1653,1654,1655,1656,1657,1658,1659,1660,1661,1662,1663,1664,1665,1666,1667,1668,1669,1670,1671,1672,1673,1674,1675,1676,1677,1678,1679,1680,1681,1682,1683,1684,1685,1686,1687,1688,1689,1690,1691,1692,1693,1694,1695,1696,1697,1698,1699,1700,1701,1702,1703,1704,1705,1706,1707,1708,1709,1710,1711,1712,1713,1714,1715,1716,1717,1718,1719,1720,1721,1722,1723,1724,1725,1726,1727,1728,1729,1730,1731,1732,1733,1734,1735,1736,1737,1738,1739,1740,1741,1742,1743,1744,1745,1746,1747,1748,1749,1750,1751,1752,1753,1754,1755,1756,1757,1758,1759,1760,1761,1762,1763,1764,1765,1766,1767,1768,1769,1770,1771,1772,1773,1774,1775,1776,1777,1778,1779,1780,1781,1782,1783,1784,1785,1786,1787,1788,1789,1790,1791,1792,1793,1794,1795,1796,1797,1798,1799,1800,1801,1802,1803,1804,1805,1806,1807,1808,1809,1810,1811,1812,1813,1814,1815,1816,1817,1818,1819,1820,1821,1822,1823,1824,1825,1826,1827,1828,1829,1830,1831,1832,1833,1834,1835,1836,1837,1838,1839,1840,1841,1842,1843,1844,1845,1846,1847,1848,1849,1850,1851,1852,1853,1854,1855,1856,1857,1858,1859,1860,1861,1862,1863,1864,1865,1866,1867,1868,1869,1870,1871,1872,1873,1874,1875,1876,1877,1878,1879,1880,1881,1882,1883,1884,1885,1886,1887,1888,1889,1890,1891,1892,1893,1894,1895,1896,1897,1898,1899,1900,1901,1902,1903,1904,1905,1906,1907,1908,1909,1910,1911,1912,1913,1914,1915,1916,1917,1918,1919,1920,1921,1922,1923,1924,1925,1926,1927,1928,1929,1930,1931,1932,1933,1934,1935,1936,1937,1938,1939,1940,1941,1942,1943,1944,1945,1946,1947,1948,1949,1950,1951,1952,1953,1954,1955,1956,1957,1958,1959,1960,1961,1962,1963,1964,1965,1966,1967,1968,1969,1970,1971,1972,1973,1974,1975,1976,1977,1978,1979,1980,1981,1982,1983,1984,1985,1986,1987,1988,1989,1990,1991,1992,1993,1994,1995,1996,1997,1998,1999,2000,2001,2002,2003,2004,2005,2006,2007,2008,2009,2010,2011,2012,2013,2014,2015,2016,2017,2018,2019,2020,2021,2022,2023,2024,2025,2026,2027,2028,2029,2030,2031,2032,2033,2034,2035,2036,2037,2038,2039,2040,2041,2042,2043,2044,2045,2046,2047,2048,2049,2050,2051,2052,2053,2054,2055,2056,2057,2058,2059,2060,2061,2062,2063,2064,2065,2066,2067,2068,2069,2070,2071,2072,2073,2074,2075,2076,2077,2078,2079,2080,2081,2082,2083,2084,2085,2086,2087,2088,2089,2090,2091,2092,2093,2094,2095,2096,2097,2098,2099,2100,2101,2102,2103,2104,2105,2106,2107,2108,2109,2110,2111,2112,2113,2114,2115,2116,2117,2118,2119,2120,2121,2122,2123,2124,2125,2126,2127,2128,2129,2130,2131,2132,2133,2134,2135,2136,2137,2138,2139,2140,2141,2142,2143,2144,2145,2146,2147,2148,2149,2150,2151,2152,2153,2154,2155,2156,2157,2158,2159,2160,2161,2162,2163,2164,2165,2166,2167,2168,2169,2170,2171,2172,2173,2174,2175,2176,2177,2178,2179,2180,2181,2182,2183,2184,2185,2186,2187,2188,2189,2190,2191,2192,2193,2194,2195,2196,2197,2198,2199,2200,2201,2202,2203,2204,2205,2206,2207,2208,2209,2210,2211,2212,2213,2214,2215,2216,2217,2218,2219,2220,2221,2222,2223,2224,2225,2226,2227,2228,2229,2230,2231,2232,2233,2234,2235,2236,2237,2238,2239,2240,2241,2242,2243,2244,2245,2246,2247,2248,2249,2250,2251,2252,2253,2254,2255,2256,2257,2258,2259,2260,2261,2262,2263,2264,2265,2266,2267,2268,2269,2270,2271,2272,2273,2274,2275,2276,2277,2278,2279,2280,2281,2282,2283,2284,2285,2286,2287,2288,2289,2290,2291,2292,2293,2294,2295,2296,2297,2298,2299,2300,2301,2302,2303,2304,2305,2306,2307,2308,2309,2310,2311,2312,2313,2314,2315,2316,2317,2318,2319,2320,2321,2322,2323,2324,2325,2326,2327,2328,2329,2330,2331,2332,2333,2334,2335,2336,2337,2338,2339,2340,2341,2342,2343,2344,2345,2346,2347,2348,2349,2350,2351,2352,2353,2354,2355,2356,2357,2358,2359,2360,2361,2362,2363,2364,2365,2366,2367,2368,2369,2370,2371,2372,2373,2374,2375,2376,2377,2378,2379,2380,2381,2382,2383,2384,2385,2386,2387,2388,2389,2390,2391,2392,2393,2394,2395,2396,2397,2398,2399,2400,2401,2402,2403,2404,2405,2406,2407,2408,2409,2410,2411,2412,2413,2414,2415,2416,2417,2418,2419,2420,2421,2422,2423,2424,2425,2426,2427,2428,2429,2430,2431,2432,2433,2434,2435,2436,2437,2438,2439,2440,2441,2442,2443,2444,2445,2446,2447,2448,2449,2450,2451,2452,2453,2454,2455,2456,2457,2458,2459,2460,2461,2462,2463,2464,2465,2466,2467,2468,2469,2470,2471,2472,2473,2474,2475,2476,2477,2478,2479,2480,2481,2482,2483,2484,2485,2486,2487,2488,2489,2490,2491,2492,2493,2494,2495,2496,2497,2498,2499,2500,2501,2502,2503,2504,2505,2506,2507,2508,2509,2510,2511,2512,2513,2514,2515,2516,2517,2518,2519,2520,2521,2522,2523,2524,2525,2526,2527,2528,2529,2530,2531,2532,2533,2534,2535,2536,2537,2538,2539,2540,2541,2542,2543,2544,2545,2546,2547,2548,2549,2550,2551,2552,2553,2554,2555,2556,2557,2558,2559,2560,2561,2562,2563,2564,2565,2566,2567,2568,2569,2570,2571,2572,2573,2574,2575,2576,2577,2578,2579,2580,2581,2582,2583,2584,2585,2586,2587,2588,2589,2590,2591,2592,2593,2594,2595,2596,2597,2598,2599,2600,2601,2602,2603,2604,2605,2606,2607,2608,2609,2610,2611,2612,2613,2614,2615,2616,2617,2618,2619,2620,2621,2622,2623,2624,2625,2626,2627,2628,2629,2630,2631,2632,2633,2634,2635,2636,2637,2638,2639,2640,2641,2642,2643,2644,2645,2646,2647,2648,2649,2650,2651,2652,2653,2654,2655,2656,2657,2658,2659,2660,2661,2662,2663,2664,2665,2666,2667,2668,2669,2670,2671,2672,2673,2674,2675,2676,2677,2678,2679,2680,2681,2682,2683,2684,2685,2686,2687,2688,2689,2690,2691,2692,2693,2694,2695,2696,2697,2698,2699,2700,2701,2702,2703,2704,2705,2706,2707,2708,2709,2710,2711,2712,2713,2714,2715,2716,2717,2718,2719,2720,2721,2722,2723,2724,2725,2726,2727,2728,2729,2730,2731,2732,2733,2734,2735,2736,2737,2738,2739,2740,2741,2742,2743,2744,2745,2746,2747,2748,2749,2750,2751,2752,2753,2754,2755,2756,2757,2758,2759,2760,2761,2762,2763,2764,2765,2766,2767,2768,2769,2770,2771,2772,2773,2774,2775,2776,2777,2778,2779,2780,2781,2782,2783,2784,2785,2786,2787,2788,2789,2790,2791,2792,2793,2794,2795,2796,2797,2798,2799,2800,2801,2802,2803,2804,2805,2806,2807,2808,2809,2810,2811,2812,2813,2814,2815,2816,2817,2818,2819,2820,2821,2822,2823,2824,2825,2826,2827,2828,2829,2830,2831,2832,2833,2834,2835,2836,2837,2838,2839,2840,2841,2842,2843,2844,2845,2846,2847,2848,2849,2850,2851,2852,2853,2854,2855,2856,2857,2858,2859,2860,2861,2862,2863,2864,2865,2866,2867,2868,2869,2870,2871,2872,2873,2874,2875,2876,2877,2878,2879,2880,2881,2882,2883,2884,2885,2886,2887,2888,2889,2890,2891,2892,2893,2894,2895,2896,2897,2898,2899,2900,2901,2902,2903,2904,2905,2906,2907,2908,2909,2910,2911,2912,2913,2914,2915,2916,2917,2918,2919,2920,2921,2922,2923,2924,2925,2926,2927,2928,2929,2930,2931,2932,2933,2934,2935,2936,2937,2938,2939,2940,2941,2942,2943,2944,2945,2946,2947,2948,2949,2950,2951,2952,2953,2954,2955,2956,2957,2958,2959,2960,2961,2962,2963,2964,2965,2966,2967,2968,2969,2970,2971,2972,2973,2974,2975,2976,2977,2978,2979,2980,2981,2982,2983,2984,2985,2986,2987,2988,2989,2990,2991,2992,2993,2994,2995,2996,2997,2998,2999],\"x\":{\"__ndarray__\":\"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\",\"dtype\":\"float64\",\"order\":\"little\",\"shape\":[3000]},\"y\":{\"__ndarray__\":\"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\",\"dtype\":\"float64\",\"order\":\"little\",\"shape\":[3000]}},\"selected\":{\"id\":\"1052\"},\"selection_policy\":{\"id\":\"1051\"}},\"id\":\"1004\",\"type\":\"ColumnDataSource\"},{\"attributes\":{\"formatter\":{\"id\":\"1048\"},\"major_label_policy\":{\"id\":\"1049\"},\"ticker\":{\"id\":\"1021\"}},\"id\":\"1020\",\"type\":\"LinearAxis\"},{\"attributes\":{},\"id\":\"1008\",\"type\":\"DataRange1d\"},{\"attributes\":{},\"id\":\"1017\",\"type\":\"BasicTicker\"},{\"attributes\":{\"axis\":{\"id\":\"1016\"},\"ticker\":null},\"id\":\"1019\",\"type\":\"Grid\"},{\"attributes\":{\"overlay\":{\"id\":\"1030\"}},\"id\":\"1026\",\"type\":\"BoxZoomTool\"},{\"attributes\":{\"formatter\":{\"id\":\"1045\"},\"major_label_policy\":{\"id\":\"1046\"},\"ticker\":{\"id\":\"1017\"}},\"id\":\"1016\",\"type\":\"LinearAxis\"},{\"attributes\":{},\"id\":\"1048\",\"type\":\"BasicTickFormatter\"},{\"attributes\":{},\"id\":\"1029\",\"type\":\"HelpTool\"},{\"attributes\":{},\"id\":\"1049\",\"type\":\"AllLabels\"},{\"attributes\":{},\"id\":\"1024\",\"type\":\"PanTool\"},{\"attributes\":{},\"id\":\"1025\",\"type\":\"WheelZoomTool\"},{\"attributes\":{},\"id\":\"1051\",\"type\":\"UnionRenderers\"},{\"attributes\":{\"active_multi\":null,\"tools\":[{\"id\":\"1024\"},{\"id\":\"1025\"},{\"id\":\"1026\"},{\"id\":\"1027\"},{\"id\":\"1028\"},{\"id\":\"1029\"}]},\"id\":\"1031\",\"type\":\"Toolbar\"},{\"attributes\":{},\"id\":\"1027\",\"type\":\"SaveTool\"},{\"attributes\":{},\"id\":\"1052\",\"type\":\"Selection\"},{\"attributes\":{},\"id\":\"1028\",\"type\":\"ResetTool\"},{\"attributes\":{\"fill_alpha\":{\"value\":0.1},\"fill_color\":{\"value\":\"#1f77b4\"},\"line_alpha\":{\"value\":0.1},\"size\":{\"value\":12},\"x\":{\"field\":\"x\"},\"y\":{\"field\":\"y\"}},\"id\":\"1040\",\"type\":\"Circle\"},{\"attributes\":{\"data_source\":{\"id\":\"1004\"},\"glyph\":{\"id\":\"1039\"},\"hover_glyph\":null,\"muted_glyph\":null,\"nonselection_glyph\":{\"id\":\"1040\"},\"view\":{\"id\":\"1042\"}},\"id\":\"1041\",\"type\":\"GlyphRenderer\"},{\"attributes\":{\"source\":{\"id\":\"1004\"},\"text\":{\"field\":\"document\"},\"text_align\":{\"value\":\"center\"},\"text_color\":{\"value\":\"#555555\"},\"text_font_size\":{\"value\":\"8pt\"},\"x\":{\"field\":\"x\"},\"y\":{\"field\":\"y\"},\"y_offset\":{\"value\":8}},\"id\":\"1005\",\"type\":\"LabelSet\"}],\"root_ids\":[\"1007\"]},\"title\":\"Bokeh Application\",\"version\":\"2.3.2\"}};\n",
       "  var render_items = [{\"docid\":\"1772983b-b254-4b65-bf7c-9ce00f6f75ce\",\"notebook_comms_target\":\"1054\",\"root_ids\":[\"1007\"],\"roots\":{\"1007\":\"bb6eaaff-0bac-4581-81f5-6a80faeda2f6\"}}];\n",
       "  root.Bokeh.embed.embed_items_notebook(docs_json, render_items);\n",
       "\n",
       "  }\n",
       "  if (root.Bokeh !== undefined) {\n",
       "    embed_document(root);\n",
       "  } else {\n",
       "    var attempts = 0;\n",
       "    var timer = setInterval(function(root) {\n",
       "      if (root.Bokeh !== undefined) {\n",
       "        clearInterval(timer);\n",
       "        embed_document(root);\n",
       "      } else {\n",
       "        attempts++;\n",
       "        if (attempts > 100) {\n",
       "          clearInterval(timer);\n",
       "          console.log(\"Bokeh: ERROR: Unable to run BokehJS code because BokehJS library is missing\");\n",
       "        }\n",
       "      }\n",
       "    }, 10, root)\n",
       "  }\n",
       "})(window);"
      ],
      "application/vnd.bokehjs_exec.v0+json": ""
     },
     "metadata": {
      "application/vnd.bokehjs_exec.v0+json": {
       "id": "1007"
      }
     },
     "output_type": "display_data"
    },
    {
     "data": {
      "text/html": [
       "<p><code>&lt;Bokeh Notebook handle for <strong>In[18]</strong>&gt;</code></p>"
      ],
      "text/plain": [
       "<bokeh.io.notebook.CommsHandle at 0x1ad11ff2700>"
      ]
     },
     "execution_count": 18,
     "metadata": {},
     "output_type": "execute_result"
    }
   ],
   "source": [
    "\n",
    "import pandas as pd\n",
    "from bokeh.io import push_notebook, show, output_notebook\n",
    "from bokeh.plotting import figure\n",
    "from bokeh.models import ColumnDataSource, LabelSet\n",
    "output_notebook()\n",
    "\n",
    "svd = TruncatedSVD(n_components=100)\n",
    "documents_2d = svd.fit_transform(data_vectorized)\n",
    " \n",
    "df = pd.DataFrame(columns=['x', 'y', 'document'])\n",
    "df['x'], df['y'], df['document'] = documents_2d[:,0], documents_2d[:,1], range(len(data))\n",
    " \n",
    "source = ColumnDataSource(ColumnDataSource.from_df(df))\n",
    "labels = LabelSet(x=\"x\", y=\"y\", text=\"document\", y_offset=8,\n",
    "                  text_font_size=\"8pt\", text_color=\"#555555\",\n",
    "                  source=source, text_align='center')\n",
    " \n",
    "plot = figure(plot_width=600, plot_height=600)\n",
    "plot.circle(\"x\", \"y\", size=12, source=source, line_color=\"black\", fill_alpha=0.8)\n",
    "plot.add_layout(labels)\n",
    "show(plot, notebook_handle=True)"
   ]
  },
  {
   "cell_type": "code",
   "execution_count": 19,
   "id": "ad8fad3e",
   "metadata": {},
   "outputs": [
    {
     "name": "stderr",
     "output_type": "stream",
     "text": [
      "C:\\Users\\Vaibhav\\anaconda3\\lib\\site-packages\\ipykernel\\ipkernel.py:287: DeprecationWarning: `should_run_async` will not call `transform_cell` automatically in the future. Please pass the result to `transformed_cell` argument and any exception that happen during thetransform in `preprocessing_exc_tuple` in IPython 7.17 and above.\n",
      "  and should_run_async(code)\n",
      "C:\\Users\\Vaibhav\\anaconda3\\lib\\site-packages\\scipy\\linalg\\decomp_qr.py:20: DeprecationWarning: `np.int` is a deprecated alias for the builtin `int`. To silence this warning, use `int` by itself. Doing this will not modify any behavior and is safe. When replacing `np.int`, you may wish to use e.g. `np.int64` or `np.int32` to specify the precision. If you wish to review your current use, check the release note link for additional information.\n",
      "Deprecated in NumPy 1.20; for more details and guidance: https://numpy.org/devdocs/release/1.20.0-notes.html#deprecations\n",
      "  kwargs['lwork'] = ret[-2][0].real.astype(numpy.int)\n",
      "C:\\Users\\Vaibhav\\anaconda3\\lib\\site-packages\\scipy\\linalg\\decomp_qr.py:20: DeprecationWarning: `np.int` is a deprecated alias for the builtin `int`. To silence this warning, use `int` by itself. Doing this will not modify any behavior and is safe. When replacing `np.int`, you may wish to use e.g. `np.int64` or `np.int32` to specify the precision. If you wish to review your current use, check the release note link for additional information.\n",
      "Deprecated in NumPy 1.20; for more details and guidance: https://numpy.org/devdocs/release/1.20.0-notes.html#deprecations\n",
      "  kwargs['lwork'] = ret[-2][0].real.astype(numpy.int)\n"
     ]
    },
    {
     "data": {
      "text/html": [
       "\n",
       "\n",
       "\n",
       "\n",
       "\n",
       "\n",
       "  <div class=\"bk-root\" id=\"1cd74f4d-e7f3-4ce5-a7c0-37bd590968cf\" data-root-id=\"1113\"></div>\n"
      ]
     },
     "metadata": {},
     "output_type": "display_data"
    },
    {
     "data": {
      "application/javascript": [
       "(function(root) {\n",
       "  function embed_document(root) {\n",
       "    \n",
       "  var docs_json = {\"2bcfb83c-8cb9-465b-85c8-cc06b6282b1b\":{\"defs\":[],\"roots\":{\"references\":[{\"attributes\":{\"below\":[{\"id\":\"1122\"}],\"center\":[{\"id\":\"1125\"},{\"id\":\"1129\"},{\"id\":\"1111\"}],\"left\":[{\"id\":\"1126\"}],\"renderers\":[{\"id\":\"1147\"}],\"title\":{\"id\":\"1160\"},\"toolbar\":{\"id\":\"1137\"},\"x_range\":{\"id\":\"1114\"},\"x_scale\":{\"id\":\"1118\"},\"y_range\":{\"id\":\"1116\"},\"y_scale\":{\"id\":\"1120\"}},\"id\":\"1113\",\"subtype\":\"Figure\",\"type\":\"Plot\"},{\"attributes\":{\"source\":{\"id\":\"1110\"}},\"id\":\"1148\",\"type\":\"CDSView\"},{\"attributes\":{},\"id\":\"1120\",\"type\":\"LinearScale\"},{\"attributes\":{\"formatter\":{\"id\":\"1165\"},\"major_label_policy\":{\"id\":\"1166\"},\"ticker\":{\"id\":\"1127\"}},\"id\":\"1126\",\"type\":\"LinearAxis\"},{\"attributes\":{\"bottom_units\":\"screen\",\"fill_alpha\":0.5,\"fill_color\":\"lightgrey\",\"left_units\":\"screen\",\"level\":\"overlay\",\"line_alpha\":1.0,\"line_color\":\"black\",\"line_dash\":[4,4],\"line_width\":2,\"right_units\":\"screen\",\"syncable\":false,\"top_units\":\"screen\"},\"id\":\"1136\",\"type\":\"BoxAnnotation\"},{\"attributes\":{},\"id\":\"1127\",\"type\":\"BasicTicker\"},{\"attributes\":{},\"id\":\"1118\",\"type\":\"LinearScale\"},{\"attributes\":{},\"id\":\"1160\",\"type\":\"Title\"},{\"attributes\":{\"fill_alpha\":{\"value\":0.1},\"fill_color\":{\"value\":\"#1f77b4\"},\"line_alpha\":{\"value\":0.1},\"size\":{\"value\":12},\"x\":{\"field\":\"x\"},\"y\":{\"field\":\"y\"}},\"id\":\"1146\",\"type\":\"Circle\"},{\"attributes\":{},\"id\":\"1165\",\"type\":\"BasicTickFormatter\"},{\"attributes\":{\"fill_alpha\":{\"value\":0.8},\"fill_color\":{\"value\":\"#1f77b4\"},\"size\":{\"value\":12},\"x\":{\"field\":\"x\"},\"y\":{\"field\":\"y\"}},\"id\":\"1145\",\"type\":\"Circle\"},{\"attributes\":{},\"id\":\"1123\",\"type\":\"BasicTicker\"},{\"attributes\":{},\"id\":\"1166\",\"type\":\"AllLabels\"},{\"attributes\":{\"axis\":{\"id\":\"1122\"},\"ticker\":null},\"id\":\"1125\",\"type\":\"Grid\"},{\"attributes\":{},\"id\":\"1135\",\"type\":\"HelpTool\"},{\"attributes\":{},\"id\":\"1168\",\"type\":\"UnionRenderers\"},{\"attributes\":{},\"id\":\"1116\",\"type\":\"DataRange1d\"},{\"attributes\":{},\"id\":\"1169\",\"type\":\"Selection\"},{\"attributes\":{\"source\":{\"id\":\"1110\"},\"text\":{\"field\":\"word\"},\"text_align\":{\"value\":\"center\"},\"text_color\":{\"value\":\"#555555\"},\"text_font_size\":{\"value\":\"8pt\"},\"x\":{\"field\":\"x\"},\"y\":{\"field\":\"y\"},\"y_offset\":{\"value\":8}},\"id\":\"1111\",\"type\":\"LabelSet\"},{\"attributes\":{},\"id\":\"1131\",\"type\":\"WheelZoomTool\"},{\"attributes\":{\"axis\":{\"id\":\"1126\"},\"dimension\":1,\"ticker\":null},\"id\":\"1129\",\"type\":\"Grid\"},{\"attributes\":{},\"id\":\"1130\",\"type\":\"PanTool\"},{\"attributes\":{\"overlay\":{\"id\":\"1136\"}},\"id\":\"1132\",\"type\":\"BoxZoomTool\"},{\"attributes\":{},\"id\":\"1133\",\"type\":\"SaveTool\"},{\"attributes\":{\"active_multi\":null,\"tools\":[{\"id\":\"1130\"},{\"id\":\"1131\"},{\"id\":\"1132\"},{\"id\":\"1133\"},{\"id\":\"1134\"},{\"id\":\"1135\"}]},\"id\":\"1137\",\"type\":\"Toolbar\"},{\"attributes\":{\"data\":{\"index\":[0,1,2,3,4,5,6,7,8,9,10,11,12,13,14,15,16,17,18,19,20,21,22,23,24,25,26,27,28,29,30,31,32,33,34,35,36,37,38,39,40,41,42,43,44,45,46,47,48,49,50,51,52,53,54,55,56,57,58,59,60,61,62,63,64,65,66,67,68,69,70,71,72,73,74,75,76,77,78,79,80,81,82,83,84,85,86,87,88,89,90,91,92,93,94,95,96,97,98,99,100,101,102,103,104,105,106,107,108,109,110,111,112,113,114,115,116,117,118,119,120,121,122,123,124,125,126,127,128,129,130,131,132,133,134,135,136,137,138,139,140,141,142,143,144,145,146,147,148,149,150,151,152,153,154,155,156,157,158,159,160,161,162,163,164,165,166,167,168,169,170,171,172,173,174,175,176,177,178,179,180,181,182,183,184,185,186,187,188,189,190,191,192,193,194,195,196,197,198,199,200,201,202,203,204,205,206,207,208,209,210,211,212,213,214,215,216,217,218,219,220,221,222,223,224,225,226,227,228,229,230,231,232,233,234,235,236,237,238,239,240,241,242,243,244,245,246,247,248,249,250,251,252,253,254,255,256,257,258,259,260,261,262,263,264,265,266,267,268,269,270,271,272,273,274,275,276,277,278,279,280,281,282,283,284,285,286,287,288,289,290,291,292,293,294,295,296,297,298,299,300,301,302,303,304,305,306,307,308,309,310,311,312,313,314,315,316,317,318,319,320,321,322,323,324,325,326,327,328,329,330,331,332,333,334,335,336,337,338,339,340,341,342,343,344,345,346,347,348,349,350,351,352,353,354,355,356,357,358,359,360,361,362,363,364,365,366,367,368,369,370,371,372,373,374,375,376,377,378,379,380,381,382,383,384,385,386,387,388,389,390,391,392,393,394,395,396,397,398,399,400,401,402,403,404,405,406,407,408,409,410,411,412,413,414,415,416,417,418,419,420,421,422,423,424,425,426,427,428,429,430,431,432,433,434,435,436,437,438,439,440,441,442,443,444,445,446,447,448,449,450,451,452,453,454,455,456,457,458,459,460,461,462,463,464,465,466,467,468,469,470,471,472,473,474,475,476,477,478,479,480,481,482,483,484,485,486,487,488,489,490,491,492,493,494,495,496,497,498,499,500,501,502,503,504,505,506,507,508,509,510,511,512,513,514,515,516,517,518,519,520,521,522,523,524,525,526,527,528,529,530,531,532,533,534,535,536,537,538,539,540,541,542,543,544,545,546,547,548,549,550,551,552,553,554,555,556,557,558,559,560,561,562,563,564,565,566,567,568,569,570,571,572,573,574,575,576,577,578,579,580,581,582,583,584,585,586,587,588,589,590,591,592,593,594,595,596,597,598,599,600,601,602,603,604,605,606,607,608,609,610,611,612,613,614,615,616,617,618,619,620,621,622,623,624,625,626,627,628,629,630,631,632,633,634,635,636,637,638,639,640,641,642,643,644,645,646,647,648,649,650,651,652,653,654,655,656,657,658,659,660,661,662,663,664,665,666,667,668,669,670,671,672,673,674,675,676,677,678,679,680,681,682,683,684,685,686,687,688,689,690,691,692,693,694,695,696,697,698,699,700,701,702,703,704,705,706,707,708,709,710,711,712,713,714,715,716,717,718,719,720,721,722,723,724,725,726,727,728,729,730,731,732,733,734,735,736,737,738,739,740,741,742,743,744,745,746,747,748,749,750,751,752,753,754,755,756,757,758,759,760,761,762,763,764,765,766,767,768,769,770,771,772,773,774,775,776,777,778,779,780,781,782,783,784,785,786,787,788,789,790,791,792,793,794,795,796,797,798,799,800,801,802,803,804,805,806,807,808,809,810,811,812,813,814,815,816,817,818,819,820,821,822,823,824,825,826,827,828,829,830,831,832,833,834,835,836,837,838,839,840,841,842,843,844,845,846,847,848,849,850,851,852,853,854,855,856,857,858,859,860,861,862,863,864,865,866,867,868,869,870,871,872,873,874,875,876,877,878,879,880,881,882,883,884,885,886,887,888,889,890,891,892,893,894,895,896,897,898,899,900,901,902,903,904,905,906,907,908,909,910,911,912,913,914,915,916,917,918,919,920,921,922,923,924,925,926,927,928,929,930,931,932,933,934,935,936,937,938,939,940,941,942,943,944,945,946],\"word\":[\"-month\",\"-year\",\"-year-old\",\"abortion\",\"abuse\",\"acquire\",\"acquisition\",\"act\",\"action\",\"actor\",\"add\",\"adds\",\"adults\",\"affect\",\"africa\",\"african\",\"age\",\"agree\",\"agrees\",\"ahead\",\"aids\",\"air\",\"airlines\",\"album\",\"alibaba\",\"alstom\",\"alzheimer\",\"amazing\",\"amazon\",\"america\",\"american\",\"americans\",\"amid\",\"andi\",\"andrew\",\"android\",\"angeles\",\"angelina\",\"anna\",\"announce\",\"announces\",\"annual\",\"apologizes\",\"app\",\"apple\",\"approval\",\"approved\",\"approves\",\"apps\",\"april\",\"arabia\",\"area\",\"argentina\",\"arm\",\"arrested\",\"asia\",\"asian\",\"aspirin\",\"astrazeneca\",\"attack\",\"australia\",\"autism\",\"auto\",\"available\",\"awards\",\"awareness\",\"away\",\"baby\",\"bachelor\",\"bachelorette\",\"bacteria\",\"bad\",\"ban\",\"band\",\"bank\",\"banks\",\"batman\",\"battle\",\"beat\",\"beats\",\"beauty\",\"beef\",\"begins\",\"bell\",\"best\",\"bet\",\"better\",\"beyonc\",\"beyonce\",\"bid\",\"bieber\",\"big\",\"biggest\",\"billboard\",\"billion\",\"bird\",\"birth\",\"bitcoin\",\"black\",\"blackberry\",\"bln\",\"blood\",\"blue\",\"board\",\"bob\",\"boost\",\"box\",\"boy\",\"brain\",\"brands\",\"breach\",\"breaks\",\"breast\",\"bring\",\"brings\",\"british\",\"brooks\",\"brown\",\"bug\",\"build\",\"burger\",\"business\",\"buy\",\"buying\",\"buys\",\"california\",\"calls\",\"camera\",\"cameron\",\"canada\",\"canadian\",\"cancels\",\"cancer\",\"candy\",\"cannes\",\"captain\",\"car\",\"care\",\"cars\",\"case\",\"cases\",\"casey\",\"cast\",\"cause\",\"cdc\",\"cell\",\"cells\",\"central\",\"ceo\",\"challenge\",\"change\",\"changes\",\"character\",\"charged\",\"charges\",\"chief\",\"child\",\"childhood\",\"children\",\"china\",\"chinese\",\"chris\",\"chrysler\",\"city\",\"claims\",\"climate\",\"climbs\",\"clooney\",\"close\",\"closer\",\"closes\",\"cloud\",\"coachella\",\"colbert\",\"colon\",\"colorectal\",\"com\",\"comcast\",\"come\",\"coming\",\"comment\",\"comments\",\"company\",\"concerns\",\"confidence\",\"confirmed\",\"confirms\",\"consumer\",\"continues\",\"control\",\"cost\",\"costs\",\"county\",\"court\",\"cover\",\"coverage\",\"crash\",\"crashes\",\"crazy\",\"create\",\"credit\",\"crisis\",\"critics\",\"cruise\",\"crush\",\"cup\",\"cure\",\"customers\",\"cut\",\"cuts\",\"cyrus\",\"daily\",\"dancing\",\"data\",\"date\",\"dating\",\"day\",\"days\",\"dead\",\"deadly\",\"deal\",\"death\",\"deaths\",\"debris\",\"debt\",\"debut\",\"decline\",\"defends\",\"demand\",\"dementia\",\"denies\",\"design\",\"despite\",\"details\",\"detect\",\"detroit\",\"develop\",\"device\",\"did\",\"dies\",\"digital\",\"dip\",\"director\",\"disease\",\"dna\",\"doctors\",\"does\",\"doesn\",\"dogs\",\"dollar\",\"don\",\"dre\",\"dreams\",\"driving\",\"drop\",\"drops\",\"drug\",\"e-cigarette\",\"e-cigarettes\",\"early\",\"earnings\",\"earth\",\"east\",\"easter\",\"eat\",\"ebay\",\"ebola\",\"ecb\",\"eclipse\",\"economic\",\"economy\",\"edges\",\"electric\",\"emma\",\"end\",\"ends\",\"energy\",\"enterprise\",\"epa\",\"epidemic\",\"episode\",\"eric\",\"euro\",\"europe\",\"event\",\"events\",\"exchange\",\"expectations\",\"expected\",\"experiment\",\"explorer\",\"eyes\",\"face\",\"facebook\",\"faces\",\"factory\",\"fall\",\"falling\",\"falls\",\"family\",\"fans\",\"fast\",\"fat\",\"father\",\"fcc\",\"fda\",\"fear\",\"fears\",\"features\",\"fed\",\"federal\",\"festival\",\"fewer\",\"fight\",\"files\",\"filing\",\"film\",\"final\",\"finale\",\"finally\",\"finds\",\"firm\",\"fix\",\"flat\",\"flight\",\"flu\",\"flying\",\"following\",\"food\",\"force\",\"ford\",\"forecast\",\"fourth\",\"france\",\"free\",\"french\",\"friend\",\"ftc\",\"future\",\"gain\",\"gains\",\"galaxy\",\"game\",\"games\",\"garfield\",\"garth\",\"gas\",\"gear\",\"gene\",\"general\",\"george\",\"gets\",\"getting\",\"giant\",\"girl\",\"girlfriend\",\"gives\",\"glass\",\"global\",\"goes\",\"going\",\"gold\",\"gomez\",\"good\",\"google\",\"gosling\",\"got\",\"government\",\"great\",\"ground\",\"group\",\"growth\",\"guardians\",\"guilty\",\"guinea\",\"hack\",\"hackers\",\"hands\",\"happy\",\"harris\",\"hbo\",\"head\",\"health\",\"healthy\",\"heart\",\"heartbleed\",\"help\",\"high\",\"higher\",\"highest\",\"hit\",\"hits\",\"hiv\",\"hold\",\"holds\",\"hollywood\",\"home\",\"hong\",\"hopes\",\"hospital\",\"hospitals\",\"host\",\"house\",\"htc\",\"huge\",\"human\",\"husband\",\"idol\",\"ignition\",\"impact\",\"include\",\"increase\",\"india\",\"inflation\",\"international\",\"internet\",\"interview\",\"investors\",\"ios\",\"ipad\",\"iphone\",\"ipo\",\"iraq\",\"isn\",\"issues\",\"jackson\",\"james\",\"japan\",\"jason\",\"jay\",\"jennifer\",\"jessica\",\"job\",\"jobs\",\"john\",\"johnson\",\"join\",\"joint\",\"jolie\",\"jones\",\"josh\",\"judge\",\"july\",\"jump\",\"jumps\",\"june\",\"just\",\"justin\",\"kanye\",\"kardashian\",\"kasem\",\"key\",\"khloe\",\"kids\",\"kills\",\"kim\",\"king\",\"know\",\"kong\",\"lady\",\"lake\",\"largest\",\"late\",\"later\",\"latest\",\"launch\",\"launches\",\"law\",\"lawmakers\",\"lawsuit\",\"leaders\",\"leads\",\"let\",\"lets\",\"level\",\"levels\",\"liberia\",\"life\",\"like\",\"likely\",\"lindsay\",\"linked\",\"list\",\"little\",\"live\",\"lohan\",\"look\",\"looking\",\"looks\",\"los\",\"loses\",\"loss\",\"lost\",\"low\",\"lower\",\"lowest\",\"mad\",\"major\",\"make\",\"maker\",\"makes\",\"malaysia\",\"malaysian\",\"maleficent\",\"man\",\"manufacturing\",\"march\",\"marijuana\",\"mark\",\"market\",\"markets\",\"married\",\"mars\",\"massive\",\"mccarthy\",\"mcdonald\",\"mean\",\"means\",\"measles\",\"media\",\"medical\",\"medicare\",\"meet\",\"meeting\",\"men\",\"mental\",\"merger\",\"mers\",\"met\",\"meteor\",\"michael\",\"mick\",\"microsoft\",\"middle\",\"miley\",\"million\",\"millions\",\"minutes\",\"missed\",\"missing\",\"mobile\",\"model\",\"mom\",\"monday\",\"money\",\"month\",\"months\",\"moon\",\"morgan\",\"morning\",\"mortgage\",\"mother\",\"motors\",\"moves\",\"movie\",\"movies\",\"music\",\"names\",\"nasa\",\"nasdaq\",\"national\",\"near\",\"nearly\",\"need\",\"needed\",\"net\",\"netflix\",\"neutrality\",\"new\",\"news\",\"night\",\"nile\",\"nintendo\",\"noah\",\"nokia\",\"north\",\"note\",\"numbers\",\"nyse\",\"obama\",\"obamacare\",\"obesity\",\"ocean\",\"oculus\",\"offer\",\"offers\",\"office\",\"offices\",\"official\",\"officials\",\"oil\",\"old\",\"online\",\"open\",\"opening\",\"orders\",\"oscar\",\"outbreak\",\"outlook\",\"owners\",\"painkiller\",\"panel\",\"park\",\"party\",\"past\",\"patent\",\"patient\",\"patients\",\"paul\",\"pay\",\"pelvic\",\"people\",\"percent\",\"pfizer\",\"pharrell\",\"phone\",\"photo\",\"photos\",\"picture\",\"pictures\",\"pistorius\",\"plan\",\"plane\",\"plans\",\"plant\",\"pmi\",\"policy\",\"possible\",\"post\",\"posts\",\"power\",\"predict\",\"pregnancy\",\"pregnant\",\"premiere\",\"president\",\"press\",\"prevent\",\"preview\",\"price\",\"prices\",\"prime\",\"pro\",\"probe\",\"problem\",\"problems\",\"production\",\"products\",\"profit\",\"profits\",\"progress\",\"proves\",\"public\",\"purchase\",\"push\",\"puts\",\"quality\",\"quarter\",\"quarterly\",\"questions\",\"quit\",\"raise\",\"raises\",\"rally\",\"rare\",\"rate\",\"rates\",\"reading\",\"ready\",\"real\",\"really\",\"recall\",\"recalled\",\"recalls\",\"recap\",\"receives\",\"record\",\"records\",\"red\",\"reform\",\"regulations\",\"relay\",\"release\",\"released\",\"releases\",\"relief\",\"remote\",\"report\",\"reported\",\"reportedly\",\"reports\",\"research\",\"researchers\",\"results\",\"retail\",\"return\",\"revealed\",\"reveals\",\"revenue\",\"review\",\"rift\",\"right\",\"rights\",\"rise\",\"rises\",\"risk\",\"road\",\"rob\",\"robert\",\"robin\",\"rock\",\"role\",\"rolf\",\"rose\",\"rules\",\"ruling\",\"rumors\",\"run\",\"russia\",\"ryan\",\"safe\",\"safety\",\"said\",\"salad\",\"sale\",\"sales\",\"samsung\",\"san\",\"satellite\",\"saturday\",\"saudi\",\"save\",\"say\",\"says\",\"school\",\"sciences\",\"scientist\",\"scientists\",\"scott\",\"screen\",\"sea\",\"search\",\"season\",\"second\",\"secret\",\"security\",\"seen\",\"selena\",\"self-driving\",\"selling\",\"sequel\",\"series\",\"service\",\"services\",\"set\",\"seth\",\"sets\",\"settle\",\"sex\",\"share\",\"shares\",\"ship\",\"shire\",\"short\",\"shot\",\"shower\",\"shows\",\"sick\",\"signs\",\"simpson\",\"singer\",\"site\",\"skin\",\"sky\",\"sleep\",\"smallpox\",\"smartphone\",\"smell\",\"smoking\",\"social\",\"solar\",\"son\",\"song\",\"sony\",\"soon\",\"sound\",\"source\",\"south\",\"space\",\"special\",\"specs\",\"spider-man\",\"spinoff\",\"spoilers\",\"spread\",\"spring\",\"staff\",\"star\",\"stars\",\"start\",\"starting\",\"state\",\"states\",\"station\",\"stem\",\"step\",\"stephen\",\"steps\",\"stock\",\"stocks\",\"stone\",\"stop\",\"store\",\"story\",\"streaming\",\"street\",\"strong\",\"student\",\"study\",\"sue\",\"sues\",\"summer\",\"superman\",\"supermoon\",\"support\",\"surface\",\"surprise\",\"survey\",\"swift\",\"t-mobile\",\"tab\",\"takeover\",\"takes\",\"taking\",\"talk\",\"talks\",\"target\",\"targets\",\"tax\",\"taylor\",\"team\",\"tech\",\"teen\",\"tesla\",\"test\",\"testing\",\"tests\",\"texas\",\"thicke\",\"things\",\"think\",\"threat\",\"thrones\",\"time\",\"titanfall\",\"tobacco\",\"today\",\"toll\",\"tomorrow\",\"tonight\",\"tour\",\"toyota\",\"trade\",\"trading\",\"trailer\",\"treat\",\"treatment\",\"trial\",\"tribute\",\"true\",\"tsla\",\"tuesday\",\"turn\",\"turns\",\"twitter\",\"ukraine\",\"united\",\"units\",\"unveiled\",\"unveils\",\"update\",\"updates\",\"urges\",\"usd\",\"use\",\"used\",\"user\",\"users\",\"using\",\"vaccine\",\"vehicles\",\"video\",\"view\",\"virus\",\"visit\",\"visits\",\"voice\",\"walker\",\"walking\",\"wall\",\"want\",\"wanted\",\"wants\",\"war\",\"warner\",\"warning\",\"warns\",\"wars\",\"watch\",\"water\",\"way\",\"wear\",\"wearable\",\"web\",\"wedding\",\"week\",\"weekend\",\"weeks\",\"weird\",\"west\",\"white\",\"williams\",\"win\",\"windows\",\"wins\",\"winter\",\"woman\",\"women\",\"won\",\"work\",\"workers\",\"working\",\"works\",\"world\",\"worse\",\"worst\",\"worth\",\"x-men\",\"xbox\",\"yahoo\",\"year\",\"years\",\"yellen\",\"yen\",\"york\",\"young\",\"youtube\"],\"x\":{\"__ndarray__\":\"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\",\"dtype\":\"float64\",\"order\":\"little\",\"shape\":[947]},\"y\":{\"__ndarray__\":\"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\",\"dtype\":\"float64\",\"order\":\"little\",\"shape\":[947]}},\"selected\":{\"id\":\"1169\"},\"selection_policy\":{\"id\":\"1168\"}},\"id\":\"1110\",\"type\":\"ColumnDataSource\"},{\"attributes\":{},\"id\":\"1134\",\"type\":\"ResetTool\"},{\"attributes\":{},\"id\":\"1114\",\"type\":\"DataRange1d\"},{\"attributes\":{\"formatter\":{\"id\":\"1162\"},\"major_label_policy\":{\"id\":\"1163\"},\"ticker\":{\"id\":\"1123\"}},\"id\":\"1122\",\"type\":\"LinearAxis\"},{\"attributes\":{},\"id\":\"1162\",\"type\":\"BasicTickFormatter\"},{\"attributes\":{},\"id\":\"1163\",\"type\":\"AllLabels\"},{\"attributes\":{\"data_source\":{\"id\":\"1110\"},\"glyph\":{\"id\":\"1145\"},\"hover_glyph\":null,\"muted_glyph\":null,\"nonselection_glyph\":{\"id\":\"1146\"},\"view\":{\"id\":\"1148\"}},\"id\":\"1147\",\"type\":\"GlyphRenderer\"}],\"root_ids\":[\"1113\"]},\"title\":\"Bokeh Application\",\"version\":\"2.3.2\"}};\n",
       "  var render_items = [{\"docid\":\"2bcfb83c-8cb9-465b-85c8-cc06b6282b1b\",\"notebook_comms_target\":\"1171\",\"root_ids\":[\"1113\"],\"roots\":{\"1113\":\"1cd74f4d-e7f3-4ce5-a7c0-37bd590968cf\"}}];\n",
       "  root.Bokeh.embed.embed_items_notebook(docs_json, render_items);\n",
       "\n",
       "  }\n",
       "  if (root.Bokeh !== undefined) {\n",
       "    embed_document(root);\n",
       "  } else {\n",
       "    var attempts = 0;\n",
       "    var timer = setInterval(function(root) {\n",
       "      if (root.Bokeh !== undefined) {\n",
       "        clearInterval(timer);\n",
       "        embed_document(root);\n",
       "      } else {\n",
       "        attempts++;\n",
       "        if (attempts > 100) {\n",
       "          clearInterval(timer);\n",
       "          console.log(\"Bokeh: ERROR: Unable to run BokehJS code because BokehJS library is missing\");\n",
       "        }\n",
       "      }\n",
       "    }, 10, root)\n",
       "  }\n",
       "})(window);"
      ],
      "application/vnd.bokehjs_exec.v0+json": ""
     },
     "metadata": {
      "application/vnd.bokehjs_exec.v0+json": {
       "id": "1113"
      }
     },
     "output_type": "display_data"
    },
    {
     "data": {
      "text/html": [
       "<p><code>&lt;Bokeh Notebook handle for <strong>In[19]</strong>&gt;</code></p>"
      ],
      "text/plain": [
       "<bokeh.io.notebook.CommsHandle at 0x1ad12043070>"
      ]
     },
     "execution_count": 19,
     "metadata": {},
     "output_type": "execute_result"
    }
   ],
   "source": [
    "\n",
    "svd = TruncatedSVD(n_components=100)\n",
    "words_2d = svd.fit_transform(data_vectorized.T)\n",
    " \n",
    "df = pd.DataFrame(columns=['x', 'y', 'word'])\n",
    "df['x'], df['y'], df['word'] = words_2d[:,0], words_2d[:,1], vectorizer.get_feature_names()\n",
    " \n",
    "source = ColumnDataSource(ColumnDataSource.from_df(df))\n",
    "labels = LabelSet(x=\"x\", y=\"y\", text=\"word\", y_offset=8,\n",
    "                  text_font_size=\"8pt\", text_color=\"#555555\",\n",
    "                  source=source, text_align='center')\n",
    " \n",
    "plot = figure(plot_width=600, plot_height=600)\n",
    "plot.circle(\"x\", \"y\", size=12, source=source, line_color=\"black\", fill_alpha=0.8)\n",
    "plot.add_layout(labels)\n",
    "show(plot, notebook_handle=True)"
   ]
  },
  {
   "cell_type": "code",
   "execution_count": 20,
   "id": "204b5739",
   "metadata": {},
   "outputs": [
    {
     "name": "stdout",
     "output_type": "stream",
     "text": [
      "['Candy Crush Maker Diversifies, but Profits Take a Dip']\n"
     ]
    },
    {
     "name": "stderr",
     "output_type": "stream",
     "text": [
      "C:\\Users\\Vaibhav\\anaconda3\\lib\\site-packages\\ipykernel\\ipkernel.py:287: DeprecationWarning: `should_run_async` will not call `transform_cell` automatically in the future. Please pass the result to `transformed_cell` argument and any exception that happen during thetransform in `preprocessing_exc_tuple` in IPython 7.17 and above.\n",
      "  and should_run_async(code)\n",
      "<>:4: DeprecationWarning: invalid escape sequence \\S\n",
      "<>:7: DeprecationWarning: invalid escape sequence \\s\n",
      "<>:4: DeprecationWarning: invalid escape sequence \\S\n",
      "<>:7: DeprecationWarning: invalid escape sequence \\s\n",
      "<ipython-input-20-51b4e7f3dccd>:4: DeprecationWarning: invalid escape sequence \\S\n",
      "  df = [re.sub('\\S*@\\S*\\s?', '', sent) for sent in df]\n",
      "<ipython-input-20-51b4e7f3dccd>:7: DeprecationWarning: invalid escape sequence \\s\n",
      "  df = [re.sub('\\s+', ' ', sent) for sent in df]\n"
     ]
    }
   ],
   "source": [
    "# Convert to list\n",
    "df = data.TITLE.values.tolist()\n",
    "\n",
    "df = [re.sub('\\S*@\\S*\\s?', '', sent) for sent in df]\n",
    "\n",
    "# Remove new line characters\n",
    "df = [re.sub('\\s+', ' ', sent) for sent in df]\n",
    "\n",
    "# Remove distracting single quotes\n",
    "df = [re.sub(\"\\'\", \"\", sent) for sent in df]\n",
    "\n",
    "pprint(df[:1])"
   ]
  },
  {
   "cell_type": "code",
   "execution_count": 21,
   "id": "db5103e6",
   "metadata": {},
   "outputs": [
    {
     "name": "stderr",
     "output_type": "stream",
     "text": [
      "C:\\Users\\Vaibhav\\anaconda3\\lib\\site-packages\\ipykernel\\ipkernel.py:287: DeprecationWarning: `should_run_async` will not call `transform_cell` automatically in the future. Please pass the result to `transformed_cell` argument and any exception that happen during thetransform in `preprocessing_exc_tuple` in IPython 7.17 and above.\n",
      "  and should_run_async(code)\n"
     ]
    }
   ],
   "source": [
    "df = [re.sub(\"-\", \" \", sent) for sent in df]\n",
    "df = [re.sub(\":\", \"\", sent) for sent in df]"
   ]
  },
  {
   "cell_type": "code",
   "execution_count": 22,
   "id": "f74222af",
   "metadata": {},
   "outputs": [
    {
     "name": "stderr",
     "output_type": "stream",
     "text": [
      "C:\\Users\\Vaibhav\\anaconda3\\lib\\site-packages\\ipykernel\\ipkernel.py:287: DeprecationWarning: `should_run_async` will not call `transform_cell` automatically in the future. Please pass the result to `transformed_cell` argument and any exception that happen during thetransform in `preprocessing_exc_tuple` in IPython 7.17 and above.\n",
      "  and should_run_async(code)\n"
     ]
    }
   ],
   "source": [
    "def sent_to_words(sentences):\n",
    "    for sentence in sentences:\n",
    "        yield(gensim.utils.simple_preprocess(str(sentence), deacc=True))\n",
    "\n",
    "df_words = list(sent_to_words(df))"
   ]
  },
  {
   "cell_type": "code",
   "execution_count": 23,
   "id": "230f7aff",
   "metadata": {},
   "outputs": [
    {
     "name": "stderr",
     "output_type": "stream",
     "text": [
      "C:\\Users\\Vaibhav\\anaconda3\\lib\\site-packages\\ipykernel\\ipkernel.py:287: DeprecationWarning: `should_run_async` will not call `transform_cell` automatically in the future. Please pass the result to `transformed_cell` argument and any exception that happen during thetransform in `preprocessing_exc_tuple` in IPython 7.17 and above.\n",
      "  and should_run_async(code)\n"
     ]
    }
   ],
   "source": [
    "\n",
    "# Build the bigram and trigram models\n",
    "\n",
    "bigram = gensim.models.Phrases(df_words, min_count=5, threshold=100) # higher threshold fewer phrases.\n",
    "trigram = gensim.models.Phrases(bigram[df_words], threshold=100)  \n",
    "\n",
    "# Faster way to get a sentence clubbed as a trigram/bigram\n",
    "\n",
    "bigram_mod = gensim.models.phrases.Phraser(bigram)\n",
    "trigram_mod = gensim.models.phrases.Phraser(trigram)"
   ]
  },
  {
   "cell_type": "code",
   "execution_count": 24,
   "id": "98083bc6",
   "metadata": {},
   "outputs": [
    {
     "name": "stderr",
     "output_type": "stream",
     "text": [
      "C:\\Users\\Vaibhav\\anaconda3\\lib\\site-packages\\ipykernel\\ipkernel.py:287: DeprecationWarning: `should_run_async` will not call `transform_cell` automatically in the future. Please pass the result to `transformed_cell` argument and any exception that happen during thetransform in `preprocessing_exc_tuple` in IPython 7.17 and above.\n",
      "  and should_run_async(code)\n"
     ]
    }
   ],
   "source": [
    "\n",
    "def remove_stopwords(texts):\n",
    "    return [[word for word in simple_preprocess(str(doc)) if word not in stop_words] for doc in texts]\n",
    "\n",
    "def make_bigrams(texts):\n",
    "    return [bigram_mod[doc] for doc in texts]\n",
    "\n",
    "def make_trigrams(texts):\n",
    "    return [trigram_mod[bigram_mod[doc]] for doc in texts]\n",
    "\n",
    "def lemmatization(texts, allowed_postags=['NOUN', 'ADJ', 'VERB', 'ADV']):\n",
    "    texts_out = []\n",
    "    for sent in texts:\n",
    "        doc = nlp(\" \".join(sent)) \n",
    "        texts_out.append([token.lemma_ for token in doc if token.pos_ in allowed_postags])\n",
    "    return texts_out"
   ]
  },
  {
   "cell_type": "code",
   "execution_count": 28,
   "id": "2fa79fc4",
   "metadata": {},
   "outputs": [
    {
     "name": "stderr",
     "output_type": "stream",
     "text": [
      "C:\\Users\\Vaibhav\\anaconda3\\lib\\site-packages\\ipykernel\\ipkernel.py:287: DeprecationWarning: `should_run_async` will not call `transform_cell` automatically in the future. Please pass the result to `transformed_cell` argument and any exception that happen during thetransform in `preprocessing_exc_tuple` in IPython 7.17 and above.\n",
      "  and should_run_async(code)\n"
     ]
    }
   ],
   "source": [
    "#remove stopwords\n",
    "data_words_nostops = remove_stopwords(df_words)\n",
    "\n",
    "# Form Bigrams\n",
    "\n",
    "data_words_bigrams = make_bigrams(data_words_nostops)\n",
    "\n",
    "nlp = spacy.load('en_core_web_sm')\n",
    "\n",
    "data_lemmatized = lemmatization(data_words_bigrams, allowed_postags=['NOUN', 'ADJ', 'VERB', 'ADV'])"
   ]
  },
  {
   "cell_type": "code",
   "execution_count": 29,
   "id": "3561b960",
   "metadata": {},
   "outputs": [
    {
     "name": "stderr",
     "output_type": "stream",
     "text": [
      "C:\\Users\\Vaibhav\\anaconda3\\lib\\site-packages\\ipykernel\\ipkernel.py:287: DeprecationWarning: `should_run_async` will not call `transform_cell` automatically in the future. Please pass the result to `transformed_cell` argument and any exception that happen during thetransform in `preprocessing_exc_tuple` in IPython 7.17 and above.\n",
      "  and should_run_async(code)\n"
     ]
    }
   ],
   "source": [
    "# Create Dictionary\n",
    "id2word = corpora.Dictionary(data_lemmatized)\n",
    "\n",
    "# Create Corpus\n",
    "texts = data_lemmatized\n",
    "\n",
    "# Term Document Frequency\n",
    "corpus = [id2word.doc2bow(text) for text in texts]"
   ]
  },
  {
   "cell_type": "code",
   "execution_count": 30,
   "id": "e94f835f",
   "metadata": {},
   "outputs": [
    {
     "name": "stderr",
     "output_type": "stream",
     "text": [
      "C:\\Users\\Vaibhav\\anaconda3\\lib\\site-packages\\ipykernel\\ipkernel.py:287: DeprecationWarning: `should_run_async` will not call `transform_cell` automatically in the future. Please pass the result to `transformed_cell` argument and any exception that happen during thetransform in `preprocessing_exc_tuple` in IPython 7.17 and above.\n",
      "  and should_run_async(code)\n"
     ]
    },
    {
     "data": {
      "text/plain": [
       "[[('driver', 1), ('hit', 1), ('road', 1), ('say', 1), ('weekend', 1)]]"
      ]
     },
     "execution_count": 30,
     "metadata": {},
     "output_type": "execute_result"
    }
   ],
   "source": [
    "[[(id2word[id], freq) for id, freq in cp] for cp in corpus[11:12]]"
   ]
  },
  {
   "cell_type": "code",
   "execution_count": 31,
   "id": "c50940ad",
   "metadata": {},
   "outputs": [
    {
     "name": "stderr",
     "output_type": "stream",
     "text": [
      "C:\\Users\\Vaibhav\\anaconda3\\lib\\site-packages\\ipykernel\\ipkernel.py:287: DeprecationWarning: `should_run_async` will not call `transform_cell` automatically in the future. Please pass the result to `transformed_cell` argument and any exception that happen during thetransform in `preprocessing_exc_tuple` in IPython 7.17 and above.\n",
      "  and should_run_async(code)\n"
     ]
    }
   ],
   "source": [
    "lda_model = gensim.models.ldamodel.LdaModel(corpus=corpus,\n",
    "                                           id2word=id2word,\n",
    "                                           num_topics=5, \n",
    "                                           random_state=100,\n",
    "                                           update_every=1,\n",
    "                                           chunksize=100,\n",
    "                                           passes=10,\n",
    "                                           alpha='auto',\n",
    "                                           per_word_topics=True)"
   ]
  },
  {
   "cell_type": "code",
   "execution_count": 32,
   "id": "ee918553",
   "metadata": {},
   "outputs": [
    {
     "name": "stdout",
     "output_type": "stream",
     "text": [
      "[(0,\n",
      "  '0.016*\"day\" + 0.013*\"world\" + 0.013*\"people\" + 0.012*\"kid\" + 0.009*\"record\" '\n",
      "  '+ 0.008*\"watch\" + 0.008*\"girl\" + 0.008*\"friend\" + 0.008*\"test\" + '\n",
      "  '0.007*\"ban\"'),\n",
      " (1,\n",
      "  '0.023*\"risk\" + 0.023*\"case\" + 0.021*\"report\" + 0.013*\"life\" + 0.013*\"man\" + '\n",
      "  '0.012*\"year\" + 0.012*\"scientist\" + 0.010*\"child\" + 0.009*\"video\" + '\n",
      "  '0.009*\"researcher\"'),\n",
      " (2,\n",
      "  '0.025*\"health\" + 0.024*\"virus\" + 0.022*\"mer\" + 0.016*\"death\" + 0.014*\"help\" '\n",
      "  '+ 0.014*\"disease\" + 0.011*\"raise\" + 0.011*\"make\" + 0.010*\"rise\" + '\n",
      "  '0.009*\"die\"'),\n",
      " (3,\n",
      "  '0.032*\"new\" + 0.025*\"study\" + 0.017*\"say\" + 0.015*\"drug\" + 0.013*\"get\" + '\n",
      "  '0.011*\"recall\" + 0.010*\"hospital\" + 0.010*\"autism\" + 0.009*\"baby\" + '\n",
      "  '0.008*\"official\"'),\n",
      " (4,\n",
      "  '0.031*\"cancer\" + 0.020*\"woman\" + 0.014*\"high\" + 0.013*\"state\" + '\n",
      "  '0.012*\"link\" + 0.011*\"vaccine\" + 0.010*\"heart\" + 0.009*\"young\" + '\n",
      "  '0.008*\"skin\" + 0.008*\"measle\"')]\n"
     ]
    },
    {
     "name": "stderr",
     "output_type": "stream",
     "text": [
      "C:\\Users\\Vaibhav\\anaconda3\\lib\\site-packages\\ipykernel\\ipkernel.py:287: DeprecationWarning: `should_run_async` will not call `transform_cell` automatically in the future. Please pass the result to `transformed_cell` argument and any exception that happen during thetransform in `preprocessing_exc_tuple` in IPython 7.17 and above.\n",
      "  and should_run_async(code)\n"
     ]
    }
   ],
   "source": [
    "pprint(lda_model.print_topics())\n",
    "doc_lda = lda_model[corpus]"
   ]
  },
  {
   "cell_type": "code",
   "execution_count": 33,
   "id": "8011b023",
   "metadata": {},
   "outputs": [
    {
     "name": "stderr",
     "output_type": "stream",
     "text": [
      "C:\\Users\\Vaibhav\\anaconda3\\lib\\site-packages\\ipykernel\\ipkernel.py:287: DeprecationWarning: `should_run_async` will not call `transform_cell` automatically in the future. Please pass the result to `transformed_cell` argument and any exception that happen during thetransform in `preprocessing_exc_tuple` in IPython 7.17 and above.\n",
      "  and should_run_async(code)\n"
     ]
    },
    {
     "name": "stdout",
     "output_type": "stream",
     "text": [
      "\n",
      "Perplexity:  -9.055771327283834\n",
      "\n",
      "Coherence Score:  0.6591195387037484\n"
     ]
    }
   ],
   "source": [
    "\n",
    "# Compute Perplexity\n",
    "\n",
    "print('\\nPerplexity: ', lda_model.log_perplexity(corpus)) \n",
    "\n",
    "# Compute Coherence Score\n",
    "\n",
    "coherence_model_lda = CoherenceModel(model=lda_model, texts=data_lemmatized, dictionary=id2word, coherence='c_v')\n",
    "coherence_lda = coherence_model_lda.get_coherence()\n",
    "print('\\nCoherence Score: ', coherence_lda)"
   ]
  },
  {
   "cell_type": "code",
   "execution_count": 36,
   "id": "e6d2e9dd",
   "metadata": {},
   "outputs": [
    {
     "name": "stderr",
     "output_type": "stream",
     "text": [
      "C:\\Users\\Vaibhav\\anaconda3\\lib\\site-packages\\ipykernel\\ipkernel.py:287: DeprecationWarning: `should_run_async` will not call `transform_cell` automatically in the future. Please pass the result to `transformed_cell` argument and any exception that happen during thetransform in `preprocessing_exc_tuple` in IPython 7.17 and above.\n",
      "  and should_run_async(code)\n"
     ]
    },
    {
     "data": {
      "text/html": [
       "\n",
       "<link rel=\"stylesheet\" type=\"text/css\" href=\"https://cdn.jsdelivr.net/gh/bmabey/pyLDAvis@3.3.1/pyLDAvis/js/ldavis.v1.0.0.css\">\n",
       "\n",
       "\n",
       "<div id=\"ldavis_el210818428970876161520115797\"></div>\n",
       "<script type=\"text/javascript\">\n",
       "\n",
       "var ldavis_el210818428970876161520115797_data = {\"mdsDat\": {\"x\": [-0.259791163622323, 0.10043933633784805, 0.113478262562016, 0.030496037055960237, 0.015377527666498785], \"y\": [0.012200462509256457, -0.20564829031401768, 0.21489381262367696, -0.015295166398627626, -0.0061508184202881296], \"topics\": [1, 2, 3, 4, 5], \"cluster\": [1, 1, 1, 1, 1], \"Freq\": [23.443186308295186, 20.951584537342377, 20.238601108267414, 18.256095569665167, 17.110532476429853]}, \"tinfo\": {\"Term\": [\"new\", \"cancer\", \"study\", \"health\", \"virus\", \"risk\", \"case\", \"report\", \"mer\", \"woman\", \"say\", \"death\", \"day\", \"drug\", \"help\", \"disease\", \"get\", \"high\", \"life\", \"man\", \"state\", \"year\", \"scientist\", \"world\", \"people\", \"link\", \"kid\", \"recall\", \"raise\", \"make\", \"new\", \"study\", \"say\", \"drug\", \"get\", \"recall\", \"hospital\", \"autism\", \"baby\", \"approve\", \"rate\", \"official\", \"cigarette\", \"review\", \"datum\", \"school\", \"need\", \"adult\", \"live\", \"treat\", \"support\", \"increase\", \"patient\", \"force\", \"kill\", \"medical\", \"movie\", \"fall\", \"study_find\", \"ebola_outbreak\", \"risk\", \"case\", \"report\", \"life\", \"man\", \"year\", \"scientist\", \"child\", \"video\", \"food\", \"researcher\", \"alzheimer\", \"head\", \"old\", \"age\", \"ebola\", \"free\", \"prevent\", \"use\", \"cut\", \"bad\", \"flu\", \"update\", \"game\", \"face\", \"reveal\", \"device\", \"release\", \"brain\", \"relay\", \"cig\", \"health\", \"virus\", \"mer\", \"death\", \"help\", \"disease\", \"raise\", \"make\", \"rise\", \"die\", \"spread\", \"big\", \"hit\", \"confirm\", \"guinea\", \"low\", \"show\", \"affect\", \"care\", \"time\", \"outbreak\", \"deadly\", \"awareness\", \"month\", \"share\", \"birth\", \"treatment\", \"season\", \"set\", \"issue\", \"cancer\", \"woman\", \"high\", \"state\", \"link\", \"vaccine\", \"young\", \"heart\", \"control\", \"measle\", \"take\", \"save\", \"warn\", \"skin\", \"dose\", \"fear\", \"news\", \"win\", \"come\", \"aspirin\", \"close\", \"stop\", \"offer\", \"turn\", \"county\", \"look\", \"trial\", \"mom\", \"question\", \"rule\", \"day\", \"world\", \"people\", \"kid\", \"record\", \"watch\", \"girl\", \"friend\", \"test\", \"ban\", \"good\", \"blood\", \"announce\", \"receive\", \"dead\", \"global\", \"call\", \"safety\", \"service\", \"trailer\", \"late\", \"think\", \"film\", \"crash\", \"hope\", \"screen\", \"pay\", \"public\", \"include\", \"bump\"], \"Freq\": [112.0, 83.0, 85.0, 75.0, 72.0, 71.0, 70.0, 67.0, 65.0, 55.0, 60.0, 48.0, 41.0, 51.0, 42.0, 41.0, 45.0, 38.0, 41.0, 41.0, 35.0, 39.0, 38.0, 33.0, 33.0, 33.0, 31.0, 38.0, 34.0, 33.0, 111.8076902392981, 85.09198755695557, 60.272408451833975, 50.784289494190254, 45.05177485960678, 37.803068182563, 35.383081010966976, 34.689858598112494, 29.60607358641447, 27.99632166716021, 28.00107686841153, 28.308084549199812, 27.867831089869984, 25.305418856882127, 21.91942482673605, 21.85647332756183, 20.749304507952328, 22.0515738723803, 19.97161589460991, 19.964951505899673, 19.800486797403817, 18.625346381646892, 19.036495231144006, 17.10867623471295, 19.417769011910003, 17.66616704880653, 16.766388966380063, 16.19693584913863, 16.965556629660085, 17.15379734441254, 71.11812956564854, 70.08083037534853, 66.64321633172666, 41.07498423917736, 40.78781050707174, 38.47646731199475, 37.932041717727046, 30.098248453617288, 27.92798323758221, 26.38734761289833, 26.428635982452786, 25.917042451577377, 25.949219144024365, 24.59506398069926, 23.916589044245825, 25.873603194999774, 21.618350380978335, 21.098353955229264, 21.44352512889803, 19.293663025067787, 19.33150420119185, 23.230777995140276, 18.141261064514147, 17.61864459853218, 18.10947701721501, 16.655649171817796, 17.162510751242273, 16.073269804655684, 16.3643468914664, 19.064877936124837, 18.99769230939232, 75.34316106353583, 71.75545231254249, 64.86932207964134, 48.24160969399105, 42.03495733178561, 41.11667871887465, 33.78576617229978, 33.08777871320224, 29.075816363349972, 26.02944823237902, 23.608367854243955, 23.052335579603394, 22.846415362814923, 21.20923013718249, 21.229337735853143, 20.726536215141394, 19.638770904031894, 19.96169726537337, 19.979895897152197, 18.757137762207254, 22.7480680100658, 22.0908911674935, 18.752750903301713, 17.17929644671529, 16.942984751908316, 16.674037950354602, 19.9355936421338, 16.11385168566967, 15.440782589141099, 15.230105991002725, 82.50218892705342, 54.99737552612072, 37.59839546771986, 35.25913637389929, 33.03798762837696, 29.445835594504985, 25.57778583712789, 25.753512400699293, 20.595541668838386, 22.339262978349264, 19.26766060701386, 17.654163817946703, 17.470678951624464, 22.518257387340036, 17.859919843235595, 16.661916140447655, 15.63571582576421, 14.291803705483227, 13.808724833956292, 14.06944808204213, 13.447894575327188, 13.279117529054485, 13.11863965294229, 13.062946661551434, 13.3738007715268, 12.484000928406829, 12.808369176636896, 12.639033653317925, 12.405709741941145, 12.500772849431417, 41.12166535122733, 32.60572219666229, 32.42661150123612, 30.806164867459312, 22.579611687547377, 21.252780215894273, 20.786722232321427, 20.041280800672045, 19.510410280388577, 18.801316778452744, 17.585237326030946, 16.87887298397079, 16.04726201331801, 15.341213617195951, 14.114229314298985, 14.51802354891551, 13.643856546646235, 13.259819543285206, 12.868486310779224, 12.271926150136101, 11.772245860017119, 11.560683508479597, 11.417749801867629, 11.450908799631415, 11.342788091347199, 11.068426769003008, 10.5145582137931, 10.58871237592699, 10.464812054279518, 10.846447632730502], \"Total\": [112.0, 83.0, 85.0, 75.0, 72.0, 71.0, 70.0, 67.0, 65.0, 55.0, 60.0, 48.0, 41.0, 51.0, 42.0, 41.0, 45.0, 38.0, 41.0, 41.0, 35.0, 39.0, 38.0, 33.0, 33.0, 33.0, 31.0, 38.0, 34.0, 33.0, 112.42967068885173, 85.72854425954459, 60.89698669063558, 51.41635898677771, 45.678423829447645, 38.43080637329013, 36.02607864332433, 35.330368089365564, 30.233119780880838, 28.625757099072903, 28.63199621178485, 28.95002849019703, 28.541107125362895, 25.9261003167687, 22.54359350620175, 22.496802307279626, 21.377519086138793, 22.721337654153565, 20.59592412964868, 20.59403054246276, 20.43397194489172, 19.252211451481195, 19.687611921394257, 17.740810584411836, 20.13867625989168, 18.328933047127915, 17.398844117731848, 16.816721541333276, 17.62749337435148, 17.825649574429644, 71.7626589585629, 70.7160588338077, 67.27393728707449, 41.701299064102315, 41.41281192614838, 39.104012443582235, 38.57580044363436, 30.728581433297826, 28.54456785207394, 27.026696307984984, 27.069756008117963, 26.556450755498282, 26.61292429220241, 25.238269072826558, 24.547840389584106, 26.559501788179265, 22.24616818754902, 21.741023632327426, 22.11247535955346, 19.917895832392286, 19.95893778899979, 23.999392007651064, 18.760596001098264, 18.23720781063009, 18.746106017311476, 17.27444284436935, 17.801524808355225, 16.69172190914285, 16.997241521954585, 19.82135494339159, 19.85869808180654, 75.98110581634856, 72.40702442858523, 65.52509059165713, 48.87707322265402, 42.678095422348505, 41.75334264516469, 34.42469064733415, 33.71599443563348, 29.709771347421924, 26.655867629062904, 24.2400582502725, 23.679851118156254, 23.473453754755226, 21.835471431051264, 21.879189102701293, 21.3627315899458, 20.269354133139036, 20.60393303833474, 20.626775550406432, 19.38104841702664, 23.51638174450677, 22.843055366058483, 19.391676957441845, 17.80427262352462, 17.578426652569316, 17.320113492350703, 20.71020410575723, 16.744206696100388, 16.068100543766587, 15.869482516025103, 83.14764326246018, 55.627960559826356, 38.230159942033616, 35.926676974886085, 33.680060080093114, 30.13391116753923, 26.223891961106897, 26.404671970548744, 21.223869799915033, 23.044988568679457, 19.890472175679257, 18.282078829318635, 18.099725762235856, 23.33655541597492, 18.531086184557783, 17.32469097644028, 16.260231832357988, 14.916585638727591, 14.432875242682346, 14.729304215082594, 14.082257723372653, 13.90871042369155, 13.743530204089765, 13.69316345891252, 14.032602733510293, 13.10240578331918, 13.446653660248252, 13.278126729722665, 13.03366619809182, 13.139076211746492, 41.73080735391961, 33.21405738668577, 33.0464478584356, 31.427989790187798, 23.187882502140866, 21.85827620138958, 21.403995669138595, 20.65668023876144, 20.125736685890104, 19.423408848043007, 18.194955582765818, 17.501629483006344, 16.65564708319053, 16.000322000274064, 14.72660153090815, 15.158681544215492, 14.25235370015529, 13.884108868742352, 13.479361282379466, 12.875561496156338, 12.378414174333113, 12.175859735676983, 12.026305324805053, 12.076321814674507, 11.967191445750393, 11.679646716896773, 11.12406628685231, 11.208145159460086, 11.093876813711166, 11.514968553791059], \"Category\": [\"Default\", \"Default\", \"Default\", \"Default\", \"Default\", \"Default\", \"Default\", \"Default\", \"Default\", \"Default\", \"Default\", \"Default\", \"Default\", \"Default\", \"Default\", \"Default\", \"Default\", \"Default\", \"Default\", \"Default\", \"Default\", \"Default\", \"Default\", \"Default\", \"Default\", \"Default\", \"Default\", \"Default\", \"Default\", \"Default\", \"Topic1\", \"Topic1\", \"Topic1\", \"Topic1\", \"Topic1\", \"Topic1\", \"Topic1\", \"Topic1\", \"Topic1\", \"Topic1\", \"Topic1\", \"Topic1\", \"Topic1\", \"Topic1\", \"Topic1\", \"Topic1\", \"Topic1\", \"Topic1\", \"Topic1\", \"Topic1\", \"Topic1\", \"Topic1\", \"Topic1\", \"Topic1\", \"Topic1\", \"Topic1\", \"Topic1\", \"Topic1\", \"Topic1\", \"Topic1\", \"Topic2\", \"Topic2\", \"Topic2\", \"Topic2\", \"Topic2\", \"Topic2\", \"Topic2\", \"Topic2\", \"Topic2\", \"Topic2\", \"Topic2\", \"Topic2\", \"Topic2\", \"Topic2\", \"Topic2\", \"Topic2\", \"Topic2\", \"Topic2\", \"Topic2\", \"Topic2\", \"Topic2\", \"Topic2\", \"Topic2\", \"Topic2\", \"Topic2\", \"Topic2\", \"Topic2\", \"Topic2\", \"Topic2\", \"Topic2\", \"Topic2\", \"Topic3\", \"Topic3\", \"Topic3\", \"Topic3\", \"Topic3\", \"Topic3\", \"Topic3\", \"Topic3\", \"Topic3\", \"Topic3\", \"Topic3\", \"Topic3\", \"Topic3\", \"Topic3\", \"Topic3\", \"Topic3\", \"Topic3\", \"Topic3\", \"Topic3\", \"Topic3\", \"Topic3\", \"Topic3\", \"Topic3\", \"Topic3\", \"Topic3\", \"Topic3\", \"Topic3\", \"Topic3\", \"Topic3\", \"Topic3\", \"Topic4\", \"Topic4\", \"Topic4\", \"Topic4\", \"Topic4\", \"Topic4\", \"Topic4\", \"Topic4\", \"Topic4\", \"Topic4\", \"Topic4\", \"Topic4\", \"Topic4\", \"Topic4\", \"Topic4\", \"Topic4\", \"Topic4\", \"Topic4\", \"Topic4\", \"Topic4\", \"Topic4\", \"Topic4\", \"Topic4\", \"Topic4\", \"Topic4\", \"Topic4\", \"Topic4\", \"Topic4\", \"Topic4\", \"Topic4\", \"Topic5\", \"Topic5\", \"Topic5\", \"Topic5\", \"Topic5\", \"Topic5\", \"Topic5\", \"Topic5\", \"Topic5\", \"Topic5\", \"Topic5\", \"Topic5\", \"Topic5\", \"Topic5\", \"Topic5\", \"Topic5\", \"Topic5\", \"Topic5\", \"Topic5\", \"Topic5\", \"Topic5\", \"Topic5\", \"Topic5\", \"Topic5\", \"Topic5\", \"Topic5\", \"Topic5\", \"Topic5\", \"Topic5\", \"Topic5\"], \"logprob\": [30.0, 29.0, 28.0, 27.0, 26.0, 25.0, 24.0, 23.0, 22.0, 21.0, 20.0, 19.0, 18.0, 17.0, 16.0, 15.0, 14.0, 13.0, 12.0, 11.0, 10.0, 9.0, 8.0, 7.0, 6.0, 5.0, 4.0, 3.0, 2.0, 1.0, -3.4347, -3.7078, -4.0526, -4.2239, -4.3437, -4.5191, -4.5853, -4.6051, -4.7635, -4.8194, -4.8193, -4.8084, -4.824, -4.9205, -5.0641, -5.067, -5.119, -5.0581, -5.1572, -5.1575, -5.1658, -5.227, -5.2052, -5.3119, -5.1853, -5.2799, -5.3321, -5.3667, -5.3203, -5.3093, -3.7748, -3.7895, -3.8398, -4.3238, -4.3308, -4.3891, -4.4034, -4.6347, -4.7095, -4.7663, -4.7647, -4.7843, -4.783, -4.8366, -4.8646, -4.7859, -4.9656, -4.99, -4.9737, -5.0794, -5.0774, -4.8937, -5.141, -5.1702, -5.1427, -5.2264, -5.1964, -5.262, -5.2441, -5.0913, -5.0948, -3.6825, -3.7313, -3.8322, -4.1283, -4.266, -4.2881, -4.4845, -4.5054, -4.6346, -4.7453, -4.8429, -4.8668, -4.8757, -4.9501, -4.9491, -4.9731, -5.027, -5.0107, -5.0098, -5.073, -4.8801, -4.9094, -5.0732, -5.1608, -5.1747, -5.1907, -5.012, -5.2249, -5.2675, -5.2813, -3.4886, -3.8942, -4.2745, -4.3387, -4.4038, -4.5189, -4.6597, -4.6529, -4.8764, -4.7951, -4.943, -5.0305, -5.0409, -4.7871, -5.0189, -5.0883, -5.1519, -5.2418, -5.2761, -5.2574, -5.3026, -5.3152, -5.3274, -5.3317, -5.3081, -5.377, -5.3513, -5.3647, -5.3833, -5.3757, -4.1201, -4.3521, -4.3577, -4.4089, -4.7196, -4.7801, -4.8023, -4.8388, -4.8657, -4.9027, -4.9696, -5.0106, -5.0611, -5.1061, -5.1895, -5.1612, -5.2233, -5.2519, -5.2819, -5.3293, -5.3709, -5.389, -5.4015, -5.3986, -5.4081, -5.4325, -5.4839, -5.4768, -5.4886, -5.4528], \"loglift\": [30.0, 29.0, 28.0, 27.0, 26.0, 25.0, 24.0, 23.0, 22.0, 21.0, 20.0, 19.0, 18.0, 17.0, 16.0, 15.0, 14.0, 13.0, 12.0, 11.0, 10.0, 9.0, 8.0, 7.0, 6.0, 5.0, 4.0, 3.0, 2.0, 1.0, 1.445, 1.4431, 1.4403, 1.4382, 1.4368, 1.4341, 1.4326, 1.4323, 1.4296, 1.4284, 1.4283, 1.4282, 1.4267, 1.4264, 1.4225, 1.4217, 1.4208, 1.4207, 1.4198, 1.4196, 1.4191, 1.4175, 1.417, 1.4143, 1.4141, 1.4138, 1.4136, 1.413, 1.4123, 1.4122, 1.5539, 1.5539, 1.5535, 1.5478, 1.5477, 1.5468, 1.5461, 1.5422, 1.5411, 1.539, 1.539, 1.5386, 1.5377, 1.5371, 1.5369, 1.5368, 1.5343, 1.5329, 1.5322, 1.5311, 1.531, 1.5304, 1.5294, 1.5284, 1.5284, 1.5265, 1.5264, 1.5252, 1.525, 1.524, 1.5186, 1.5891, 1.5885, 1.5875, 1.5845, 1.5824, 1.5822, 1.5788, 1.5788, 1.576, 1.5738, 1.5712, 1.5707, 1.5705, 1.5685, 1.5674, 1.5673, 1.566, 1.5659, 1.5657, 1.5649, 1.5644, 1.5641, 1.5641, 1.5618, 1.5608, 1.5596, 1.5595, 1.5592, 1.5578, 1.5565, 1.6929, 1.6893, 1.684, 1.6819, 1.6814, 1.6776, 1.6757, 1.6757, 1.6706, 1.6696, 1.6689, 1.6657, 1.6653, 1.665, 1.6638, 1.6617, 1.6615, 1.6579, 1.6565, 1.6548, 1.6546, 1.6543, 1.6541, 1.6536, 1.6526, 1.6523, 1.652, 1.6513, 1.6513, 1.6509, 1.7508, 1.747, 1.7465, 1.7455, 1.7389, 1.7374, 1.7362, 1.7352, 1.7344, 1.7329, 1.7314, 1.7292, 1.7283, 1.7234, 1.723, 1.7223, 1.7218, 1.7195, 1.7191, 1.7175, 1.7153, 1.7136, 1.7135, 1.7123, 1.7119, 1.7117, 1.7091, 1.7086, 1.7071, 1.7057]}, \"token.table\": {\"Topic\": [1, 3, 2, 2, 5, 1, 4, 1, 3, 1, 2, 5, 3, 3, 5, 2, 5, 5, 4, 3, 2, 2, 2, 1, 4, 4, 3, 4, 4, 5, 2, 1, 5, 5, 3, 3, 2, 3, 3, 4, 1, 2, 1, 2, 1, 4, 5, 2, 2, 1, 2, 5, 2, 1, 5, 5, 5, 3, 2, 3, 4, 3, 4, 3, 5, 1, 5, 1, 3, 5, 1, 5, 2, 4, 1, 4, 3, 3, 2, 4, 1, 3, 4, 3, 1, 1, 1, 4, 4, 1, 2, 3, 1, 5, 5, 2, 5, 4, 3, 1, 1, 5, 5, 2, 2, 2, 2, 2, 1, 3, 2, 4, 5, 4, 1, 1, 2, 5, 3, 5, 3, 3, 3, 4, 3, 4, 4, 1, 1, 1, 4, 5, 5, 3, 5, 1, 3, 4, 4, 2, 2, 4, 2, 3, 4, 5, 4, 4, 5, 2, 4], \"Freq\": [0.9682528526650498, 0.9706884584991083, 0.9776827459813304, 0.979046493802148, 0.9606351479521782, 0.9781400681593442, 0.9504861733838182, 0.9906491749950094, 0.9798018006229454, 0.9922892581853805, 0.9519544677608894, 0.9782011051018129, 0.9712898905164574, 0.9815178178542491, 0.9713381269159301, 0.9413292138805881, 0.9552783360731353, 0.9822938929622171, 0.9982243241459757, 0.9696134982961948, 0.9898741693808116, 0.9762897797648307, 0.956759598324664, 0.9810411305004337, 0.9231474281587387, 0.9700076917867201, 0.9617378798671973, 0.9894519801513327, 0.926414026455377, 0.9108733742614727, 0.9539160240561394, 0.9758870072753838, 0.9824875817109978, 0.9506606103666783, 0.9630935812854903, 0.9820555290072585, 0.95497437343238, 0.9753949997730402, 0.9819573093448619, 0.9713407957165325, 0.9919022078773648, 0.9789340254707534, 0.9536819361907567, 0.9601994133276281, 0.9514339617668115, 0.9812584838089277, 0.9146616274003763, 0.958357611420637, 0.9620117717576288, 0.9582425740420927, 0.9889343555495189, 0.9682097882539129, 0.9869931947317162, 0.9851478275174135, 0.9811252218798989, 0.9895319692710317, 0.989285185013011, 0.9598161934350325, 0.9769689236149821, 0.9870875027968142, 0.9846742284471435, 0.9841113944837984, 0.9939796238785662, 0.9798302474062082, 0.9191797465483142, 0.9715184476922119, 0.9013981467362951, 0.9868996113970174, 0.9452104052449666, 0.9863818910135506, 0.9434582370163288, 0.9694295110016788, 0.9831828005399953, 0.9798082284153921, 0.9710659193587327, 0.9158623384475952, 0.9830203554063978, 0.9787639532032676, 0.9900317822686239, 0.9546544114975303, 0.9820538900828459, 0.9919864194476369, 0.9790537674941686, 0.9548269878511103, 0.9770764014532799, 0.9823403695902404, 0.9961783158643163, 0.9839958104508618, 0.9458996201813922, 0.9671838495592939, 0.9905592149707645, 0.978041615835421, 0.9650738787345234, 0.9888470381555577, 0.9683340290333662, 0.9659158811995597, 0.9814291163703921, 0.9206925985074597, 0.9876631964050187, 0.9779269245808044, 0.9887900771816865, 0.9374811331761367, 0.9918973842426742, 0.9585621192023793, 0.9585589843331885, 0.9959280324874471, 0.960481505345037, 0.9841127817063688, 0.9642792280576917, 0.9761098347367956, 0.9893724818780298, 0.9894150692556182, 0.9363222460223739, 0.9845707464696919, 0.9852704256913009, 0.9779167589911715, 0.9850735321882511, 0.941809308674248, 0.9555543771283169, 0.9644373889580289, 0.9335266454888508, 0.9670945151120921, 0.9867112621660372, 0.9855781879555141, 0.9900966306353739, 0.974206437864157, 0.934666090815746, 0.9915017306564904, 0.9644025749421354, 0.978762232518372, 0.9552312198617353, 0.9937524430607175, 0.9855566884396927, 0.9803391225888543, 0.9319981892504094, 0.9711552072704791, 0.9657075274521413, 0.9667832851552743, 0.9493788662501244, 0.959457791156862, 0.9496901481419706, 0.9623709261889409, 0.9809221896475699, 0.9943786610236044, 0.9392407500156507, 0.960734497382963, 0.9385525842892706, 0.9887114222145355, 0.9935552171722455, 0.9717672848745366, 0.991462290897211], \"Term\": [\"adult\", \"affect\", \"age\", \"alzheimer\", \"announce\", \"approve\", \"aspirin\", \"autism\", \"awareness\", \"baby\", \"bad\", \"ban\", \"big\", \"birth\", \"blood\", \"brain\", \"bump\", \"call\", \"cancer\", \"care\", \"case\", \"child\", \"cig\", \"cigarette\", \"close\", \"come\", \"confirm\", \"control\", \"county\", \"crash\", \"cut\", \"datum\", \"day\", \"dead\", \"deadly\", \"death\", \"device\", \"die\", \"disease\", \"dose\", \"drug\", \"ebola\", \"ebola_outbreak\", \"face\", \"fall\", \"fear\", \"film\", \"flu\", \"food\", \"force\", \"free\", \"friend\", \"game\", \"get\", \"girl\", \"global\", \"good\", \"guinea\", \"head\", \"health\", \"heart\", \"help\", \"high\", \"hit\", \"hope\", \"hospital\", \"include\", \"increase\", \"issue\", \"kid\", \"kill\", \"late\", \"life\", \"link\", \"live\", \"look\", \"low\", \"make\", \"man\", \"measle\", \"medical\", \"mer\", \"mom\", \"month\", \"movie\", \"need\", \"new\", \"news\", \"offer\", \"official\", \"old\", \"outbreak\", \"patient\", \"pay\", \"people\", \"prevent\", \"public\", \"question\", \"raise\", \"rate\", \"recall\", \"receive\", \"record\", \"relay\", \"release\", \"report\", \"researcher\", \"reveal\", \"review\", \"rise\", \"risk\", \"rule\", \"safety\", \"save\", \"say\", \"school\", \"scientist\", \"screen\", \"season\", \"service\", \"set\", \"share\", \"show\", \"skin\", \"spread\", \"state\", \"stop\", \"study\", \"study_find\", \"support\", \"take\", \"test\", \"think\", \"time\", \"trailer\", \"treat\", \"treatment\", \"trial\", \"turn\", \"update\", \"use\", \"vaccine\", \"video\", \"virus\", \"warn\", \"watch\", \"win\", \"woman\", \"world\", \"year\", \"young\"]}, \"R\": 30, \"lambda.step\": 0.01, \"plot.opts\": {\"xlab\": \"PC1\", \"ylab\": \"PC2\"}, \"topic.order\": [4, 2, 3, 5, 1]};\n",
       "\n",
       "function LDAvis_load_lib(url, callback){\n",
       "  var s = document.createElement('script');\n",
       "  s.src = url;\n",
       "  s.async = true;\n",
       "  s.onreadystatechange = s.onload = callback;\n",
       "  s.onerror = function(){console.warn(\"failed to load library \" + url);};\n",
       "  document.getElementsByTagName(\"head\")[0].appendChild(s);\n",
       "}\n",
       "\n",
       "if(typeof(LDAvis) !== \"undefined\"){\n",
       "   // already loaded: just create the visualization\n",
       "   !function(LDAvis){\n",
       "       new LDAvis(\"#\" + \"ldavis_el210818428970876161520115797\", ldavis_el210818428970876161520115797_data);\n",
       "   }(LDAvis);\n",
       "}else if(typeof define === \"function\" && define.amd){\n",
       "   // require.js is available: use it to load d3/LDAvis\n",
       "   require.config({paths: {d3: \"https://d3js.org/d3.v5\"}});\n",
       "   require([\"d3\"], function(d3){\n",
       "      window.d3 = d3;\n",
       "      LDAvis_load_lib(\"https://cdn.jsdelivr.net/gh/bmabey/pyLDAvis@3.3.1/pyLDAvis/js/ldavis.v3.0.0.js\", function(){\n",
       "        new LDAvis(\"#\" + \"ldavis_el210818428970876161520115797\", ldavis_el210818428970876161520115797_data);\n",
       "      });\n",
       "    });\n",
       "}else{\n",
       "    // require.js not available: dynamically load d3 & LDAvis\n",
       "    LDAvis_load_lib(\"https://d3js.org/d3.v5.js\", function(){\n",
       "         LDAvis_load_lib(\"https://cdn.jsdelivr.net/gh/bmabey/pyLDAvis@3.3.1/pyLDAvis/js/ldavis.v3.0.0.js\", function(){\n",
       "                 new LDAvis(\"#\" + \"ldavis_el210818428970876161520115797\", ldavis_el210818428970876161520115797_data);\n",
       "            })\n",
       "         });\n",
       "}\n",
       "</script>"
      ],
      "text/plain": [
       "PreparedData(topic_coordinates=              x         y  topics  cluster       Freq\n",
       "topic                                                \n",
       "3     -0.259791  0.012200       1        1  23.443186\n",
       "1      0.100439 -0.205648       2        1  20.951585\n",
       "2      0.113478  0.214894       3        1  20.238601\n",
       "4      0.030496 -0.015295       4        1  18.256096\n",
       "0      0.015378 -0.006151       5        1  17.110532, topic_info=         Term        Freq       Total Category  logprob  loglift\n",
       "82        new  112.000000  112.000000  Default  30.0000  30.0000\n",
       "338    cancer   83.000000   83.000000  Default  29.0000  29.0000\n",
       "1110    study   85.000000   85.000000  Default  28.0000  28.0000\n",
       "7      health   75.000000   75.000000  Default  27.0000  27.0000\n",
       "758     virus   72.000000   72.000000  Default  26.0000  26.0000\n",
       "...       ...         ...         ...      ...      ...      ...\n",
       "1812   screen   11.068427   11.679647   Topic5  -5.4325   1.7117\n",
       "125       pay   10.514558   11.124066   Topic5  -5.4839   1.7091\n",
       "1731   public   10.588712   11.208145   Topic5  -5.4768   1.7086\n",
       "235   include   10.464812   11.093877   Topic5  -5.4886   1.7071\n",
       "3373     bump   10.846448   11.514969   Topic5  -5.4528   1.7057\n",
       "\n",
       "[181 rows x 6 columns], token_table=      Topic      Freq       Term\n",
       "term                            \n",
       "3603      1  0.968253      adult\n",
       "415       3  0.970688     affect\n",
       "1923      2  0.977683        age\n",
       "3659      2  0.979046  alzheimer\n",
       "634       5  0.960635   announce\n",
       "...     ...       ...        ...\n",
       "272       4  0.938553        win\n",
       "2654      4  0.988711      woman\n",
       "170       5  0.993555      world\n",
       "140       2  0.971767       year\n",
       "2944      4  0.991462      young\n",
       "\n",
       "[151 rows x 3 columns], R=30, lambda_step=0.01, plot_opts={'xlab': 'PC1', 'ylab': 'PC2'}, topic_order=[4, 2, 3, 5, 1])"
      ]
     },
     "execution_count": 36,
     "metadata": {},
     "output_type": "execute_result"
    }
   ],
   "source": [
    "# Visualize the topics\n",
    "\n",
    "pyLDAvis.enable_notebook()\n",
    "vis = pyLDAvis.gensim_models.prepare(lda_model, corpus, id2word)\n",
    "vis"
   ]
  },
  {
   "cell_type": "code",
   "execution_count": 37,
   "id": "322416dd",
   "metadata": {},
   "outputs": [
    {
     "name": "stderr",
     "output_type": "stream",
     "text": [
      "C:\\Users\\Vaibhav\\anaconda3\\lib\\site-packages\\ipykernel\\ipkernel.py:287: DeprecationWarning: `should_run_async` will not call `transform_cell` automatically in the future. Please pass the result to `transformed_cell` argument and any exception that happen during thetransform in `preprocessing_exc_tuple` in IPython 7.17 and above.\n",
      "  and should_run_async(code)\n"
     ]
    }
   ],
   "source": [
    "\n",
    "def compute_coherence_values(dictionary, corpus, texts, limit, start=2, step=3):\n",
    "    coherence_values = []\n",
    "    model_list = []\n",
    "    for num_topics in range(start, limit, step):\n",
    "        model = LdaModel(corpus=corpus, num_topics=num_topics, id2word=id2word)\n",
    "        model_list.append(model)\n",
    "        coherencemodel = CoherenceModel(model=model, texts=texts, dictionary=dictionary, coherence='c_v')\n",
    "        coherence_values.append(coherencemodel.get_coherence())\n",
    "\n",
    "    return model_list, coherence_values"
   ]
  },
  {
   "cell_type": "code",
   "execution_count": 38,
   "id": "27202c28",
   "metadata": {},
   "outputs": [
    {
     "name": "stderr",
     "output_type": "stream",
     "text": [
      "C:\\Users\\Vaibhav\\anaconda3\\lib\\site-packages\\ipykernel\\ipkernel.py:287: DeprecationWarning: `should_run_async` will not call `transform_cell` automatically in the future. Please pass the result to `transformed_cell` argument and any exception that happen during thetransform in `preprocessing_exc_tuple` in IPython 7.17 and above.\n",
      "  and should_run_async(code)\n"
     ]
    }
   ],
   "source": [
    "\n",
    "model_list, coherence_values = compute_coherence_values(dictionary=id2word, corpus=corpus, texts=data_lemmatized, start=1, limit=6, step=1)"
   ]
  },
  {
   "cell_type": "code",
   "execution_count": 39,
   "id": "c3867ecb",
   "metadata": {},
   "outputs": [
    {
     "name": "stderr",
     "output_type": "stream",
     "text": [
      "C:\\Users\\Vaibhav\\anaconda3\\lib\\site-packages\\ipykernel\\ipkernel.py:287: DeprecationWarning: `should_run_async` will not call `transform_cell` automatically in the future. Please pass the result to `transformed_cell` argument and any exception that happen during thetransform in `preprocessing_exc_tuple` in IPython 7.17 and above.\n",
      "  and should_run_async(code)\n"
     ]
    },
    {
     "data": {
      "image/png": "[encoded data removed]",
      "text/plain": [
       "<Figure size 864x864 with 1 Axes>"
      ]
     },
     "metadata": {
      "needs_background": "light"
     },
     "output_type": "display_data"
    }
   ],
   "source": [
    "\n",
    "limit=6; start=1; step=1;\n",
    "x = range(start, limit, step)\n",
    "plt.figure(figsize=(12,12))\n",
    "plt.plot(x, coherence_values)\n",
    "plt.xlabel(\"Num Topics\")\n",
    "plt.ylabel(\"Coherence score\")\n",
    "plt.legend((\"coherence_values\"), loc='best')\n",
    "plt.show()"
   ]
  },
  {
   "cell_type": "code",
   "execution_count": 40,
   "id": "d4fff965",
   "metadata": {},
   "outputs": [
    {
     "name": "stdout",
     "output_type": "stream",
     "text": [
      "Num Topics = 1  has Coherence Value of 0.5512\n",
      "Num Topics = 2  has Coherence Value of 0.5641\n",
      "Num Topics = 3  has Coherence Value of 0.587\n",
      "Num Topics = 4  has Coherence Value of 0.6179\n",
      "Num Topics = 5  has Coherence Value of 0.6346\n"
     ]
    },
    {
     "name": "stderr",
     "output_type": "stream",
     "text": [
      "C:\\Users\\Vaibhav\\anaconda3\\lib\\site-packages\\ipykernel\\ipkernel.py:287: DeprecationWarning: `should_run_async` will not call `transform_cell` automatically in the future. Please pass the result to `transformed_cell` argument and any exception that happen during thetransform in `preprocessing_exc_tuple` in IPython 7.17 and above.\n",
      "  and should_run_async(code)\n"
     ]
    }
   ],
   "source": [
    "for m, cv in zip(x, coherence_values):\n",
    "    print(\"Num Topics =\", m, \" has Coherence Value of\", round(cv, 4))"
   ]
  },
  {
   "cell_type": "code",
   "execution_count": 41,
   "id": "def21e8e",
   "metadata": {},
   "outputs": [
    {
     "name": "stdout",
     "output_type": "stream",
     "text": [
      "[(0,\n",
      "  '0.014*\"virus\" + 0.009*\"say\" + 0.007*\"woman\" + 0.006*\"case\" + 0.006*\"risk\" + '\n",
      "  '0.006*\"mer\" + 0.006*\"world\" + 0.006*\"health\" + 0.005*\"study\" + '\n",
      "  '0.005*\"prevent\"'),\n",
      " (1,\n",
      "  '0.016*\"cancer\" + 0.007*\"die\" + 0.007*\"hospital\" + 0.005*\"approve\" + '\n",
      "  '0.005*\"kill\" + 0.005*\"state\" + 0.004*\"scientist\" + 0.004*\"birth\" + '\n",
      "  '0.004*\"tv\" + 0.004*\"new\"'),\n",
      " (2,\n",
      "  '0.017*\"new\" + 0.009*\"study\" + 0.009*\"drug\" + 0.008*\"disease\" + 0.008*\"risk\" '\n",
      "  '+ 0.007*\"link\" + 0.006*\"report\" + 0.006*\"high\" + 0.006*\"day\" + '\n",
      "  '0.005*\"death\"'),\n",
      " (3,\n",
      "  '0.008*\"man\" + 0.007*\"help\" + 0.006*\"health\" + 0.005*\"life\" + 0.005*\"new\" + '\n",
      "  '0.004*\"game\" + 0.004*\"baby\" + 0.004*\"treat\" + 0.004*\"say\" + 0.004*\"people\"')]\n"
     ]
    },
    {
     "name": "stderr",
     "output_type": "stream",
     "text": [
      "C:\\Users\\Vaibhav\\anaconda3\\lib\\site-packages\\ipykernel\\ipkernel.py:287: DeprecationWarning: `should_run_async` will not call `transform_cell` automatically in the future. Please pass the result to `transformed_cell` argument and any exception that happen during thetransform in `preprocessing_exc_tuple` in IPython 7.17 and above.\n",
      "  and should_run_async(code)\n"
     ]
    }
   ],
   "source": [
    "\n",
    "# Select the model and print the topics\n",
    "\n",
    "optimal_model = model_list[3]\n",
    "model_topics = optimal_model.show_topics(formatted=False)\n",
    "pprint(optimal_model.print_topics(num_words=10))"
   ]
  },
  {
   "cell_type": "code",
   "execution_count": 42,
   "id": "38ac1411",
   "metadata": {},
   "outputs": [
    {
     "name": "stderr",
     "output_type": "stream",
     "text": [
      "C:\\Users\\Vaibhav\\anaconda3\\lib\\site-packages\\ipykernel\\ipkernel.py:287: DeprecationWarning: `should_run_async` will not call `transform_cell` automatically in the future. Please pass the result to `transformed_cell` argument and any exception that happen during thetransform in `preprocessing_exc_tuple` in IPython 7.17 and above.\n",
      "  and should_run_async(code)\n"
     ]
    },
    {
     "data": {
      "text/html": [
       "<div>\n",
       "<style scoped>\n",
       "    .dataframe tbody tr th:only-of-type {\n",
       "        vertical-align: middle;\n",
       "    }\n",
       "\n",
       "    .dataframe tbody tr th {\n",
       "        vertical-align: top;\n",
       "    }\n",
       "\n",
       "    .dataframe thead th {\n",
       "        text-align: right;\n",
       "    }\n",
       "</style>\n",
       "<table border=\"1\" class=\"dataframe\">\n",
       "  <thead>\n",
       "    <tr style=\"text-align: right;\">\n",
       "      <th></th>\n",
       "      <th>Document_No</th>\n",
       "      <th>Dominant_Topic</th>\n",
       "      <th>Topic_Perc_Contrib</th>\n",
       "      <th>Keywords</th>\n",
       "      <th>Text</th>\n",
       "    </tr>\n",
       "  </thead>\n",
       "  <tbody>\n",
       "    <tr>\n",
       "      <th>0</th>\n",
       "      <td>0</td>\n",
       "      <td>3.0</td>\n",
       "      <td>0.4675</td>\n",
       "      <td>man, help, health, life, new, game, baby, trea...</td>\n",
       "      <td>Candy Crush Maker Diversifies, but Profits Tak...</td>\n",
       "    </tr>\n",
       "    <tr>\n",
       "      <th>1</th>\n",
       "      <td>1</td>\n",
       "      <td>0.0</td>\n",
       "      <td>0.8914</td>\n",
       "      <td>virus, say, woman, case, risk, mer, world, hea...</td>\n",
       "      <td>McDonalds in Russia shut for maximum term on h...</td>\n",
       "    </tr>\n",
       "    <tr>\n",
       "      <th>2</th>\n",
       "      <td>2</td>\n",
       "      <td>2.0</td>\n",
       "      <td>0.7085</td>\n",
       "      <td>new, study, drug, disease, risk, link, report,...</td>\n",
       "      <td>Twitter posts gains in users and revenue</td>\n",
       "    </tr>\n",
       "    <tr>\n",
       "      <th>3</th>\n",
       "      <td>3</td>\n",
       "      <td>0.0</td>\n",
       "      <td>0.8916</td>\n",
       "      <td>virus, say, woman, case, risk, mer, world, hea...</td>\n",
       "      <td>Barclays bank fined by watchdog for failings t...</td>\n",
       "    </tr>\n",
       "    <tr>\n",
       "      <th>4</th>\n",
       "      <td>4</td>\n",
       "      <td>0.0</td>\n",
       "      <td>0.8102</td>\n",
       "      <td>virus, say, woman, case, risk, mer, world, hea...</td>\n",
       "      <td>Alibaba rival JD.com to be valued up to $24.6 ...</td>\n",
       "    </tr>\n",
       "  </tbody>\n",
       "</table>\n",
       "</div>"
      ],
      "text/plain": [
       "   Document_No  Dominant_Topic  Topic_Perc_Contrib  \\\n",
       "0            0             3.0              0.4675   \n",
       "1            1             0.0              0.8914   \n",
       "2            2             2.0              0.7085   \n",
       "3            3             0.0              0.8916   \n",
       "4            4             0.0              0.8102   \n",
       "\n",
       "                                            Keywords  \\\n",
       "0  man, help, health, life, new, game, baby, trea...   \n",
       "1  virus, say, woman, case, risk, mer, world, hea...   \n",
       "2  new, study, drug, disease, risk, link, report,...   \n",
       "3  virus, say, woman, case, risk, mer, world, hea...   \n",
       "4  virus, say, woman, case, risk, mer, world, hea...   \n",
       "\n",
       "                                                Text  \n",
       "0  Candy Crush Maker Diversifies, but Profits Tak...  \n",
       "1  McDonalds in Russia shut for maximum term on h...  \n",
       "2           Twitter posts gains in users and revenue  \n",
       "3  Barclays bank fined by watchdog for failings t...  \n",
       "4  Alibaba rival JD.com to be valued up to $24.6 ...  "
      ]
     },
     "execution_count": 42,
     "metadata": {},
     "output_type": "execute_result"
    }
   ],
   "source": [
    "\n",
    "def format_topics_sentences(ldamodel=lda_model, corpus=corpus, texts=data):\n",
    "   \n",
    "    sent_topics_df = pd.DataFrame()\n",
    "\n",
    "   \n",
    "    for i, row in enumerate(ldamodel[corpus]):\n",
    "        row = sorted(row, key=lambda x: (x[1]), reverse=True)\n",
    "        # Get the Dominant topic, Perc Contribution and Keywords for each document\n",
    "        for j, (topic_num, prop_topic) in enumerate(row):\n",
    "            if j == 0:  # -- dominant topic\n",
    "                wp = ldamodel.show_topic(topic_num)\n",
    "                topic_keywords = \", \".join([word for word, prop in wp])\n",
    "                sent_topics_df = sent_topics_df.append(pd.Series([int(topic_num), round(prop_topic,4), topic_keywords]), ignore_index=True)\n",
    "            else:\n",
    "                break\n",
    "    sent_topics_df.columns = ['Dominant_Topic', 'Perc_Contribution', 'Topic_Keywords']\n",
    "\n",
    "    # Add original text to the end of the output\n",
    "    \n",
    "    contents = pd.Series(texts)\n",
    "    sent_topics_df = pd.concat([sent_topics_df, contents], axis=1)\n",
    "    return(sent_topics_df)\n",
    "    \n",
    "\n",
    "df_topic_sents_keywords = format_topics_sentences(ldamodel=optimal_model, corpus=corpus, texts=df)\n",
    "\n",
    "\n",
    "df_dominant_topic = df_topic_sents_keywords.reset_index()\n",
    "df_dominant_topic.columns = ['Document_No', 'Dominant_Topic', 'Topic_Perc_Contrib', 'Keywords', 'Text']\n",
    "\n",
    "\n",
    "df_dominant_topic.head(5)"
   ]
  },
  {
   "cell_type": "code",
   "execution_count": 43,
   "id": "8512bfcf",
   "metadata": {},
   "outputs": [
    {
     "name": "stderr",
     "output_type": "stream",
     "text": [
      "C:\\Users\\Vaibhav\\anaconda3\\lib\\site-packages\\ipykernel\\ipkernel.py:287: DeprecationWarning: `should_run_async` will not call `transform_cell` automatically in the future. Please pass the result to `transformed_cell` argument and any exception that happen during thetransform in `preprocessing_exc_tuple` in IPython 7.17 and above.\n",
      "  and should_run_async(code)\n"
     ]
    }
   ],
   "source": [
    "from gensim.models import CoherenceModel, HdpModel"
   ]
  },
  {
   "cell_type": "code",
   "execution_count": 44,
   "id": "39473844",
   "metadata": {},
   "outputs": [
    {
     "name": "stderr",
     "output_type": "stream",
     "text": [
      "C:\\Users\\Vaibhav\\anaconda3\\lib\\site-packages\\ipykernel\\ipkernel.py:287: DeprecationWarning: `should_run_async` will not call `transform_cell` automatically in the future. Please pass the result to `transformed_cell` argument and any exception that happen during thetransform in `preprocessing_exc_tuple` in IPython 7.17 and above.\n",
      "  and should_run_async(code)\n"
     ]
    }
   ],
   "source": [
    "hdpmodel = HdpModel(corpus=corpus, id2word=id2word)"
   ]
  },
  {
   "cell_type": "code",
   "execution_count": 45,
   "id": "ce2df700",
   "metadata": {},
   "outputs": [
    {
     "name": "stderr",
     "output_type": "stream",
     "text": [
      "C:\\Users\\Vaibhav\\anaconda3\\lib\\site-packages\\ipykernel\\ipkernel.py:287: DeprecationWarning: `should_run_async` will not call `transform_cell` automatically in the future. Please pass the result to `transformed_cell` argument and any exception that happen during thetransform in `preprocessing_exc_tuple` in IPython 7.17 and above.\n",
      "  and should_run_async(code)\n"
     ]
    }
   ],
   "source": [
    "hdptopics = hdpmodel.show_topics(formatted=False)\n"
   ]
  },
  {
   "cell_type": "code",
   "execution_count": 46,
   "id": "4d2f58f8",
   "metadata": {},
   "outputs": [
    {
     "name": "stderr",
     "output_type": "stream",
     "text": [
      "C:\\Users\\Vaibhav\\anaconda3\\lib\\site-packages\\ipykernel\\ipkernel.py:287: DeprecationWarning: `should_run_async` will not call `transform_cell` automatically in the future. Please pass the result to `transformed_cell` argument and any exception that happen during thetransform in `preprocessing_exc_tuple` in IPython 7.17 and above.\n",
      "  and should_run_async(code)\n"
     ]
    },
    {
     "data": {
      "text/plain": [
       "(0,\n",
       " [('unknown', 0.0022740086079913596),\n",
       "  ('ail', 0.001958980407375776),\n",
       "  ('cynical', 0.0017080096392553378),\n",
       "  ('echo', 0.0016850545678885852),\n",
       "  ('muslim', 0.0016814102758863786),\n",
       "  ('shredder', 0.001592378704908596),\n",
       "  ('welcome', 0.00154243197362423),\n",
       "  ('diverge', 0.0015386711256440957),\n",
       "  ('breakthrough', 0.0014551795684777861),\n",
       "  ('credential', 0.0014091440505376981),\n",
       "  ('firefox', 0.001381215937698331),\n",
       "  ('major', 0.001356401155501257),\n",
       "  ('vma', 0.0013071943823681625),\n",
       "  ('trap', 0.001304878176679464),\n",
       "  ('ahead', 0.001298592306778382),\n",
       "  ('upstage', 0.00129706857355045),\n",
       "  ('outperform', 0.001255449197603032),\n",
       "  ('alicia', 0.0012469966289827537),\n",
       "  ('problem', 0.001244796865974357),\n",
       "  ('licensing', 0.001225064330586548)])"
      ]
     },
     "execution_count": 46,
     "metadata": {},
     "output_type": "execute_result"
    }
   ],
   "source": [
    "hdptopics[0]"
   ]
  },
  {
   "cell_type": "code",
   "execution_count": 47,
   "id": "c3c06dfd",
   "metadata": {},
   "outputs": [
    {
     "name": "stderr",
     "output_type": "stream",
     "text": [
      "C:\\Users\\Vaibhav\\anaconda3\\lib\\site-packages\\ipykernel\\ipkernel.py:287: DeprecationWarning: `should_run_async` will not call `transform_cell` automatically in the future. Please pass the result to `transformed_cell` argument and any exception that happen during thetransform in `preprocessing_exc_tuple` in IPython 7.17 and above.\n",
      "  and should_run_async(code)\n"
     ]
    },
    {
     "data": {
      "text/plain": [
       "20"
      ]
     },
     "execution_count": 47,
     "metadata": {},
     "output_type": "execute_result"
    }
   ],
   "source": [
    "len(hdptopics)"
   ]
  },
  {
   "cell_type": "code",
   "execution_count": 48,
   "id": "4a321b3f",
   "metadata": {},
   "outputs": [
    {
     "name": "stderr",
     "output_type": "stream",
     "text": [
      "C:\\Users\\Vaibhav\\anaconda3\\lib\\site-packages\\ipykernel\\ipkernel.py:287: DeprecationWarning: `should_run_async` will not call `transform_cell` automatically in the future. Please pass the result to `transformed_cell` argument and any exception that happen during thetransform in `preprocessing_exc_tuple` in IPython 7.17 and above.\n",
      "  and should_run_async(code)\n",
      "<>:8: DeprecationWarning: invalid escape sequence \\-\n",
      "<>:8: DeprecationWarning: invalid escape sequence \\-\n",
      "<ipython-input-48-70914d27c0ed>:8: DeprecationWarning: invalid escape sequence \\-\n",
      "  token_pattern='[a-zA-Z\\-][a-zA-Z\\-]{2,}');\n"
     ]
    },
    {
     "name": "stdout",
     "output_type": "stream",
     "text": [
      "Created 3000 X 5000 document-term matrix\n"
     ]
    }
   ],
   "source": [
    "\n",
    "from nltk.corpus import stopwords;\n",
    "import nltk;\n",
    "from sklearn.feature_extraction.text import CountVectorizer, TfidfTransformer;\n",
    "from sklearn.decomposition import NMF;\n",
    "from sklearn.preprocessing import normalize;\n",
    "\n",
    "vectorizer = CountVectorizer(analyzer='word', max_features=5000, stop_words='english', lowercase=True, \n",
    "                             token_pattern='[a-zA-Z\\-][a-zA-Z\\-]{2,}');\n",
    "x_counts = vectorizer.fit_transform(title);\n",
    "print( \"Created %d X %d document-term matrix\" % (x_counts.shape[0], x_counts.shape[1]) )\n",
    "transformer = TfidfTransformer(smooth_idf=False);\n",
    "x_tfidf = transformer.fit_transform(x_counts);"
   ]
  },
  {
   "cell_type": "code",
   "execution_count": 49,
   "id": "bfcc6085",
   "metadata": {},
   "outputs": [
    {
     "name": "stdout",
     "output_type": "stream",
     "text": [
      "Vocabulary has 5000 distinct terms\n"
     ]
    },
    {
     "name": "stderr",
     "output_type": "stream",
     "text": [
      "C:\\Users\\Vaibhav\\anaconda3\\lib\\site-packages\\ipykernel\\ipkernel.py:287: DeprecationWarning: `should_run_async` will not call `transform_cell` automatically in the future. Please pass the result to `transformed_cell` argument and any exception that happen during thetransform in `preprocessing_exc_tuple` in IPython 7.17 and above.\n",
      "  and should_run_async(code)\n"
     ]
    }
   ],
   "source": [
    "\n",
    "terms = vectorizer.get_feature_names()\n",
    "print(\"Vocabulary has %d distinct terms\" % len(terms))"
   ]
  },
  {
   "cell_type": "code",
   "execution_count": 50,
   "id": "08572626",
   "metadata": {},
   "outputs": [
    {
     "name": "stderr",
     "output_type": "stream",
     "text": [
      "C:\\Users\\Vaibhav\\anaconda3\\lib\\site-packages\\ipykernel\\ipkernel.py:287: DeprecationWarning: `should_run_async` will not call `transform_cell` automatically in the future. Please pass the result to `transformed_cell` argument and any exception that happen during thetransform in `preprocessing_exc_tuple` in IPython 7.17 and above.\n",
      "  and should_run_async(code)\n",
      "C:\\Users\\Vaibhav\\anaconda3\\lib\\site-packages\\scipy\\linalg\\decomp_qr.py:20: DeprecationWarning: `np.int` is a deprecated alias for the builtin `int`. To silence this warning, use `int` by itself. Doing this will not modify any behavior and is safe. When replacing `np.int`, you may wish to use e.g. `np.int64` or `np.int32` to specify the precision. If you wish to review your current use, check the release note link for additional information.\n",
      "Deprecated in NumPy 1.20; for more details and guidance: https://numpy.org/devdocs/release/1.20.0-notes.html#deprecations\n",
      "  kwargs['lwork'] = ret[-2][0].real.astype(numpy.int)\n",
      "C:\\Users\\Vaibhav\\anaconda3\\lib\\site-packages\\scipy\\linalg\\decomp_qr.py:20: DeprecationWarning: `np.int` is a deprecated alias for the builtin `int`. To silence this warning, use `int` by itself. Doing this will not modify any behavior and is safe. When replacing `np.int`, you may wish to use e.g. `np.int64` or `np.int32` to specify the precision. If you wish to review your current use, check the release note link for additional information.\n",
      "Deprecated in NumPy 1.20; for more details and guidance: https://numpy.org/devdocs/release/1.20.0-notes.html#deprecations\n",
      "  kwargs['lwork'] = ret[-2][0].real.astype(numpy.int)\n"
     ]
    },
    {
     "data": {
      "text/plain": [
       "NMF(init='nndsvd', n_components=5)"
      ]
     },
     "execution_count": 50,
     "metadata": {},
     "output_type": "execute_result"
    }
   ],
   "source": [
    "xtfidf_norm = normalize(x_tfidf, norm='l1', axis=1)\n",
    "model = NMF(n_components=5, init='nndsvd');\n",
    "model.fit(xtfidf_norm)"
   ]
  },
  {
   "cell_type": "code",
   "execution_count": 51,
   "id": "89f42cea",
   "metadata": {},
   "outputs": [
    {
     "name": "stderr",
     "output_type": "stream",
     "text": [
      "C:\\Users\\Vaibhav\\anaconda3\\lib\\site-packages\\ipykernel\\ipkernel.py:287: DeprecationWarning: `should_run_async` will not call `transform_cell` automatically in the future. Please pass the result to `transformed_cell` argument and any exception that happen during thetransform in `preprocessing_exc_tuple` in IPython 7.17 and above.\n",
      "  and should_run_async(code)\n"
     ]
    }
   ],
   "source": [
    "\n",
    "def get_nmf_topics(model, n_top_words):\n",
    "    \n",
    "    feat_names = vectorizer.get_feature_names()\n",
    "    \n",
    "    word_dict = {};\n",
    "    for i in range(num_topics):\n",
    "        \n",
    "        words_ids = model.components_[i].argsort()[:-20 - 1:-1]\n",
    "        words = [feat_names[key] for key in words_ids]\n",
    "        word_dict['Topic # ' + '{:02d}'.format(i+1)] = words;\n",
    "    \n",
    "    return pd.DataFrame(word_dict);"
   ]
  },
  {
   "cell_type": "code",
   "execution_count": 52,
   "id": "70449cba",
   "metadata": {},
   "outputs": [
    {
     "name": "stderr",
     "output_type": "stream",
     "text": [
      "C:\\Users\\Vaibhav\\anaconda3\\lib\\site-packages\\ipykernel\\ipkernel.py:287: DeprecationWarning: `should_run_async` will not call `transform_cell` automatically in the future. Please pass the result to `transformed_cell` argument and any exception that happen during thetransform in `preprocessing_exc_tuple` in IPython 7.17 and above.\n",
      "  and should_run_async(code)\n"
     ]
    },
    {
     "data": {
      "text/html": [
       "<div>\n",
       "<style scoped>\n",
       "    .dataframe tbody tr th:only-of-type {\n",
       "        vertical-align: middle;\n",
       "    }\n",
       "\n",
       "    .dataframe tbody tr th {\n",
       "        vertical-align: top;\n",
       "    }\n",
       "\n",
       "    .dataframe thead th {\n",
       "        text-align: right;\n",
       "    }\n",
       "</style>\n",
       "<table border=\"1\" class=\"dataframe\">\n",
       "  <thead>\n",
       "    <tr style=\"text-align: right;\">\n",
       "      <th></th>\n",
       "      <th>Topic # 01</th>\n",
       "      <th>Topic # 02</th>\n",
       "      <th>Topic # 03</th>\n",
       "      <th>Topic # 04</th>\n",
       "      <th>Topic # 05</th>\n",
       "    </tr>\n",
       "  </thead>\n",
       "  <tbody>\n",
       "    <tr>\n",
       "      <th>0</th>\n",
       "      <td>new</td>\n",
       "      <td>google</td>\n",
       "      <td>ebola</td>\n",
       "      <td>world</td>\n",
       "      <td>apple</td>\n",
       "    </tr>\n",
       "    <tr>\n",
       "      <th>1</th>\n",
       "      <td>thor</td>\n",
       "      <td>glass</td>\n",
       "      <td>cases</td>\n",
       "      <td>news</td>\n",
       "      <td>samsung</td>\n",
       "    </tr>\n",
       "    <tr>\n",
       "      <th>2</th>\n",
       "      <td>twitter</td>\n",
       "      <td>self-driving</td>\n",
       "      <td>liberia</td>\n",
       "      <td>briefs</td>\n",
       "      <td>galaxy</td>\n",
       "    </tr>\n",
       "    <tr>\n",
       "      <th>3</th>\n",
       "      <td>sales</td>\n",
       "      <td>maps</td>\n",
       "      <td>outbreak</td>\n",
       "      <td>air</td>\n",
       "      <td>beats</td>\n",
       "    </tr>\n",
       "    <tr>\n",
       "      <th>4</th>\n",
       "      <td>album</td>\n",
       "      <td>car</td>\n",
       "      <td>deaths</td>\n",
       "      <td>nation</td>\n",
       "      <td>review</td>\n",
       "    </tr>\n",
       "    <tr>\n",
       "      <th>5</th>\n",
       "      <td>woman</td>\n",
       "      <td>android</td>\n",
       "      <td>virus</td>\n",
       "      <td>quality</td>\n",
       "      <td>design</td>\n",
       "    </tr>\n",
       "    <tr>\n",
       "      <th>6</th>\n",
       "      <td>york</td>\n",
       "      <td>releases</td>\n",
       "      <td>prevent</td>\n",
       "      <td>sawyer</td>\n",
       "      <td>microsoft</td>\n",
       "    </tr>\n",
       "    <tr>\n",
       "      <th>7</th>\n",
       "      <td>film</td>\n",
       "      <td>chrome</td>\n",
       "      <td>guinea</td>\n",
       "      <td>diane</td>\n",
       "      <td>price</td>\n",
       "    </tr>\n",
       "    <tr>\n",
       "      <th>8</th>\n",
       "      <td>noah</td>\n",
       "      <td>homes</td>\n",
       "      <td>africa</td>\n",
       "      <td>facebook</td>\n",
       "      <td>talks</td>\n",
       "    </tr>\n",
       "    <tr>\n",
       "      <th>9</th>\n",
       "      <td>htc</td>\n",
       "      <td>rolled</td>\n",
       "      <td>congo</td>\n",
       "      <td>business</td>\n",
       "      <td>deal</td>\n",
       "    </tr>\n",
       "    <tr>\n",
       "      <th>10</th>\n",
       "      <td>soon</td>\n",
       "      <td>mail</td>\n",
       "      <td>west</td>\n",
       "      <td>biggest</td>\n",
       "      <td>dre</td>\n",
       "    </tr>\n",
       "    <tr>\n",
       "      <th>11</th>\n",
       "      <td>house</td>\n",
       "      <td>solar</td>\n",
       "      <td>mers</td>\n",
       "      <td>stepping</td>\n",
       "      <td>guardians</td>\n",
       "    </tr>\n",
       "    <tr>\n",
       "      <th>12</th>\n",
       "      <td>home</td>\n",
       "      <td>cars</td>\n",
       "      <td>reported</td>\n",
       "      <td>cup</td>\n",
       "      <td>buying</td>\n",
       "    </tr>\n",
       "    <tr>\n",
       "      <th>13</th>\n",
       "      <td>report</td>\n",
       "      <td>day</td>\n",
       "      <td>woman</td>\n",
       "      <td>cope</td>\n",
       "      <td>billion</td>\n",
       "    </tr>\n",
       "    <tr>\n",
       "      <th>14</th>\n",
       "      <td>prince</td>\n",
       "      <td>safer</td>\n",
       "      <td>risk</td>\n",
       "      <td>worsening</td>\n",
       "      <td>iphone</td>\n",
       "    </tr>\n",
       "    <tr>\n",
       "      <th>15</th>\n",
       "      <td>ticks</td>\n",
       "      <td>coming</td>\n",
       "      <td>confirms</td>\n",
       "      <td>use</td>\n",
       "      <td>million</td>\n",
       "    </tr>\n",
       "    <tr>\n",
       "      <th>16</th>\n",
       "      <td>single</td>\n",
       "      <td>attacked</td>\n",
       "      <td>rises</td>\n",
       "      <td>strange</td>\n",
       "      <td>hands</td>\n",
       "    </tr>\n",
       "    <tr>\n",
       "      <th>17</th>\n",
       "      <td>identified</td>\n",
       "      <td>spreadsheets</td>\n",
       "      <td>plane</td>\n",
       "      <td>abc</td>\n",
       "      <td>comcast</td>\n",
       "    </tr>\n",
       "    <tr>\n",
       "      <th>18</th>\n",
       "      <td>facebook</td>\n",
       "      <td>hangouts</td>\n",
       "      <td>travel</td>\n",
       "      <td>phones</td>\n",
       "      <td>release</td>\n",
       "    </tr>\n",
       "    <tr>\n",
       "      <th>19</th>\n",
       "      <td>bank</td>\n",
       "      <td>tomorrow</td>\n",
       "      <td>saudi</td>\n",
       "      <td>leaders</td>\n",
       "      <td>titanfall</td>\n",
       "    </tr>\n",
       "  </tbody>\n",
       "</table>\n",
       "</div>"
      ],
      "text/plain": [
       "    Topic # 01    Topic # 02 Topic # 03 Topic # 04 Topic # 05\n",
       "0          new        google      ebola      world      apple\n",
       "1         thor         glass      cases       news    samsung\n",
       "2      twitter  self-driving    liberia     briefs     galaxy\n",
       "3        sales          maps   outbreak        air      beats\n",
       "4        album           car     deaths     nation     review\n",
       "5        woman       android      virus    quality     design\n",
       "6         york      releases    prevent     sawyer  microsoft\n",
       "7         film        chrome     guinea      diane      price\n",
       "8         noah         homes     africa   facebook      talks\n",
       "9          htc        rolled      congo   business       deal\n",
       "10        soon          mail       west    biggest        dre\n",
       "11       house         solar       mers   stepping  guardians\n",
       "12        home          cars   reported        cup     buying\n",
       "13      report           day      woman       cope    billion\n",
       "14      prince         safer       risk  worsening     iphone\n",
       "15       ticks        coming   confirms        use    million\n",
       "16      single      attacked      rises    strange      hands\n",
       "17  identified  spreadsheets      plane        abc    comcast\n",
       "18    facebook      hangouts     travel     phones    release\n",
       "19        bank      tomorrow      saudi    leaders  titanfall"
      ]
     },
     "execution_count": 52,
     "metadata": {},
     "output_type": "execute_result"
    }
   ],
   "source": [
    "num_topics = 5\n",
    "nmf_df = get_nmf_topics(model, 5)\n",
    "nmf_df"
   ]
  },
  {
   "cell_type": "code",
   "execution_count": 53,
   "id": "242cfed5",
   "metadata": {},
   "outputs": [
    {
     "name": "stderr",
     "output_type": "stream",
     "text": [
      "C:\\Users\\Vaibhav\\anaconda3\\lib\\site-packages\\ipykernel\\ipkernel.py:287: DeprecationWarning: `should_run_async` will not call `transform_cell` automatically in the future. Please pass the result to `transformed_cell` argument and any exception that happen during thetransform in `preprocessing_exc_tuple` in IPython 7.17 and above.\n",
      "  and should_run_async(code)\n"
     ]
    }
   ],
   "source": [
    "\n",
    "raw_documents = title.str.strip()\n",
    "raw_documents= raw_documents.str.lower()\n",
    "raw_documents = raw_documents.tolist()\n",
    "raw_doc1 = [i.split() for i in raw_documents]"
   ]
  },
  {
   "cell_type": "code",
   "execution_count": 54,
   "id": "48fe8773",
   "metadata": {},
   "outputs": [
    {
     "name": "stdout",
     "output_type": "stream",
     "text": [
      "Created 3000 X 93 document-term matrix\n"
     ]
    },
    {
     "name": "stderr",
     "output_type": "stream",
     "text": [
      "C:\\Users\\Vaibhav\\anaconda3\\lib\\site-packages\\ipykernel\\ipkernel.py:287: DeprecationWarning: `should_run_async` will not call `transform_cell` automatically in the future. Please pass the result to `transformed_cell` argument and any exception that happen during thetransform in `preprocessing_exc_tuple` in IPython 7.17 and above.\n",
      "  and should_run_async(code)\n"
     ]
    }
   ],
   "source": [
    "\n",
    "from sklearn.feature_extraction.text import CountVectorizer\n",
    "# use a custom stopwords list, set the minimum term-document frequency to 20\n",
    "vectorizer = CountVectorizer(stop_words = stop_words, min_df = 20) #custom_stop_words\n",
    "A = vectorizer.fit_transform(raw_documents)\n",
    "print( \"Created %d X %d document-term matrix\" % (A.shape[0], A.shape[1]) )"
   ]
  },
  {
   "cell_type": "code",
   "execution_count": 55,
   "id": "0c37c346",
   "metadata": {},
   "outputs": [
    {
     "name": "stdout",
     "output_type": "stream",
     "text": [
      "Vocabulary has 93 distinct terms\n"
     ]
    },
    {
     "name": "stderr",
     "output_type": "stream",
     "text": [
      "C:\\Users\\Vaibhav\\anaconda3\\lib\\site-packages\\ipykernel\\ipkernel.py:287: DeprecationWarning: `should_run_async` will not call `transform_cell` automatically in the future. Please pass the result to `transformed_cell` argument and any exception that happen during thetransform in `preprocessing_exc_tuple` in IPython 7.17 and above.\n",
      "  and should_run_async(code)\n"
     ]
    }
   ],
   "source": [
    "\n",
    "terms = vectorizer.get_feature_names()\n",
    "print(\"Vocabulary has %d distinct terms\" % len(terms))"
   ]
  },
  {
   "cell_type": "code",
   "execution_count": 56,
   "id": "6351d4b5",
   "metadata": {},
   "outputs": [
    {
     "name": "stdout",
     "output_type": "stream",
     "text": [
      "Created 3000 X 93 TF-IDF-normalized document-term matrix\n"
     ]
    },
    {
     "name": "stderr",
     "output_type": "stream",
     "text": [
      "C:\\Users\\Vaibhav\\anaconda3\\lib\\site-packages\\ipykernel\\ipkernel.py:287: DeprecationWarning: `should_run_async` will not call `transform_cell` automatically in the future. Please pass the result to `transformed_cell` argument and any exception that happen during thetransform in `preprocessing_exc_tuple` in IPython 7.17 and above.\n",
      "  and should_run_async(code)\n"
     ]
    }
   ],
   "source": [
    "\n",
    "from sklearn.feature_extraction.text import TfidfVectorizer\n",
    "# we can pass in the same preprocessing parameters\n",
    "vectorizer = TfidfVectorizer(stop_words= stop_words, min_df = 20) #custom_stop_words\n",
    "A = vectorizer.fit_transform(raw_documents)\n",
    "print( \"Created %d X %d TF-IDF-normalized document-term matrix\" % (A.shape[0], A.shape[1]) )"
   ]
  },
  {
   "cell_type": "code",
   "execution_count": 57,
   "id": "37e91602",
   "metadata": {},
   "outputs": [
    {
     "name": "stderr",
     "output_type": "stream",
     "text": [
      "C:\\Users\\Vaibhav\\anaconda3\\lib\\site-packages\\ipykernel\\ipkernel.py:287: DeprecationWarning: `should_run_async` will not call `transform_cell` automatically in the future. Please pass the result to `transformed_cell` argument and any exception that happen during thetransform in `preprocessing_exc_tuple` in IPython 7.17 and above.\n",
      "  and should_run_async(code)\n"
     ]
    }
   ],
   "source": [
    "\n",
    "import operator\n",
    "def rank_terms( A, terms ):\n",
    "    # get the sums over each column\n",
    "    sums = A.sum(axis=0)\n",
    "    # map weights to the terms\n",
    "    weights = {}\n",
    "    for col, term in enumerate(terms):\n",
    "        weights[term] = sums[0,col]\n",
    "    # rank the terms by their weight over all documents\n",
    "    return sorted(weights.items(), key=operator.itemgetter(1), reverse=True)"
   ]
  },
  {
   "cell_type": "code",
   "execution_count": 58,
   "id": "497aa844",
   "metadata": {},
   "outputs": [
    {
     "name": "stdout",
     "output_type": "stream",
     "text": [
      "01. new (117.85)\n",
      "02. google (57.11)\n",
      "03. apple (53.84)\n",
      "04. video (48.75)\n",
      "05. cancer (45.25)\n",
      "06. study (43.26)\n",
      "07. says (42.12)\n",
      "08. ebola (41.64)\n",
      "09. report (37.28)\n",
      "10. world (36.48)\n",
      "11. microsoft (36.25)\n",
      "12. million (35.71)\n",
      "13. health (34.83)\n",
      "14. facebook (34.42)\n",
      "15. samsung (33.67)\n",
      "16. data (31.82)\n",
      "17. 2014 (31.73)\n",
      "18. china (30.75)\n",
      "19. review (30.14)\n",
      "20. day (28.90)\n"
     ]
    },
    {
     "name": "stderr",
     "output_type": "stream",
     "text": [
      "C:\\Users\\Vaibhav\\anaconda3\\lib\\site-packages\\ipykernel\\ipkernel.py:287: DeprecationWarning: `should_run_async` will not call `transform_cell` automatically in the future. Please pass the result to `transformed_cell` argument and any exception that happen during thetransform in `preprocessing_exc_tuple` in IPython 7.17 and above.\n",
      "  and should_run_async(code)\n"
     ]
    }
   ],
   "source": [
    "\n",
    "ranking = rank_terms( A, terms )\n",
    "for i, pair in enumerate( ranking[0:20] ):\n",
    "    print( \"%02d. %s (%.2f)\" % ( i+1, pair[0], pair[1] ) )"
   ]
  },
  {
   "cell_type": "code",
   "execution_count": 59,
   "id": "aca3232b",
   "metadata": {},
   "outputs": [
    {
     "name": "stderr",
     "output_type": "stream",
     "text": [
      "C:\\Users\\Vaibhav\\anaconda3\\lib\\site-packages\\ipykernel\\ipkernel.py:287: DeprecationWarning: `should_run_async` will not call `transform_cell` automatically in the future. Please pass the result to `transformed_cell` argument and any exception that happen during thetransform in `preprocessing_exc_tuple` in IPython 7.17 and above.\n",
      "  and should_run_async(code)\n",
      "C:\\Users\\Vaibhav\\anaconda3\\lib\\site-packages\\scipy\\linalg\\decomp_qr.py:20: DeprecationWarning: `np.int` is a deprecated alias for the builtin `int`. To silence this warning, use `int` by itself. Doing this will not modify any behavior and is safe. When replacing `np.int`, you may wish to use e.g. `np.int64` or `np.int32` to specify the precision. If you wish to review your current use, check the release note link for additional information.\n",
      "Deprecated in NumPy 1.20; for more details and guidance: https://numpy.org/devdocs/release/1.20.0-notes.html#deprecations\n",
      "  kwargs['lwork'] = ret[-2][0].real.astype(numpy.int)\n",
      "C:\\Users\\Vaibhav\\anaconda3\\lib\\site-packages\\scipy\\linalg\\decomp_qr.py:20: DeprecationWarning: `np.int` is a deprecated alias for the builtin `int`. To silence this warning, use `int` by itself. Doing this will not modify any behavior and is safe. When replacing `np.int`, you may wish to use e.g. `np.int64` or `np.int32` to specify the precision. If you wish to review your current use, check the release note link for additional information.\n",
      "Deprecated in NumPy 1.20; for more details and guidance: https://numpy.org/devdocs/release/1.20.0-notes.html#deprecations\n",
      "  kwargs['lwork'] = ret[-2][0].real.astype(numpy.int)\n"
     ]
    }
   ],
   "source": [
    "k = 10\n",
    "# create the model\n",
    "from sklearn import decomposition\n",
    "model = decomposition.NMF( init=\"nndsvd\", n_components=k ) \n",
    "# apply the model and extract the two factor matrices\n",
    "W = model.fit_transform( A )\n",
    "H = model.components_"
   ]
  },
  {
   "cell_type": "code",
   "execution_count": 60,
   "id": "db2e8e47",
   "metadata": {},
   "outputs": [
    {
     "name": "stderr",
     "output_type": "stream",
     "text": [
      "C:\\Users\\Vaibhav\\anaconda3\\lib\\site-packages\\ipykernel\\ipkernel.py:287: DeprecationWarning: `should_run_async` will not call `transform_cell` automatically in the future. Please pass the result to `transformed_cell` argument and any exception that happen during thetransform in `preprocessing_exc_tuple` in IPython 7.17 and above.\n",
      "  and should_run_async(code)\n"
     ]
    },
    {
     "data": {
      "text/plain": [
       "array([0.  , 0.  , 0.05, 0.  , 0.  , 0.  , 0.  , 0.  , 1.77, 0.  ])"
      ]
     },
     "execution_count": 60,
     "metadata": {},
     "output_type": "execute_result"
    }
   ],
   "source": [
    "term_index = terms.index('samsung')\n",
    "# round to 2 decimal places for display purposes\n",
    "H[:,term_index].round(2)"
   ]
  },
  {
   "cell_type": "code",
   "execution_count": 61,
   "id": "6ef5fb57",
   "metadata": {},
   "outputs": [
    {
     "name": "stderr",
     "output_type": "stream",
     "text": [
      "C:\\Users\\Vaibhav\\anaconda3\\lib\\site-packages\\ipykernel\\ipkernel.py:287: DeprecationWarning: `should_run_async` will not call `transform_cell` automatically in the future. Please pass the result to `transformed_cell` argument and any exception that happen during thetransform in `preprocessing_exc_tuple` in IPython 7.17 and above.\n",
      "  and should_run_async(code)\n"
     ]
    }
   ],
   "source": [
    "\n",
    "import numpy as np\n",
    "def get_descriptor( terms, H, topic_index, top ):\n",
    "    # reverse sort the values to sort the indices\n",
    "    top_indices = np.argsort( H[topic_index,:] )[::-1]\n",
    "    # now get the terms corresponding to the top-ranked indices\n",
    "    top_terms = []\n",
    "    for term_index in top_indices[0:top]:\n",
    "        top_terms.append( terms[term_index] )\n",
    "    return top_terms"
   ]
  },
  {
   "cell_type": "code",
   "execution_count": 62,
   "id": "082621a4",
   "metadata": {},
   "outputs": [
    {
     "name": "stdout",
     "output_type": "stream",
     "text": [
      "Topic 01: new, report, sales, movie, twitter, ceo, update, life, star, baby\n",
      "Topic 02: google, car, facebook, day, gets, update, time, company, set, amazon\n",
      "Topic 03: apple, billion, app, ceo, prices, talks, tv, week, real, free\n",
      "Topic 04: video, watch, game, trailer, facebook, baby, best, star, gets, thrones\n",
      "Topic 05: cancer, drug, woman, life, million, month, virus, news, year, risk\n",
      "Topic 06: ebola, outbreak, west, virus, cases, health, mers, kardashian, kim, 2014\n",
      "Topic 07: study, risk, men, high, health, life, people, help, day, twitter\n",
      "Topic 08: says, report, microsoft, facebook, billion, users, time, change, mers, game\n",
      "Topic 09: samsung, galaxy, million, review, gets, health, 10, deal, phone, watch\n",
      "Topic 10: world, news, data, health, facebook, 2014, star, japan, make, ceo\n"
     ]
    },
    {
     "name": "stderr",
     "output_type": "stream",
     "text": [
      "C:\\Users\\Vaibhav\\anaconda3\\lib\\site-packages\\ipykernel\\ipkernel.py:287: DeprecationWarning: `should_run_async` will not call `transform_cell` automatically in the future. Please pass the result to `transformed_cell` argument and any exception that happen during thetransform in `preprocessing_exc_tuple` in IPython 7.17 and above.\n",
      "  and should_run_async(code)\n"
     ]
    }
   ],
   "source": [
    "\n",
    "descriptors = []\n",
    "for topic_index in range(k):\n",
    "    descriptors.append( get_descriptor( terms, H, topic_index, 10 ) )\n",
    "    str_descriptor = \", \".join( descriptors[topic_index] )\n",
    "    print(\"Topic %02d: %s\" % ( topic_index+1, str_descriptor ) )"
   ]
  },
  {
   "cell_type": "code",
   "execution_count": 63,
   "id": "d9811078",
   "metadata": {},
   "outputs": [
    {
     "name": "stderr",
     "output_type": "stream",
     "text": [
      "C:\\Users\\Vaibhav\\anaconda3\\lib\\site-packages\\ipykernel\\ipkernel.py:287: DeprecationWarning: `should_run_async` will not call `transform_cell` automatically in the future. Please pass the result to `transformed_cell` argument and any exception that happen during thetransform in `preprocessing_exc_tuple` in IPython 7.17 and above.\n",
      "  and should_run_async(code)\n"
     ]
    }
   ],
   "source": [
    "\n",
    "%matplotlib inline\n",
    "import numpy as np\n",
    "import matplotlib\n",
    "import matplotlib.pyplot as plt\n",
    "plt.style.use(\"ggplot\")\n",
    "matplotlib.rcParams.update({\"font.size\": 14})"
   ]
  },
  {
   "cell_type": "code",
   "execution_count": 64,
   "id": "780c73e3",
   "metadata": {},
   "outputs": [
    {
     "name": "stderr",
     "output_type": "stream",
     "text": [
      "C:\\Users\\Vaibhav\\anaconda3\\lib\\site-packages\\ipykernel\\ipkernel.py:287: DeprecationWarning: `should_run_async` will not call `transform_cell` automatically in the future. Please pass the result to `transformed_cell` argument and any exception that happen during thetransform in `preprocessing_exc_tuple` in IPython 7.17 and above.\n",
      "  and should_run_async(code)\n"
     ]
    }
   ],
   "source": [
    "\n",
    "def plot_top_term_weights( terms, H, topic_index, top ):\n",
    "    # get the top terms and their weights\n",
    "    top_indices = np.argsort( H[topic_index,:] )[::-1]\n",
    "    top_terms = []\n",
    "    top_weights = []\n",
    "    for term_index in top_indices[0:top]:\n",
    "        top_terms.append( terms[term_index] )\n",
    "        top_weights.append( H[topic_index,term_index] )\n",
    "    # note we reverse the ordering for the plot\n",
    "    top_terms.reverse()\n",
    "    top_weights.reverse()\n",
    "    # create the plot\n",
    "    fig = plt.figure(figsize=(13,8))\n",
    "    # add the horizontal bar chart\n",
    "    ypos = np.arange(top)\n",
    "    ax = plt.barh(ypos, top_weights, align=\"center\", color=\"green\",tick_label=top_terms)\n",
    "    plt.xlabel(\"Term Weight\",fontsize=14)\n",
    "    plt.tight_layout()\n",
    "    plt.show()"
   ]
  },
  {
   "cell_type": "code",
   "execution_count": 65,
   "id": "8f1084a9",
   "metadata": {},
   "outputs": [
    {
     "name": "stderr",
     "output_type": "stream",
     "text": [
      "C:\\Users\\Vaibhav\\anaconda3\\lib\\site-packages\\ipykernel\\ipkernel.py:287: DeprecationWarning: `should_run_async` will not call `transform_cell` automatically in the future. Please pass the result to `transformed_cell` argument and any exception that happen during thetransform in `preprocessing_exc_tuple` in IPython 7.17 and above.\n",
      "  and should_run_async(code)\n"
     ]
    },
    {
     "data": {
      "image/png": "[encoded data removed]",
      "text/plain": [
       "<Figure size 936x576 with 1 Axes>"
      ]
     },
     "metadata": {},
     "output_type": "display_data"
    }
   ],
   "source": [
    "plot_top_term_weights( terms, H, 1, 15 )"
   ]
  },
  {
   "cell_type": "code",
   "execution_count": 66,
   "id": "fd13edde",
   "metadata": {},
   "outputs": [
    {
     "name": "stderr",
     "output_type": "stream",
     "text": [
      "C:\\Users\\Vaibhav\\anaconda3\\lib\\site-packages\\ipykernel\\ipkernel.py:287: DeprecationWarning: `should_run_async` will not call `transform_cell` automatically in the future. Please pass the result to `transformed_cell` argument and any exception that happen during thetransform in `preprocessing_exc_tuple` in IPython 7.17 and above.\n",
      "  and should_run_async(code)\n"
     ]
    }
   ],
   "source": [
    "\n",
    "def get_top_snippets( all_snippets, W, topic_index, top ):\n",
    "    # reverse sort the values to sort the indices\n",
    "    top_indices = np.argsort( W[:,topic_index] )[::-1]\n",
    "    # now get the snippets corresponding to the top-ranked indices\n",
    "    top_snippets = []\n",
    "    for doc_index in top_indices[0:top]:\n",
    "        top_snippets.append( all_snippets[doc_index] )\n",
    "    return top_snippets"
   ]
  },
  {
   "cell_type": "code",
   "execution_count": 67,
   "id": "9a9886c2",
   "metadata": {},
   "outputs": [
    {
     "name": "stderr",
     "output_type": "stream",
     "text": [
      "C:\\Users\\Vaibhav\\anaconda3\\lib\\site-packages\\ipykernel\\ipkernel.py:287: DeprecationWarning: `should_run_async` will not call `transform_cell` automatically in the future. Please pass the result to `transformed_cell` argument and any exception that happen during thetransform in `preprocessing_exc_tuple` in IPython 7.17 and above.\n",
      "  and should_run_async(code)\n"
     ]
    }
   ],
   "source": [
    "kmin, kmax = 2, 8"
   ]
  },
  {
   "cell_type": "code",
   "execution_count": 68,
   "id": "92bb67fe",
   "metadata": {},
   "outputs": [
    {
     "name": "stderr",
     "output_type": "stream",
     "text": [
      "C:\\Users\\Vaibhav\\anaconda3\\lib\\site-packages\\ipykernel\\ipkernel.py:287: DeprecationWarning: `should_run_async` will not call `transform_cell` automatically in the future. Please pass the result to `transformed_cell` argument and any exception that happen during thetransform in `preprocessing_exc_tuple` in IPython 7.17 and above.\n",
      "  and should_run_async(code)\n",
      "C:\\Users\\Vaibhav\\anaconda3\\lib\\site-packages\\scipy\\linalg\\decomp_qr.py:20: DeprecationWarning: `np.int` is a deprecated alias for the builtin `int`. To silence this warning, use `int` by itself. Doing this will not modify any behavior and is safe. When replacing `np.int`, you may wish to use e.g. `np.int64` or `np.int32` to specify the precision. If you wish to review your current use, check the release note link for additional information.\n",
      "Deprecated in NumPy 1.20; for more details and guidance: https://numpy.org/devdocs/release/1.20.0-notes.html#deprecations\n",
      "  kwargs['lwork'] = ret[-2][0].real.astype(numpy.int)\n",
      "C:\\Users\\Vaibhav\\anaconda3\\lib\\site-packages\\scipy\\linalg\\decomp_qr.py:20: DeprecationWarning: `np.int` is a deprecated alias for the builtin `int`. To silence this warning, use `int` by itself. Doing this will not modify any behavior and is safe. When replacing `np.int`, you may wish to use e.g. `np.int64` or `np.int32` to specify the precision. If you wish to review your current use, check the release note link for additional information.\n",
      "Deprecated in NumPy 1.20; for more details and guidance: https://numpy.org/devdocs/release/1.20.0-notes.html#deprecations\n",
      "  kwargs['lwork'] = ret[-2][0].real.astype(numpy.int)\n",
      "C:\\Users\\Vaibhav\\anaconda3\\lib\\site-packages\\scipy\\linalg\\decomp_qr.py:20: DeprecationWarning: `np.int` is a deprecated alias for the builtin `int`. To silence this warning, use `int` by itself. Doing this will not modify any behavior and is safe. When replacing `np.int`, you may wish to use e.g. `np.int64` or `np.int32` to specify the precision. If you wish to review your current use, check the release note link for additional information.\n",
      "Deprecated in NumPy 1.20; for more details and guidance: https://numpy.org/devdocs/release/1.20.0-notes.html#deprecations\n",
      "  kwargs['lwork'] = ret[-2][0].real.astype(numpy.int)\n",
      "C:\\Users\\Vaibhav\\anaconda3\\lib\\site-packages\\scipy\\linalg\\decomp_qr.py:20: DeprecationWarning: `np.int` is a deprecated alias for the builtin `int`. To silence this warning, use `int` by itself. Doing this will not modify any behavior and is safe. When replacing `np.int`, you may wish to use e.g. `np.int64` or `np.int32` to specify the precision. If you wish to review your current use, check the release note link for additional information.\n",
      "Deprecated in NumPy 1.20; for more details and guidance: https://numpy.org/devdocs/release/1.20.0-notes.html#deprecations\n",
      "  kwargs['lwork'] = ret[-2][0].real.astype(numpy.int)\n",
      "C:\\Users\\Vaibhav\\anaconda3\\lib\\site-packages\\scipy\\linalg\\decomp_qr.py:20: DeprecationWarning: `np.int` is a deprecated alias for the builtin `int`. To silence this warning, use `int` by itself. Doing this will not modify any behavior and is safe. When replacing `np.int`, you may wish to use e.g. `np.int64` or `np.int32` to specify the precision. If you wish to review your current use, check the release note link for additional information.\n",
      "Deprecated in NumPy 1.20; for more details and guidance: https://numpy.org/devdocs/release/1.20.0-notes.html#deprecations\n",
      "  kwargs['lwork'] = ret[-2][0].real.astype(numpy.int)\n",
      "C:\\Users\\Vaibhav\\anaconda3\\lib\\site-packages\\scipy\\linalg\\decomp_qr.py:20: DeprecationWarning: `np.int` is a deprecated alias for the builtin `int`. To silence this warning, use `int` by itself. Doing this will not modify any behavior and is safe. When replacing `np.int`, you may wish to use e.g. `np.int64` or `np.int32` to specify the precision. If you wish to review your current use, check the release note link for additional information.\n",
      "Deprecated in NumPy 1.20; for more details and guidance: https://numpy.org/devdocs/release/1.20.0-notes.html#deprecations\n",
      "  kwargs['lwork'] = ret[-2][0].real.astype(numpy.int)\n"
     ]
    },
    {
     "name": "stdout",
     "output_type": "stream",
     "text": [
      "Applying NMF for k=2 ...\n",
      "Applying NMF for k=3 ...\n",
      "Applying NMF for k=4 ...\n",
      "Applying NMF for k=5 ...\n",
      "Applying NMF for k=6 ...\n"
     ]
    },
    {
     "name": "stderr",
     "output_type": "stream",
     "text": [
      "C:\\Users\\Vaibhav\\anaconda3\\lib\\site-packages\\scipy\\linalg\\decomp_qr.py:20: DeprecationWarning: `np.int` is a deprecated alias for the builtin `int`. To silence this warning, use `int` by itself. Doing this will not modify any behavior and is safe. When replacing `np.int`, you may wish to use e.g. `np.int64` or `np.int32` to specify the precision. If you wish to review your current use, check the release note link for additional information.\n",
      "Deprecated in NumPy 1.20; for more details and guidance: https://numpy.org/devdocs/release/1.20.0-notes.html#deprecations\n",
      "  kwargs['lwork'] = ret[-2][0].real.astype(numpy.int)\n",
      "C:\\Users\\Vaibhav\\anaconda3\\lib\\site-packages\\scipy\\linalg\\decomp_qr.py:20: DeprecationWarning: `np.int` is a deprecated alias for the builtin `int`. To silence this warning, use `int` by itself. Doing this will not modify any behavior and is safe. When replacing `np.int`, you may wish to use e.g. `np.int64` or `np.int32` to specify the precision. If you wish to review your current use, check the release note link for additional information.\n",
      "Deprecated in NumPy 1.20; for more details and guidance: https://numpy.org/devdocs/release/1.20.0-notes.html#deprecations\n",
      "  kwargs['lwork'] = ret[-2][0].real.astype(numpy.int)\n",
      "C:\\Users\\Vaibhav\\anaconda3\\lib\\site-packages\\scipy\\linalg\\decomp_qr.py:20: DeprecationWarning: `np.int` is a deprecated alias for the builtin `int`. To silence this warning, use `int` by itself. Doing this will not modify any behavior and is safe. When replacing `np.int`, you may wish to use e.g. `np.int64` or `np.int32` to specify the precision. If you wish to review your current use, check the release note link for additional information.\n",
      "Deprecated in NumPy 1.20; for more details and guidance: https://numpy.org/devdocs/release/1.20.0-notes.html#deprecations\n",
      "  kwargs['lwork'] = ret[-2][0].real.astype(numpy.int)\n",
      "C:\\Users\\Vaibhav\\anaconda3\\lib\\site-packages\\scipy\\linalg\\decomp_qr.py:20: DeprecationWarning: `np.int` is a deprecated alias for the builtin `int`. To silence this warning, use `int` by itself. Doing this will not modify any behavior and is safe. When replacing `np.int`, you may wish to use e.g. `np.int64` or `np.int32` to specify the precision. If you wish to review your current use, check the release note link for additional information.\n",
      "Deprecated in NumPy 1.20; for more details and guidance: https://numpy.org/devdocs/release/1.20.0-notes.html#deprecations\n",
      "  kwargs['lwork'] = ret[-2][0].real.astype(numpy.int)\n"
     ]
    },
    {
     "name": "stdout",
     "output_type": "stream",
     "text": [
      "Applying NMF for k=7 ...\n"
     ]
    },
    {
     "name": "stderr",
     "output_type": "stream",
     "text": [
      "C:\\Users\\Vaibhav\\anaconda3\\lib\\site-packages\\scipy\\linalg\\decomp_qr.py:20: DeprecationWarning: `np.int` is a deprecated alias for the builtin `int`. To silence this warning, use `int` by itself. Doing this will not modify any behavior and is safe. When replacing `np.int`, you may wish to use e.g. `np.int64` or `np.int32` to specify the precision. If you wish to review your current use, check the release note link for additional information.\n",
      "Deprecated in NumPy 1.20; for more details and guidance: https://numpy.org/devdocs/release/1.20.0-notes.html#deprecations\n",
      "  kwargs['lwork'] = ret[-2][0].real.astype(numpy.int)\n",
      "C:\\Users\\Vaibhav\\anaconda3\\lib\\site-packages\\scipy\\linalg\\decomp_qr.py:20: DeprecationWarning: `np.int` is a deprecated alias for the builtin `int`. To silence this warning, use `int` by itself. Doing this will not modify any behavior and is safe. When replacing `np.int`, you may wish to use e.g. `np.int64` or `np.int32` to specify the precision. If you wish to review your current use, check the release note link for additional information.\n",
      "Deprecated in NumPy 1.20; for more details and guidance: https://numpy.org/devdocs/release/1.20.0-notes.html#deprecations\n",
      "  kwargs['lwork'] = ret[-2][0].real.astype(numpy.int)\n"
     ]
    },
    {
     "name": "stdout",
     "output_type": "stream",
     "text": [
      "Applying NMF for k=8 ...\n"
     ]
    },
    {
     "name": "stderr",
     "output_type": "stream",
     "text": [
      "C:\\Users\\Vaibhav\\anaconda3\\lib\\site-packages\\scipy\\linalg\\decomp_qr.py:20: DeprecationWarning: `np.int` is a deprecated alias for the builtin `int`. To silence this warning, use `int` by itself. Doing this will not modify any behavior and is safe. When replacing `np.int`, you may wish to use e.g. `np.int64` or `np.int32` to specify the precision. If you wish to review your current use, check the release note link for additional information.\n",
      "Deprecated in NumPy 1.20; for more details and guidance: https://numpy.org/devdocs/release/1.20.0-notes.html#deprecations\n",
      "  kwargs['lwork'] = ret[-2][0].real.astype(numpy.int)\n",
      "C:\\Users\\Vaibhav\\anaconda3\\lib\\site-packages\\scipy\\linalg\\decomp_qr.py:20: DeprecationWarning: `np.int` is a deprecated alias for the builtin `int`. To silence this warning, use `int` by itself. Doing this will not modify any behavior and is safe. When replacing `np.int`, you may wish to use e.g. `np.int64` or `np.int32` to specify the precision. If you wish to review your current use, check the release note link for additional information.\n",
      "Deprecated in NumPy 1.20; for more details and guidance: https://numpy.org/devdocs/release/1.20.0-notes.html#deprecations\n",
      "  kwargs['lwork'] = ret[-2][0].real.astype(numpy.int)\n"
     ]
    }
   ],
   "source": [
    "\n",
    "from sklearn import decomposition\n",
    "topic_models = []\n",
    "# try each value of k\n",
    "for k in range(kmin,kmax+1):\n",
    "    print(\"Applying NMF for k=%d ...\" % k )\n",
    "    # run NMF\n",
    "    model = decomposition.NMF( init=\"nndsvd\", n_components=k ) \n",
    "    W = model.fit_transform( A )\n",
    "    H = model.components_    \n",
    "    # store for later\n",
    "    topic_models.append( (k,W,H) )"
   ]
  },
  {
   "cell_type": "code",
   "execution_count": 69,
   "id": "4f1b0a68",
   "metadata": {},
   "outputs": [
    {
     "name": "stderr",
     "output_type": "stream",
     "text": [
      "C:\\Users\\Vaibhav\\anaconda3\\lib\\site-packages\\ipykernel\\ipkernel.py:287: DeprecationWarning: `should_run_async` will not call `transform_cell` automatically in the future. Please pass the result to `transformed_cell` argument and any exception that happen during thetransform in `preprocessing_exc_tuple` in IPython 7.17 and above.\n",
      "  and should_run_async(code)\n"
     ]
    }
   ],
   "source": [
    "import re\n",
    "class TokenGenerator:\n",
    "    def __init__( self, documents, stopwords ):\n",
    "        self.documents = documents\n",
    "        self.stopwords = stopwords\n",
    "        self.tokenizer = re.compile( r\"(?u)\\b\\w\\w+\\b\" )\n",
    "\n",
    "    def __iter__( self ):\n",
    "        print(\"Building Word2Vec model ...\")\n",
    "        for doc in self.documents:\n",
    "            tokens = []\n",
    "            for tok in self.tokenizer.findall( doc ):\n",
    "                if tok in self.stopwords:\n",
    "                    tokens.append( \"<stopword>\" )\n",
    "                elif len(tok) >= 2:\n",
    "                    tokens.append( tok )\n",
    "            yield tokens"
   ]
  },
  {
   "cell_type": "code",
   "execution_count": 72,
   "id": "09503e13",
   "metadata": {},
   "outputs": [
    {
     "name": "stderr",
     "output_type": "stream",
     "text": [
      "C:\\Users\\Vaibhav\\anaconda3\\lib\\site-packages\\ipykernel\\ipkernel.py:287: DeprecationWarning: `should_run_async` will not call `transform_cell` automatically in the future. Please pass the result to `transformed_cell` argument and any exception that happen during thetransform in `preprocessing_exc_tuple` in IPython 7.17 and above.\n",
      "  and should_run_async(code)\n"
     ]
    },
    {
     "name": "stdout",
     "output_type": "stream",
     "text": [
      "Building Word2Vec model ...\n",
      "Building Word2Vec model ...\n",
      "Building Word2Vec model ...\n",
      "Building Word2Vec model ...\n",
      "Building Word2Vec model ...\n",
      "Building Word2Vec model ...\n"
     ]
    }
   ],
   "source": [
    "import gensim\n",
    "docgen = TokenGenerator(raw_documents, stop_words )\n",
    "w2v_model = gensim.models.Word2Vec(docgen,min_count=20)"
   ]
  },
  {
   "cell_type": "code",
   "execution_count": 73,
   "id": "1c6048f1",
   "metadata": {},
   "outputs": [
    {
     "name": "stderr",
     "output_type": "stream",
     "text": [
      "C:\\Users\\Vaibhav\\anaconda3\\lib\\site-packages\\ipykernel\\ipkernel.py:287: DeprecationWarning: `should_run_async` will not call `transform_cell` automatically in the future. Please pass the result to `transformed_cell` argument and any exception that happen during thetransform in `preprocessing_exc_tuple` in IPython 7.17 and above.\n",
      "  and should_run_async(code)\n"
     ]
    }
   ],
   "source": [
    "\n",
    "def calculate_coherence( w2v_model, term_rankings ):\n",
    "    overall_coherence = 0.0\n",
    "    for topic_index in range(len(term_rankings)):\n",
    "        # check each pair of terms\n",
    "        pair_scores = []\n",
    "        for pair in combinations( term_rankings[topic_index], 2 ):\n",
    "            pair_scores.append( w2v_model.similarity(pair[0], pair[1]))\n",
    "        # get the mean for all pairs in this topic\n",
    "        topic_score = sum(pair_scores) / len(pair_scores)\n",
    "        overall_coherence += topic_score\n",
    "    # get the mean score across all topics\n",
    "    return overall_coherence / len(term_rankings)"
   ]
  },
  {
   "cell_type": "code",
   "execution_count": 74,
   "id": "aae75ff7",
   "metadata": {},
   "outputs": [
    {
     "name": "stderr",
     "output_type": "stream",
     "text": [
      "C:\\Users\\Vaibhav\\anaconda3\\lib\\site-packages\\ipykernel\\ipkernel.py:287: DeprecationWarning: `should_run_async` will not call `transform_cell` automatically in the future. Please pass the result to `transformed_cell` argument and any exception that happen during thetransform in `preprocessing_exc_tuple` in IPython 7.17 and above.\n",
      "  and should_run_async(code)\n"
     ]
    }
   ],
   "source": [
    "\n",
    "import numpy as np\n",
    "def get_descriptor( all_terms, H, topic_index, top ):\n",
    "    # reverse sort the values to sort the indices\n",
    "    top_indices = np.argsort( H[topic_index,:] )[::-1]\n",
    "    # now get the terms corresponding to the top-ranked indices\n",
    "    top_terms = []\n",
    "    for term_index in top_indices[0:top]:\n",
    "        top_terms.append( all_terms[term_index] )\n",
    "    return top_terms"
   ]
  },
  {
   "cell_type": "code",
   "execution_count": 77,
   "id": "a297bdfa",
   "metadata": {},
   "outputs": [
    {
     "name": "stderr",
     "output_type": "stream",
     "text": [
      "C:\\Users\\Vaibhav\\anaconda3\\lib\\site-packages\\ipykernel\\ipkernel.py:287: DeprecationWarning: `should_run_async` will not call `transform_cell` automatically in the future. Please pass the result to `transformed_cell` argument and any exception that happen during thetransform in `preprocessing_exc_tuple` in IPython 7.17 and above.\n",
      "  and should_run_async(code)\n"
     ]
    }
   ],
   "source": [
    "lsimodel = LsiModel(corpus=corpus, num_topics=5, id2word=id2word)\n",
    "lsitopics = lsimodel.show_topics(formatted=False)"
   ]
  },
  {
   "cell_type": "code",
   "execution_count": 78,
   "id": "5fa8cdca",
   "metadata": {},
   "outputs": [
    {
     "name": "stderr",
     "output_type": "stream",
     "text": [
      "C:\\Users\\Vaibhav\\anaconda3\\lib\\site-packages\\ipykernel\\ipkernel.py:287: DeprecationWarning: `should_run_async` will not call `transform_cell` automatically in the future. Please pass the result to `transformed_cell` argument and any exception that happen during thetransform in `preprocessing_exc_tuple` in IPython 7.17 and above.\n",
      "  and should_run_async(code)\n"
     ]
    }
   ],
   "source": [
    "\n",
    "ldatopics = lda_model.show_topics(formatted=False)\n",
    "lsitopics = [[word for word, prob in topic] for topicid, topic in lsitopics]\n",
    "\n",
    "hdptopics = [[word for word, prob in topic] for topicid, topic in hdptopics]\n",
    "\n",
    "ldatopics = [[word for word, prob in topic] for topicid, topic in ldatopics]"
   ]
  },
  {
   "cell_type": "code",
   "execution_count": 80,
   "id": "1bb16052",
   "metadata": {},
   "outputs": [
    {
     "name": "stderr",
     "output_type": "stream",
     "text": [
      "C:\\Users\\Vaibhav\\anaconda3\\lib\\site-packages\\ipykernel\\ipkernel.py:287: DeprecationWarning: `should_run_async` will not call `transform_cell` automatically in the future. Please pass the result to `transformed_cell` argument and any exception that happen during thetransform in `preprocessing_exc_tuple` in IPython 7.17 and above.\n",
      "  and should_run_async(code)\n"
     ]
    }
   ],
   "source": [
    "\n",
    "lsi_coherence = CoherenceModel(topics=lsitopics[:10], texts=data_lemmatized, dictionary=id2word, window_size=10).get_coherence()\n",
    "\n",
    "hdp_coherence = CoherenceModel(topics=hdptopics[:10], texts=data_lemmatized, dictionary=id2word, window_size=10).get_coherence()\n",
    "\n",
    "lda_coherence = CoherenceModel(topics=ldatopics, texts=data_lemmatized, dictionary=id2word, window_size=10).get_coherence()"
   ]
  },
  {
   "cell_type": "code",
   "execution_count": 81,
   "id": "b30f4a8e",
   "metadata": {},
   "outputs": [
    {
     "name": "stderr",
     "output_type": "stream",
     "text": [
      "C:\\Users\\Vaibhav\\anaconda3\\lib\\site-packages\\ipykernel\\ipkernel.py:287: DeprecationWarning: `should_run_async` will not call `transform_cell` automatically in the future. Please pass the result to `transformed_cell` argument and any exception that happen during thetransform in `preprocessing_exc_tuple` in IPython 7.17 and above.\n",
      "  and should_run_async(code)\n"
     ]
    }
   ],
   "source": [
    "\n",
    "def evaluate_bar_graph(coherences, indices):\n",
    "    assert len(coherences) == len(indices)\n",
    "    n = len(coherences)\n",
    "    x = np.arange(n)\n",
    "    plt.figure(figsize=(12,12))\n",
    "    plt.bar(x, coherences, width=0.2, tick_label=indices, align='center')\n",
    "    plt.xlabel('Models')\n",
    "    plt.ylabel('Coherence Value')"
   ]
  },
  {
   "cell_type": "code",
   "execution_count": 82,
   "id": "33cfdf62",
   "metadata": {},
   "outputs": [
    {
     "name": "stderr",
     "output_type": "stream",
     "text": [
      "C:\\Users\\Vaibhav\\anaconda3\\lib\\site-packages\\ipykernel\\ipkernel.py:287: DeprecationWarning: `should_run_async` will not call `transform_cell` automatically in the future. Please pass the result to `transformed_cell` argument and any exception that happen during thetransform in `preprocessing_exc_tuple` in IPython 7.17 and above.\n",
      "  and should_run_async(code)\n"
     ]
    },
    {
     "data": {
      "image/png": "[encoded data removed]",
      "text/plain": [
       "<Figure size 864x864 with 1 Axes>"
      ]
     },
     "metadata": {},
     "output_type": "display_data"
    }
   ],
   "source": [
    "\n",
    "evaluate_bar_graph([lsi_coherence, hdp_coherence, lda_coherence],\n",
    "                   ['LSI', 'HDP', 'LDA'])"
   ]
  },
  {
   "cell_type": "markdown",
   "id": "b5dfce9f",
   "metadata": {},
   "source": [
    "###\n",
    "The NMF model has the highest coherence score(not in the plot above -- NMF = .9).\n",
    "Conclusion\n",
    "The idea of this notebook was to implement the widely used topic modeling techniques and compare. Although NMF gave the highest coherence score, LDA is the most used technique and considered to be consistent as it is likely to provide more \"coherent\" topics. NMF performs better where the topic probabilities should remain fixed per document. HDP on the other hand is less preferred since the number of topics is not determined in prior and hence used rarely.¶\n",
    "Of course, it depends on the dataset but to check for your own set of documents, fork the notebook and play around. Share your thoughts & upvote if you found the kernel useful."
   ]
  },
  {
   "cell_type": "code",
   "execution_count": null,
   "id": "ad66b828",
   "metadata": {},
   "outputs": [],
   "source": []
  }
 ],
 "metadata": {
  "kernelspec": {
   "display_name": "Python 3",
   "language": "python",
   "name": "python3"
  },
  "language_info": {
   "codemirror_mode": {
    "name": "ipython",
    "version": 3
   },
   "file_extension": ".py",
   "mimetype": "text/x-python",
   "name": "python",
   "nbconvert_exporter": "python",
   "pygments_lexer": "ipython3",
   "version": "3.8.8"
  }
 },
 "nbformat": 4,
 "nbformat_minor": 5
}
